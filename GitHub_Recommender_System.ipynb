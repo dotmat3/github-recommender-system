{
  "nbformat": 4,
  "nbformat_minor": 0,
  "metadata": {
    "colab": {
      "name": "GitHub Recommender System.ipynb",
      "provenance": [],
      "collapsed_sections": [
        "ZimRQ6bDhwxq",
        "fyNsHIX5RfDq",
        "VUvkdfkzR0mG",
        "NyevOIbNR_MV",
        "50MrrbK8SWqr",
        "buN6VH9wSob8",
        "RMnFuercTJ-X",
        "mikzAWuPTNSt",
        "5PhVpiHxTgEj",
        "nK76EJpUUK1w",
        "TpnWv_DUUOzK",
        "FBHXoxozU4Rd",
        "AMQAVIHskbDP",
        "xfYTQXtZDt-j",
        "bUmyPtqPZIoG",
        "w7PDH4KYZkvC",
        "dYjw1Hp0h0xc",
        "Iopwhnx7j3r8",
        "WI9RtuGdwp6O",
        "WfDKiOJpH34F",
        "mSegmhjq4LJJ"
      ],
      "toc_visible": true
    },
    "kernelspec": {
      "display_name": "Python 3",
      "name": "python3"
    },
    "language_info": {
      "name": "python"
    }
  },
  "cells": [
    {
      "cell_type": "markdown",
      "metadata": {
        "id": "ZimRQ6bDhwxq"
      },
      "source": [
        "# Colab requirements for PySpark\n",
        "In this block of code we setup everything needed to run PySpark on Colab."
      ]
    },
    {
      "cell_type": "code",
      "metadata": {
        "colab": {
          "base_uri": "https://localhost:8080/"
        },
        "id": "ZLLBm9xgYhvL",
        "outputId": "854c0ad9-2f62-4b9c-e7a9-62329d0b25dd"
      },
      "source": [
        "# Install Java\n",
        "!apt-get install openjdk-8-jdk-headless -qq > /dev/null\n",
        "\n",
        "# Install Spark\n",
        "!wget -q https://downloads.apache.org/spark/spark-3.1.2/spark-3.1.2-bin-hadoop3.2.tgz\n",
        "\n",
        "# Unzip Spark to the current folder\n",
        "!tar xf spark-3.1.2-bin-hadoop3.2.tgz\n",
        "\n",
        "# Set Spark folder in the system path environment\n",
        "import os\n",
        "os.environ[\"JAVA_HOME\"] = \"/usr/lib/jvm/java-8-openjdk-amd64\"\n",
        "os.environ[\"SPARK_HOME\"] = \"/content/spark-3.1.2-bin-hadoop3.2\"\n",
        "\n",
        "# Install findspark and PySpark using pip\n",
        "!pip install -q findspark\n",
        "!pip install pyspark\n",
        "\n",
        "# Set the dataset file paths\n",
        "users_path = \"users.csv\"\n",
        "repos_path = \"repos.csv\"\n",
        "starred_path = \"starred.csv\""
      ],
      "execution_count": null,
      "outputs": [
        {
          "output_type": "stream",
          "text": [
            "Collecting pyspark\n",
            "  Downloading pyspark-3.1.2.tar.gz (212.4 MB)\n",
            "\u001b[K     |████████████████████████████████| 212.4 MB 67 kB/s \n",
            "\u001b[?25hCollecting py4j==0.10.9\n",
            "  Downloading py4j-0.10.9-py2.py3-none-any.whl (198 kB)\n",
            "\u001b[K     |████████████████████████████████| 198 kB 47.8 MB/s \n",
            "\u001b[?25hBuilding wheels for collected packages: pyspark\n",
            "  Building wheel for pyspark (setup.py) ... \u001b[?25l\u001b[?25hdone\n",
            "  Created wheel for pyspark: filename=pyspark-3.1.2-py2.py3-none-any.whl size=212880768 sha256=9802d919bd509520b5978b75be98e87e732c492d8d6f0b3852ca26c738b6e400\n",
            "  Stored in directory: /root/.cache/pip/wheels/a5/0a/c1/9561f6fecb759579a7d863dcd846daaa95f598744e71b02c77\n",
            "Successfully built pyspark\n",
            "Installing collected packages: py4j, pyspark\n",
            "Successfully installed py4j-0.10.9 pyspark-3.1.2\n"
          ],
          "name": "stdout"
        }
      ]
    },
    {
      "cell_type": "markdown",
      "metadata": {
        "id": "fyNsHIX5RfDq"
      },
      "source": [
        "# Setup\n",
        "In this section, we download the dataset, we import all the libraries used for this project and we setup a Spark instance."
      ]
    },
    {
      "cell_type": "code",
      "metadata": {
        "id": "qlblO4jIv6kf"
      },
      "source": [
        "import matplotlib.pyplot as plt\n",
        "import seaborn as sns\n",
        "\n",
        "from IPython.display import HTML"
      ],
      "execution_count": null,
      "outputs": []
    },
    {
      "cell_type": "code",
      "metadata": {
        "cellView": "form",
        "colab": {
          "base_uri": "https://localhost:8080/"
        },
        "id": "jfABgWsLbZN7",
        "outputId": "6d9cdaa4-a2f5-4249-c300-942fb52e9204"
      },
      "source": [
        "#@title Download dataset from Google Drive\n",
        "from google_drive_downloader import GoogleDriveDownloader as gdd\n",
        "import os\n",
        "datasets = {\n",
        "  \"repos.csv\": \"13fZqmFP9Nfhu_dk59BJ5hooF3kVsJ39j\",\n",
        "  \"starred.csv\": \"1j_FxOFKVobYBc_wwoVRs9mGLO3cNj5Kc\",\n",
        "  \"users.csv\": \"18IDJA55jM_lo2M4pTTToxcGngdnRPgPO\"\n",
        "}\n",
        "for name, file_id in datasets.items():\n",
        "  if not os.path.isfile(\"/content/\" + name):\n",
        "    gdd.download_file_from_google_drive(file_id=file_id, dest_path=\"/content/\" + name, unzip=False)\n",
        "  else:\n",
        "    print(name + \" already downloaded.\")"
      ],
      "execution_count": null,
      "outputs": [
        {
          "output_type": "stream",
          "text": [
            "Downloading 13fZqmFP9Nfhu_dk59BJ5hooF3kVsJ39j into /content/repos.csv... Done.\n",
            "Downloading 1j_FxOFKVobYBc_wwoVRs9mGLO3cNj5Kc into /content/starred.csv... Done.\n",
            "Downloading 18IDJA55jM_lo2M4pTTToxcGngdnRPgPO into /content/users.csv... Done.\n"
          ],
          "name": "stdout"
        }
      ]
    },
    {
      "cell_type": "code",
      "metadata": {
        "colab": {
          "base_uri": "https://localhost:8080/"
        },
        "id": "kpXJbu87QRjt",
        "outputId": "aa285256-1c35-4fe8-89f8-2670072d90b8"
      },
      "source": [
        "import findspark\n",
        "findspark.init()\n",
        "\n",
        "from pyspark.sql import SparkSession\n",
        "spark = (SparkSession.builder\n",
        "         .master(\"local[*]\")\n",
        "         .appName(\"GitHub Recommender System\")\n",
        "         .config(\"spark.ui.port\", \"4050\")\n",
        "         .config(\"spark.driver.memory\", \"8g\")\n",
        "         .config(\"spark.sql.shuffle.partitions\", 2)\n",
        "         .getOrCreate())\n",
        "\n",
        "from pyspark.sql import *\n",
        "from pyspark.sql.types import *\n",
        "from pyspark.sql.functions import *\n",
        "\n",
        "spark.getActiveSession()"
      ],
      "execution_count": null,
      "outputs": [
        {
          "output_type": "execute_result",
          "data": {
            "text/html": [
              "\n",
              "            <div>\n",
              "                <p><b>SparkSession - in-memory</b></p>\n",
              "                \n",
              "        <div>\n",
              "            <p><b>SparkContext</b></p>\n",
              "\n",
              "            <p><a href=\"http://c1cffba48eb9:4050\">Spark UI</a></p>\n",
              "\n",
              "            <dl>\n",
              "              <dt>Version</dt>\n",
              "                <dd><code>v3.1.2</code></dd>\n",
              "              <dt>Master</dt>\n",
              "                <dd><code>local[*]</code></dd>\n",
              "              <dt>AppName</dt>\n",
              "                <dd><code>GitHub Recommender System</code></dd>\n",
              "            </dl>\n",
              "        </div>\n",
              "        \n",
              "            </div>\n",
              "        "
            ],
            "text/plain": [
              "<pyspark.sql.session.SparkSession at 0x7f783d382750>"
            ]
          },
          "metadata": {},
          "execution_count": 4
        }
      ]
    },
    {
      "cell_type": "markdown",
      "metadata": {
        "id": "_atfLeMguoU0"
      },
      "source": [
        "## Expose the Spark Web UI"
      ]
    },
    {
      "cell_type": "code",
      "metadata": {
        "id": "LaiRu3YEoze6"
      },
      "source": [
        "# Install ngrok\n",
        "# !wget -nc https://bin.equinox.io/c/4VmDzA7iaHb/ngrok-stable-linux-amd64.zip\n",
        "# !unzip -n ngrok-stable-linux-amd64.zip\n",
        "# get_ipython().system_raw(\"./ngrok http 4050 &\")\n",
        "\n",
        "# # Wait that the process starts\n",
        "# import time\n",
        "# time.sleep(2)\n",
        "\n",
        "# # Retrieve Spark UI link\n",
        "# import requests\n",
        "# print(\"Spark UI link:\", requests.get(\"http://localhost:4040/api/tunnels\").json()[\"tunnels\"][0][\"public_url\"])"
      ],
      "execution_count": null,
      "outputs": []
    },
    {
      "cell_type": "markdown",
      "metadata": {
        "id": "VUvkdfkzR0mG"
      },
      "source": [
        "# Load Dataset\n",
        "In this section we load the dataset which was self-collected.\n",
        "It contains information about GitHub repositories and users.\n",
        "\n",
        "For this project we focused in building a recommender system for repositories, which leverages the implicit feedback given by a user when he stars a repository."
      ]
    },
    {
      "cell_type": "code",
      "metadata": {
        "id": "dAnBJSa3R1oC"
      },
      "source": [
        "users_df = spark.read.load(users_path, format=\"csv\", sep=\",\", inferSchema=\"true\", header=\"true\")\n",
        "repos_df = spark.read.load(repos_path, format=\"csv\", sep=\",\", inferSchema=\"true\", header=\"true\", quotes='\"', escape='\"')\n",
        "starred_df = spark.read.load(starred_path, format=\"csv\", sep=\",\", inferSchema=\"true\", header=\"true\")"
      ],
      "execution_count": null,
      "outputs": []
    },
    {
      "cell_type": "markdown",
      "metadata": {
        "id": "9QT91Z59gRbW"
      },
      "source": [
        "These are some examples of the content of the dataset:"
      ]
    },
    {
      "cell_type": "code",
      "metadata": {
        "colab": {
          "base_uri": "https://localhost:8080/"
        },
        "id": "lOQ06EaIR5re",
        "outputId": "43c71277-1552-477e-f401-9bec34bfe9db"
      },
      "source": [
        "users_df.show(5)\n",
        "repos_df.show(5)\n",
        "starred_df.show(5)"
      ],
      "execution_count": null,
      "outputs": [
        {
          "output_type": "stream",
          "text": [
            "+-------+-----------------+\n",
            "|user_id|             name|\n",
            "+-------+-----------------+\n",
            "|      0|EliveltonSouzaDev|\n",
            "|      1|      Ersonusaini|\n",
            "|      2|          harixth|\n",
            "|      3|        Luckyanry|\n",
            "|      4|       biroltopuz|\n",
            "+-------+-----------------+\n",
            "only showing top 5 rows\n",
            "\n",
            "+-------+-----------------+-----------------+--------------------+----------+------+-----+-------------------+-------+\n",
            "|repo_id|          creator|             name|               about|  language| stars|forks|            updated|sponsor|\n",
            "+-------+-----------------+-----------------+--------------------+----------+------+-----+-------------------+-------+\n",
            "|      0|styled-components|styled-components|Visual primitives...|TypeScript| 33940| 2084|2021-06-16 19:12:26|      0|\n",
            "|      1|           vercel|          next.js| The React Framework|JavaScript| 69687|13111|2021-06-22 07:49:26|      0|\n",
            "|      2|         facebook|            react|A declarative, ef...|JavaScript|170264|34406|2021-06-22 06:08:58|      0|\n",
            "|      3|         rebassjs|           rebass|⚛️ React primitiv...|JavaScript|  7360|  603|2021-06-08 20:47:06|      0|\n",
            "|      4|    rafaballerini|    rafaballerini|                null|      null|   208|  473|2021-06-22 01:28:02|      0|\n",
            "+-------+-----------------+-----------------+--------------------+----------+------+-----+-------------------+-------+\n",
            "only showing top 5 rows\n",
            "\n",
            "+-------+-------+\n",
            "|user_id|repo_id|\n",
            "+-------+-------+\n",
            "|      0|      0|\n",
            "|      0|      1|\n",
            "|      0|      2|\n",
            "|      0|      3|\n",
            "|      0|      4|\n",
            "+-------+-------+\n",
            "only showing top 5 rows\n",
            "\n"
          ],
          "name": "stdout"
        }
      ]
    },
    {
      "cell_type": "markdown",
      "metadata": {
        "id": "NyevOIbNR_MV"
      },
      "source": [
        "# Check Dataset\n",
        "In this section we inspect the dataset to gain some information.\n",
        "\n",
        "In the following block is reported the structure of each dataframe:"
      ]
    },
    {
      "cell_type": "code",
      "metadata": {
        "colab": {
          "base_uri": "https://localhost:8080/"
        },
        "id": "ibv1-rcGSAj9",
        "outputId": "c93709a6-48e7-4e04-971f-4e03fe409314"
      },
      "source": [
        "users_df.printSchema()\n",
        "repos_df.printSchema()\n",
        "starred_df.printSchema()"
      ],
      "execution_count": null,
      "outputs": [
        {
          "output_type": "stream",
          "text": [
            "root\n",
            " |-- user_id: integer (nullable = true)\n",
            " |-- name: string (nullable = true)\n",
            "\n",
            "root\n",
            " |-- repo_id: integer (nullable = true)\n",
            " |-- creator: string (nullable = true)\n",
            " |-- name: string (nullable = true)\n",
            " |-- about: string (nullable = true)\n",
            " |-- language: string (nullable = true)\n",
            " |-- stars: integer (nullable = true)\n",
            " |-- forks: integer (nullable = true)\n",
            " |-- updated: timestamp (nullable = true)\n",
            " |-- sponsor: integer (nullable = true)\n",
            "\n",
            "root\n",
            " |-- user_id: integer (nullable = true)\n",
            " |-- repo_id: integer (nullable = true)\n",
            "\n"
          ],
          "name": "stdout"
        }
      ]
    },
    {
      "cell_type": "markdown",
      "metadata": {
        "id": "50MrrbK8SWqr"
      },
      "source": [
        "## Handle missing values"
      ]
    },
    {
      "cell_type": "markdown",
      "metadata": {
        "id": "8I0Q7spihDYi"
      },
      "source": [
        "Let's check if there are missing values in each dataframe:"
      ]
    },
    {
      "cell_type": "code",
      "metadata": {
        "colab": {
          "base_uri": "https://localhost:8080/"
        },
        "id": "hsMzBEG-Scbw",
        "outputId": "694db29f-7bb6-46fe-ff71-7a8ab5cdf1d9"
      },
      "source": [
        "users_df.select([count(when(col(c).isNull(), c)).alias(c) for c in users_df.columns]).show()\n",
        "repos_df.select([count(when(col(c).isNull(), c)).alias(c) for c in repos_df.columns]).show()\n",
        "starred_df.select([count(when(col(c).isNull(), c)).alias(c) for c in starred_df.columns]).show()"
      ],
      "execution_count": null,
      "outputs": [
        {
          "output_type": "stream",
          "text": [
            "+-------+----+\n",
            "|user_id|name|\n",
            "+-------+----+\n",
            "|      0|   0|\n",
            "+-------+----+\n",
            "\n",
            "+-------+-------+----+-----+--------+-----+-----+-------+-------+\n",
            "|repo_id|creator|name|about|language|stars|forks|updated|sponsor|\n",
            "+-------+-------+----+-----+--------+-----+-----+-------+-------+\n",
            "|      0|      0|   0|36083|   28039|    0|72874|      0|      0|\n",
            "+-------+-------+----+-----+--------+-----+-----+-------+-------+\n",
            "\n",
            "+-------+-------+\n",
            "|user_id|repo_id|\n",
            "+-------+-------+\n",
            "|      0|      0|\n",
            "+-------+-------+\n",
            "\n"
          ],
          "name": "stdout"
        }
      ]
    },
    {
      "cell_type": "markdown",
      "metadata": {
        "id": "gofAKqEPSgrf"
      },
      "source": [
        "When the forks value is missing it means that the repo doesn't have any fork. So, we can simply set those values to 0."
      ]
    },
    {
      "cell_type": "code",
      "metadata": {
        "colab": {
          "base_uri": "https://localhost:8080/"
        },
        "id": "sT1bEAG8SePA",
        "outputId": "43e5f358-e4b2-494a-dc8c-77c1fc733c0e"
      },
      "source": [
        "repos_df = repos_df.na.fill(0)\n",
        "repos_df.select([count(when(col(c).isNull(), c)).alias(c) for c in repos_df.columns]).show()"
      ],
      "execution_count": null,
      "outputs": [
        {
          "output_type": "stream",
          "text": [
            "+-------+-------+----+-----+--------+-----+-----+-------+-------+\n",
            "|repo_id|creator|name|about|language|stars|forks|updated|sponsor|\n",
            "+-------+-------+----+-----+--------+-----+-----+-------+-------+\n",
            "|      0|      0|   0|36083|   28039|    0|    0|      0|      0|\n",
            "+-------+-------+----+-----+--------+-----+-----+-------+-------+\n",
            "\n"
          ],
          "name": "stdout"
        }
      ]
    },
    {
      "cell_type": "markdown",
      "metadata": {
        "id": "CJM5cZftSlNM"
      },
      "source": [
        "Regarding the language attribute, GitHub will not report the language attribute of a repo when it doesn't know which language was used (maybe the repo doesn't contain any code but just simple text).\n",
        "\n",
        "Instead, the about attribute will be `null` when the creator of the repo didn't provide any description about the repository.\n",
        "\n",
        "As a solution, we can create a default value for both: for the language we can create a special class called `UNK`, representing that we don't know the language of the repo; instead, for the about attribute, we can simply assign an empty string to the null values to handle them in the same way as the other ones."
      ]
    },
    {
      "cell_type": "code",
      "metadata": {
        "colab": {
          "base_uri": "https://localhost:8080/"
        },
        "id": "Xvag6nFmSjV6",
        "outputId": "4a5ad7f5-494a-4f68-8244-8c2e5b7731cd"
      },
      "source": [
        "repos_df = repos_df.na.fill(\"\", \"about\")\n",
        "repos_df = repos_df.na.fill(\"UNK\", \"language\")\n",
        "repos_df.select([count(when(col(c).isNull(), c)).alias(c) for c in repos_df.columns]).show()"
      ],
      "execution_count": null,
      "outputs": [
        {
          "output_type": "stream",
          "text": [
            "+-------+-------+----+-----+--------+-----+-----+-------+-------+\n",
            "|repo_id|creator|name|about|language|stars|forks|updated|sponsor|\n",
            "+-------+-------+----+-----+--------+-----+-----+-------+-------+\n",
            "|      0|      0|   0|    0|       0|    0|    0|      0|      0|\n",
            "+-------+-------+----+-----+--------+-----+-----+-------+-------+\n",
            "\n"
          ],
          "name": "stdout"
        }
      ]
    },
    {
      "cell_type": "markdown",
      "metadata": {
        "id": "buN6VH9wSob8"
      },
      "source": [
        "## Check duplicates\n",
        "\n",
        "Now we can inspect the dataset in order to check if there are any duplicates.\n",
        "\n",
        "First of all, let's report the total number of records for each dataframe."
      ]
    },
    {
      "cell_type": "code",
      "metadata": {
        "colab": {
          "base_uri": "https://localhost:8080/"
        },
        "id": "bgwYjyX0SnA9",
        "outputId": "998014a2-5e1f-4568-ed75-006fecfa4ad4"
      },
      "source": [
        "print(\"Number of records for users.csv:\", users_df.count())\n",
        "print(\"Number of records for repos.csv:\", repos_df.count())\n",
        "print(\"Number of records for starred.csv:\", starred_df.count())"
      ],
      "execution_count": null,
      "outputs": [
        {
          "output_type": "stream",
          "text": [
            "Number of records for users.csv: 10000\n",
            "Number of records for repos.csv: 354981\n",
            "Number of records for starred.csv: 1083195\n"
          ],
          "name": "stdout"
        }
      ]
    },
    {
      "cell_type": "markdown",
      "metadata": {
        "id": "tQqhPc3gS5Y_"
      },
      "source": [
        "Now, using the `distinct()` method offered by PySpark we can count the number of distinct values, using the id of each dataframe."
      ]
    },
    {
      "cell_type": "code",
      "metadata": {
        "colab": {
          "base_uri": "https://localhost:8080/"
        },
        "id": "1Lorn6PgS5wc",
        "outputId": "28a648ef-6a69-4fd9-b124-3bcc076a7115"
      },
      "source": [
        "print(\"Number of distinct records for users.csv:\", users_df.select(\"user_id\").distinct().count())\n",
        "print(\"Number of distinct records for repos.csv:\", repos_df.select(\"repo_id\").distinct().count())\n",
        "print(\"Number of distinct records for starred.csv:\", starred_df.select(\"user_id\", \"repo_id\").distinct().count())"
      ],
      "execution_count": null,
      "outputs": [
        {
          "output_type": "stream",
          "text": [
            "Number of distinct records for users.csv: 10000\n",
            "Number of distinct records for repos.csv: 354981\n",
            "Number of distinct records for starred.csv: 1083195\n"
          ],
          "name": "stdout"
        }
      ]
    },
    {
      "cell_type": "markdown",
      "metadata": {
        "id": "p4trlRKkTAkv"
      },
      "source": [
        "As we can see from the results, the values are the same of the total number of records for each dataframe, this means that there are no duplicates.\n",
        "\n",
        "Moreover, we can also see if we have any duplicated user or repo using their name."
      ]
    },
    {
      "cell_type": "code",
      "metadata": {
        "colab": {
          "base_uri": "https://localhost:8080/"
        },
        "id": "b04venYiTBMn",
        "outputId": "a7be3aeb-4fa6-4dbc-f0bb-232a76220c38"
      },
      "source": [
        "print(\"Number of distinct names for users.csv:\", users_df.select(\"name\").distinct().count())\n",
        "print(\"Number of distinct repo name for repos.csv:\", repos_df.select(\"creator\", \"name\").distinct().count())"
      ],
      "execution_count": null,
      "outputs": [
        {
          "output_type": "stream",
          "text": [
            "Number of distinct names for users.csv: 10000\n",
            "Number of distinct repo name for repos.csv: 354981\n"
          ],
          "name": "stdout"
        }
      ]
    },
    {
      "cell_type": "markdown",
      "metadata": {
        "id": "0rmKm3jQTFdT"
      },
      "source": [
        "But, again, the number of distinct record is the same as the total number of records. This means that all the users and repos have different names, indicating that they are different from each other."
      ]
    },
    {
      "cell_type": "markdown",
      "metadata": {
        "id": "RMnFuercTJ-X"
      },
      "source": [
        "## Describe repos data\n",
        "\n",
        "In the following block we compute some statistical indicators for some columns of the repos dataframe using the method `describe()`."
      ]
    },
    {
      "cell_type": "code",
      "metadata": {
        "colab": {
          "base_uri": "https://localhost:8080/"
        },
        "id": "qbcXwyp2TKy4",
        "outputId": "3a7b6e76-4b59-4c8a-9c44-b8836b6a8c8b"
      },
      "source": [
        "repos_df.describe([\"stars\", \"forks\", \"sponsor\"]).show()"
      ],
      "execution_count": null,
      "outputs": [
        {
          "output_type": "stream",
          "text": [
            "+-------+------------------+-----------------+--------------------+\n",
            "|summary|             stars|            forks|             sponsor|\n",
            "+-------+------------------+-----------------+--------------------+\n",
            "|  count|            354981|           354981|              354981|\n",
            "|   mean|443.86323775075283|98.75728278414901|0.053864854738704324|\n",
            "| stddev|2337.1390773287194| 807.991949927328|  0.2257511367185888|\n",
            "|    min|                 0|                0|                   0|\n",
            "|    max|            325307|           237014|                   1|\n",
            "+-------+------------------+-----------------+--------------------+\n",
            "\n"
          ],
          "name": "stdout"
        }
      ]
    },
    {
      "cell_type": "markdown",
      "metadata": {
        "id": "mikzAWuPTNSt"
      },
      "source": [
        "# Exploratory Data Analysis\n",
        "In this section we dive into the dataset in order to extract some knowledge from it and answer some interesting questions."
      ]
    },
    {
      "cell_type": "markdown",
      "metadata": {
        "id": "5PhVpiHxTgEj"
      },
      "source": [
        "## What are the most used programming languages?"
      ]
    },
    {
      "cell_type": "code",
      "metadata": {
        "colab": {
          "base_uri": "https://localhost:8080/"
        },
        "id": "rH7g58_gTdxc",
        "outputId": "c0f8a9ff-df48-4073-8ad1-3d62a3221628"
      },
      "source": [
        "n_languages = 10\n",
        "plt.figure(figsize=(15, 7))\n",
        "language_hist = repos_df.toPandas()[\"language\"].value_counts()[:n_languages]\n",
        "sns.barplot(x=language_hist.index, y=language_hist)\n",
        "plt.xticks(rotation=90)\n",
        "plt.xlabel(\"Main programming language\")\n",
        "plt.ylabel(\"Number of repos\")\n",
        "plt.show()"
      ],
      "execution_count": null,
      "outputs": [
        {
          "output_type": "display_data",
          "data": {
            "image/png": "[encoded data removed]",
            "text/plain": [
              "<Figure size 1080x504 with 1 Axes>"
            ]
          },
          "metadata": {
            "needs_background": "light"
          }
        }
      ]
    },
    {
      "cell_type": "markdown",
      "metadata": {
        "id": "rvz3fC64TyTA"
      },
      "source": [
        "## How often are repos updated?"
      ]
    },
    {
      "cell_type": "code",
      "metadata": {
        "colab": {
          "base_uri": "https://localhost:8080/"
        },
        "id": "OrxDCLHiTVpx",
        "outputId": "4b0fab49-2325-41b5-a950-17fdd46533ac"
      },
      "source": [
        "repos_with_year_df = repos_df.withColumn(\"year\", year(\"updated\"))\n",
        "number_of_repos_per_year = repos_with_year_df.groupBy(\"year\").count().orderBy(\"year\")\n",
        "\n",
        "data = number_of_repos_per_year.toPandas()\n",
        "\n",
        "plt.figure(figsize=(15, 7))\n",
        "sns.lineplot(data=data, x=\"year\", y=\"count\")\n",
        "plt.show()"
      ],
      "execution_count": null,
      "outputs": [
        {
          "output_type": "display_data",
          "data": {
            "image/png": "[encoded data removed]",
            "text/plain": [
              "<Figure size 1080x504 with 1 Axes>"
            ]
          },
          "metadata": {
            "needs_background": "light"
          }
        }
      ]
    },
    {
      "cell_type": "code",
      "metadata": {
        "colab": {
          "base_uri": "https://localhost:8080/"
        },
        "id": "YniBeO6OTPo4",
        "outputId": "2c5bdfbc-78b5-4a66-be78-5dc2b8d7245b"
      },
      "source": [
        "repos_with_month_df = repos_df.withColumn(\"year\", year(\"updated\")).withColumn(\"month\", month(\"updated\"))\n",
        "number_of_repos_per_month = repos_with_month_df.groupBy(\"year\", \"month\").count().orderBy(\"year\", \"month\")\n",
        "\n",
        "number_of_repos_per_month = number_of_repos_per_month.withColumn(\"year month\", concat(col(\"year\"), lit(\" \"), col(\"month\")))\n",
        "data = number_of_repos_per_month.toPandas()\n",
        "\n",
        "plt.figure(figsize=(15, 7))\n",
        "sns.lineplot(data=data, x=\"year month\", y=\"count\")\n",
        "startingYear, startingMonth = data.iloc[0][\"year\"], data.iloc[0][\"month\"]\n",
        "endingYear, endingMonth = data.iloc[-1][\"year\"], data.iloc[-1][\"month\"]\n",
        "\n",
        "prev_ticks, prev_labels = plt.xticks()\n",
        "\n",
        "ticks = []\n",
        "for i in range(0, (endingYear - startingYear) * 12 + 1, 12):\n",
        "  value = i + (13 - startingMonth)\n",
        "  if value > 0 and value < prev_ticks[-1]:\n",
        "    ticks.append(value)\n",
        "\n",
        "plt.xticks(ticks, labels=range(2009, 2022))\n",
        "plt.show()"
      ],
      "execution_count": null,
      "outputs": [
        {
          "output_type": "display_data",
          "data": {
            "image/png": "[encoded data removed]",
            "text/plain": [
              "<Figure size 1080x504 with 1 Axes>"
            ]
          },
          "metadata": {
            "needs_background": "light"
          }
        }
      ]
    },
    {
      "cell_type": "markdown",
      "metadata": {
        "id": "Y3T0yKVfUFuC"
      },
      "source": [
        "## What is the distribution of stars?"
      ]
    },
    {
      "cell_type": "code",
      "metadata": {
        "colab": {
          "base_uri": "https://localhost:8080/"
        },
        "id": "pgawxye_UGUI",
        "outputId": "686fadc5-7fcf-45fb-ef73-36f7a95bb387"
      },
      "source": [
        "stars_dist = repos_df.toPandas()[\"stars\"]\n",
        "stars_dist = stars_dist[stars_dist < 1_000]\n",
        "\n",
        "sns.displot(stars_dist, bins=20, height=7, aspect=15/7)\n",
        "plt.show()"
      ],
      "execution_count": null,
      "outputs": [
        {
          "output_type": "display_data",
          "data": {
            "image/png": "[encoded data removed]",
            "text/plain": [
              "<Figure size 1080x504 with 1 Axes>"
            ]
          },
          "metadata": {
            "needs_background": "light"
          }
        }
      ]
    },
    {
      "cell_type": "markdown",
      "metadata": {
        "id": "nK76EJpUUK1w"
      },
      "source": [
        "# Data preparation\n",
        "In this section we prepare the dataset in order to be processed by our models."
      ]
    },
    {
      "cell_type": "markdown",
      "metadata": {
        "id": "TpnWv_DUUOzK"
      },
      "source": [
        "## Dataset pruning\n",
        "We decided to cut the dataset into a smaller subset of samples, since we don't have enough computational power to handle the whole dataset for all the models, since we would obtain DataFrames with more than 100 billions of records for some of them. Unfortunately, neither Colab or Databricks can provide us with enough resources to process this amount of data for free."
      ]
    },
    {
      "cell_type": "code",
      "metadata": {
        "colab": {
          "base_uri": "https://localhost:8080/"
        },
        "id": "LrAylBM6Ui89",
        "outputId": "9f3133fe-6b9d-4c9b-d195-52d0202054ae"
      },
      "source": [
        "print(\"Old repos count:\", repos_df.count())\n",
        "print(\"Old users count:\", users_df.count())\n",
        "print(\"Old starred count:\", starred_df.count())"
      ],
      "execution_count": null,
      "outputs": [
        {
          "output_type": "stream",
          "text": [
            "Old repos count: 354981\n",
            "Old users count: 10000\n",
            "Old starred count: 1083195\n"
          ],
          "name": "stdout"
        }
      ]
    },
    {
      "cell_type": "markdown",
      "metadata": {
        "id": "30Xt0FFjib8-"
      },
      "source": [
        "To prune the dataset, we decided to fix the number of users and repositories that we are going to use. Then, we took the most starring users and the most starred repositories because they are the elements that can give us more information."
      ]
    },
    {
      "cell_type": "code",
      "metadata": {
        "colab": {
          "base_uri": "https://localhost:8080/"
        },
        "id": "krcRLFbBUIPa",
        "outputId": "e1501a9b-646c-4217-d791-f7fa92852f56"
      },
      "source": [
        "NEW_USER_COUNT = 1000\n",
        "NEW_REPOS_COUNT = 1000\n",
        "\n",
        "most_starring_users = starred_df.groupBy(\"user_id\").count().sort(\"count\", ascending=False).limit(NEW_USER_COUNT).select(\"user_id\")\n",
        "most_starred_repos = most_starring_users.join(starred_df, \"user_id\").groupBy(\"repo_id\").count().sort(\"count\", ascending=False).limit(NEW_REPOS_COUNT).select(\"repo_id\")\n",
        "\n",
        "new_users_df = most_starring_users.join(users_df, \"user_id\").cache()\n",
        "new_starred_df = most_starring_users.join(starred_df, \"user_id\").join(most_starred_repos, \"repo_id\").cache()\n",
        "new_repos_df = most_starred_repos.join(repos_df, \"repo_id\").cache()\n",
        "\n",
        "print(\"New repos count:\", new_repos_df.count())\n",
        "print(\"New users count:\", new_users_df.count())\n",
        "print(\"New starred count:\", new_starred_df.count())"
      ],
      "execution_count": null,
      "outputs": [
        {
          "output_type": "stream",
          "text": [
            "New repos count: 1000\n",
            "New users count: 1000\n",
            "New starred count: 104499\n"
          ],
          "name": "stdout"
        }
      ]
    },
    {
      "cell_type": "markdown",
      "metadata": {
        "id": "FBHXoxozU4Rd"
      },
      "source": [
        "## Train/Test split\n",
        "\n",
        "At this point, we can split the dataset into a training set which is going to be used for setting up our models, and a test set, which is going to be used in order to evaluate their performance.\n",
        "\n",
        "Moreover, we cache them in order to speed up future computations on them."
      ]
    },
    {
      "cell_type": "code",
      "metadata": {
        "id": "hQMetXrjUUou"
      },
      "source": [
        "train, test = new_starred_df.randomSplit([0.7, 0.3], seed=42)\n",
        "train = train.cache()\n",
        "test = test.cache()"
      ],
      "execution_count": null,
      "outputs": []
    },
    {
      "cell_type": "markdown",
      "metadata": {
        "id": "ynMjjT7mWf6R"
      },
      "source": [
        "# Models\n",
        "In this section we build the models and we evaluate them computing recommendations for all the users in the pruned dataset."
      ]
    },
    {
      "cell_type": "markdown",
      "metadata": {
        "id": "AMQAVIHskbDP"
      },
      "source": [
        "## Similarities\n",
        "\n",
        "Many models use a similarity function in order to compare elements and find the most similar ones.\n",
        "\n",
        "Here we are going to define the functions that we will use in some of them."
      ]
    },
    {
      "cell_type": "markdown",
      "metadata": {
        "id": "gaqkzEnXk0AP"
      },
      "source": [
        "### Jaccard Similarity\n",
        "\n",
        "The Jaccard Index is a similarity measure between two sets and is typically used when you want to find the similarity between two binary vectors.\n",
        "\n",
        "Given two sets $A$ and $B$, it is computed as follows:\n",
        "\n",
        "$$\n",
        "J(A,B) = \\frac{A \\cap B}{A \\cup B}\n",
        "$$"
      ]
    },
    {
      "cell_type": "code",
      "metadata": {
        "id": "ZL4EtioXk2Di"
      },
      "source": [
        "def jaccard_similarity(array1, array2):\n",
        "  array1 = set(array1)\n",
        "  array2 = set(array2)\n",
        "  return len(array1.intersection(array2)) / len(array1.union(array2))\n",
        "\n",
        "jaccard_similarity_udf = udf(jaccard_similarity, DoubleType())"
      ],
      "execution_count": null,
      "outputs": []
    },
    {
      "cell_type": "markdown",
      "metadata": {
        "id": "O_p2-9Nvl1_H"
      },
      "source": [
        "### Cosine Similarity"
      ]
    },
    {
      "cell_type": "markdown",
      "metadata": {
        "id": "aXLZZk2yl9VZ"
      },
      "source": [
        "The Cosine similarity is typically used in Information Retrieval to compare how similar are two documents.\n",
        "\n",
        "Given two vectors $u$ and $v$, the cosine similarity is defined as follows:\n",
        "\n",
        "$$\n",
        "\\cos(u,v) = \\frac{u \\cdot v}{||u||_2 ||v||_2}\n",
        "$$"
      ]
    },
    {
      "cell_type": "code",
      "metadata": {
        "id": "KC_vyFB3muOG"
      },
      "source": [
        "def cosine_similarity(u, v):\n",
        "  dot = u.dot(v)\n",
        "  len = u.norm(2) * v.norm(2)\n",
        "  if len == 0: return 0.\n",
        "  return float(dot / len)\n",
        "\n",
        "cosine_similarity_udf = udf(cosine_similarity, DoubleType())"
      ],
      "execution_count": null,
      "outputs": []
    },
    {
      "cell_type": "markdown",
      "metadata": {
        "id": "jX_FzPyMX2tW"
      },
      "source": [
        "In order to compute the personalization metric, we also derived an alternative formulation of the cosine similarity to compute it between two binary vectors expressed as lists:"
      ]
    },
    {
      "cell_type": "code",
      "metadata": {
        "id": "jm1vR3NrX0uc"
      },
      "source": [
        "from math import sqrt\n",
        "\n",
        "def cosine_similarity_lists(list1, list2):\n",
        "  set1 = set(list1)\n",
        "  set2 = set(list2)\n",
        "  return len(set1.intersection(set2)) / (sqrt(len(set1)) * (sqrt(len(set2))))\n",
        "\n",
        "cosine_similarity_lists_udf = udf(cosine_similarity_lists, DoubleType())"
      ],
      "execution_count": null,
      "outputs": []
    },
    {
      "cell_type": "markdown",
      "metadata": {
        "id": "tMbHdvF6XiAA"
      },
      "source": [
        "## Evaluation metrics\n",
        "In order to evaluate our models, we choose to use the following metrics:"
      ]
    },
    {
      "cell_type": "markdown",
      "metadata": {
        "id": "ggheU75QXptO"
      },
      "source": [
        "#### MAP@K"
      ]
    },
    {
      "cell_type": "markdown",
      "metadata": {
        "id": "NNLpXOKE5TIa"
      },
      "source": [
        "Mean Average Precision at K (MAP@K) is the mean of the Average Precision at K (AP@K) metric computed for each user. AP@K is a metric commonly used for information retrieval which takes into consideration the precision of the system and the order of the items recommended.\n",
        "\n",
        "Given that our system returns $K$ repos, where $|Rel|$ are actually relevant, and $1_{Rel}(K)$ is the indicator function that tells us if the $K$-th repo is relevant for a user $u$, AP@N is defined as:\n",
        "\n",
        "$$\n",
        "AP@N(u) = \\frac{1}{|Rel|} \\sum_{K=1}^N P@K(u) \\times 1_{Rel}(K)\n",
        "$$\n",
        "\n",
        "And so MAP@N, assuming we have $|U|$ users, can be computed as:\n",
        "$$\n",
        "MAP@N = \\frac{1}{|U|} \\sum_{u=1}^{|U|} AP@N(u)\n",
        "$$"
      ]
    },
    {
      "cell_type": "code",
      "metadata": {
        "id": "0OkVeuNkYbp8",
        "cellView": "form"
      },
      "source": [
        "k = 5 #@param {type:\"integer\"}"
      ],
      "execution_count": null,
      "outputs": []
    },
    {
      "cell_type": "code",
      "metadata": {
        "id": "0-rANKY5Xv4s"
      },
      "source": [
        "from pyspark.ml.evaluation import RankingEvaluator\n",
        "\n",
        "def map_at_k(recommendations, k):\n",
        "  evaluator = RankingEvaluator(metricName=\"meanAveragePrecisionAtK\", k=k, predictionCol=\"recommended_repos\", labelCol=\"labels\")\n",
        "  return evaluator.evaluate(recommendations)"
      ],
      "execution_count": null,
      "outputs": []
    },
    {
      "cell_type": "markdown",
      "metadata": {
        "id": "ebw4KRNMXsH9"
      },
      "source": [
        "#### Personalization\n",
        "Personalization is a metric that tells us if the recommender system produces items which are personalized for each user, or if it recommends always the same items to different users.\n",
        "\n",
        "It is defined as the average of the dissimilarity between users lists of recommendations:\n",
        "$$\n",
        "Personalization = 1 - \\left( \\frac{1}{|U|} \\sum_{u_i, u_j \\in U \\land i < j} cos(u_i, u_j) \\right)\n",
        "$$\n"
      ]
    },
    {
      "cell_type": "code",
      "metadata": {
        "id": "o78GBAO9YP-R"
      },
      "source": [
        "def personalization(recommendations):\n",
        "  target_recommendations = recommendations.withColumnRenamed(\"user_id\", \"user2_id\").withColumnRenamed(\"recommended_repos\", \"target_recommendations\")\n",
        "  cosine_matrix = recommendations.join(target_recommendations, col(\"user_id\") < col(\"user2_id\"))\n",
        "  cosine_df = cosine_matrix.withColumn(\"cosine_similarity\", cosine_similarity_lists_udf(\"recommended_repos\", \"target_recommendations\"))\n",
        "  avg_cos = cosine_df.agg(avg(\"cosine_similarity\").alias(\"avg_cos\")).collect()[0][\"avg_cos\"]\n",
        "  return 1 - avg_cos"
      ],
      "execution_count": null,
      "outputs": []
    },
    {
      "cell_type": "markdown",
      "metadata": {
        "id": "NHC7AqModP5z"
      },
      "source": [
        "### Evaluation code\n",
        "\n",
        "With the following code we compute the MAP@K for $K = 1 ... k$ and the Personalization metric for the dataframe containing the list of repos that the model recommended to each user."
      ]
    },
    {
      "cell_type": "code",
      "metadata": {
        "id": "IZ4gR5a3Z4gB"
      },
      "source": [
        "fields = [StructField(\"Model\", StringType(), False)]\n",
        "fields += [StructField(\"MAP@\" + str(i), DoubleType(), False) for i in range(1, k+1)]\n",
        "fields += [StructField(\"Personalization\", DoubleType(), False)]\n",
        "metrics_df = spark.createDataFrame([], StructType(fields))\n",
        "\n",
        "# Ground truth dataframe\n",
        "gt = test.withColumn(\"repo_id\", test.repo_id.cast(\"double\")).groupBy(\"user_id\").agg(collect_set(\"repo_id\").alias(\"labels\"))\n",
        "\n",
        "def evaluate_df(model_name, recommendations, k):\n",
        "  mapks = [map_at_k(recommendations, _k) for _k in range(1, k+1)]\n",
        "  p = personalization(recommendations)\n",
        "  schema = [\"Model\"] + [\"MAP@\" + str(i) for i in range(1, k+1)] + [\"Personalization\"]\n",
        "  data = [tuple([model_name] + mapks + [p])]\n",
        "  metrics_df = spark.createDataFrame(data, schema)\n",
        "  return metrics_df\n",
        "\n",
        "def round_df(dataframe, decimals, dtypes = [\"double\", \"float\"]):\n",
        "  return dataframe.select([round(col, decimals).alias(col) if dtype in dtypes else col for col, dtype in dataframe.dtypes])"
      ],
      "execution_count": null,
      "outputs": []
    },
    {
      "cell_type": "markdown",
      "metadata": {
        "id": "KF2vRPKZXYod"
      },
      "source": [
        "## Content-based filtering\n",
        "\n",
        "Content-based filtering is a method which uses the features of the items rated by a user in order to find out the items that are similar to those already rated by him."
      ]
    },
    {
      "cell_type": "code",
      "metadata": {
        "id": "25xypi-7DBAo",
        "cellView": "form"
      },
      "source": [
        "#@title Settings\n",
        "VOCAB_SIZE = 1000 #@param\n",
        "MIN_DOC_FREQ = 10 #@param\n",
        "N_ITEMS = 5 #@param\n",
        "\n",
        "from pyspark import StorageLevel\n",
        "\n",
        "def clean_text(df, column_name):\n",
        "    from pyspark.sql.functions import udf, col, lower, trim, regexp_replace\n",
        "    from pyspark.ml.feature import Tokenizer, StopWordsRemover\n",
        "    from nltk.stem.snowball import SnowballStemmer\n",
        "\n",
        "    lower_case_df = df.withColumn(column_name, lower(col(column_name)))\n",
        "    \n",
        "    trimmed_df = lower_case_df.withColumn(column_name, trim(col(column_name)))\n",
        "    \n",
        "    no_punct_df = trimmed_df.withColumn(column_name, regexp_replace(col(column_name), \"[^a-zA-Z\\\\s]\", \"\"))\n",
        "    \n",
        "    cleaned_df = no_punct_df.withColumn(column_name, trim(regexp_replace(col(column_name), \" +\", \" \")))\n",
        "\n",
        "    tokenizer = Tokenizer(inputCol=column_name, outputCol=\"tokens\")\n",
        "    tokens_df = tokenizer.transform(cleaned_df)\n",
        "\n",
        "    stopwords_remover = StopWordsRemover(inputCol=\"tokens\", outputCol=\"terms\")\n",
        "    terms_df = stopwords_remover.transform(tokens_df)\n",
        "\n",
        "    stemmer = SnowballStemmer(language=\"english\")\n",
        "    stemmer_udf = udf(lambda tokens: [stemmer.stem(token) for token in tokens], ArrayType(StringType()))\n",
        "    terms_stemmed_df = terms_df.withColumn(column_name, stemmer_udf(\"terms\"))\n",
        "    \n",
        "    return terms_stemmed_df.select(df.columns)\n",
        "\n",
        "def extract_tfidf_features(df, column_name):\n",
        "    from pyspark.ml.feature import CountVectorizer, IDF\n",
        "    from pyspark.ml import Pipeline\n",
        "\n",
        "    cv = CountVectorizer(inputCol=column_name, outputCol=column_name + \"_tf\", vocabSize=VOCAB_SIZE, minDF=MIN_DOC_FREQ)\n",
        "    idf = IDF(inputCol=column_name + \"_tf\", outputCol=column_name + \"_tfidf\")\n",
        "\n",
        "    pipeline = Pipeline(stages=[cv, idf])\n",
        "    features = pipeline.fit(df)\n",
        "    tf_idf_features_df = features.transform(df)\n",
        "    \n",
        "    result = tf_idf_features_df.withColumn(column_name, col(column_name + \"_tfidf\")).persist(StorageLevel.MEMORY_ONLY)\n",
        "\n",
        "    return result.select(df.columns)"
      ],
      "execution_count": null,
      "outputs": []
    },
    {
      "cell_type": "markdown",
      "metadata": {
        "id": "-vsCxoDkDqJ0"
      },
      "source": [
        "### Building Item profiles\n",
        "\n",
        "The first step for this method, is to construct the item profiles, that are a vectorized representation of each item, in our case, for each repo.\n",
        "\n",
        "From the features of each repo we removed the `creator` and `name` fields, because they do not add any information to the representation. For the `about` field we used the TF-IDF weighting scheme after a pre-processing phase that cleaned the text. Moreover, we used a one-hot encoding representation for the `language` field and normalized the fields `stars`, `forks` and `updated`. The latter was converted simply as the number of seconds in order to be machine processable. Finally, the `sponsor` field was left as a binary feature.\n",
        "\n",
        "We start by pre-processing the text in the `about` column."
      ]
    },
    {
      "cell_type": "code",
      "metadata": {
        "colab": {
          "base_uri": "https://localhost:8080/"
        },
        "id": "AchSO1DSDbZb",
        "outputId": "84fdde04-1001-4374-89cd-1eda475badcb"
      },
      "source": [
        "features_df = clean_text(new_repos_df, \"about\")\n",
        "features_df.show()"
      ],
      "execution_count": null,
      "outputs": [
        {
          "output_type": "stream",
          "text": [
            "+-------+-----------------+--------------------+--------------------+----------+------+-----+-------------------+-------+\n",
            "|repo_id|          creator|                name|               about|  language| stars|forks|            updated|sponsor|\n",
            "+-------+-----------------+--------------------+--------------------+----------+------+-----+-------------------+-------+\n",
            "|      0|styled-components|   styled-components|[visual, primit, ...|TypeScript| 33940| 2084|2021-06-16 19:12:26|      0|\n",
            "|      1|           vercel|             next.js|  [react, framework]|JavaScript| 69687|13111|2021-06-22 07:49:26|      0|\n",
            "|      2|         facebook|               react|[declar, effici, ...|JavaScript|170264|34406|2021-06-22 06:08:58|      0|\n",
            "|      7|        chakra-ui|           chakra-ui|[simpl, modular, ...|TypeScript| 18902| 1527|2021-06-22 07:12:59|      0|\n",
            "|     11|         yangshun|front-end-intervi...|[nobullshit, answ...|JavaScript| 29404| 4363|2021-06-21 20:00:42|      1|\n",
            "|     16|     sindresorhus|             awesome|[awesom, list, ki...|     Shell|164302|20994|2021-06-21 07:27:22|      1|\n",
            "|     24|         VSCodium|            vscodium|[binari, releas, ...|     Shell| 13234|  484|2021-06-21 03:21:57|      0|\n",
            "|     28|    kamranahmedse|   developer-roadmap|[roadmap, becom, ...|       UNK|163490|23657|2021-06-12 10:15:27|      1|\n",
            "|     35|        microsoft|              vscode|[visual, studio, ...|TypeScript|117529|19179|2021-06-22 08:42:46|      0|\n",
            "|     43|           airbnb|      lottie-android|[render, effect, ...|      Java| 31317| 5023|2021-06-21 19:11:06|      0|\n",
            "|     44|           airbnb|          lottie-web|[render, effect, ...|JavaScript| 24486| 2434|2021-06-04 11:36:15|      0|\n",
            "|     46|     bradtraversy|design-resources-...|[curat, list, des...|       UNK| 30202| 6892|2021-06-22 08:25:05|      0|\n",
            "|     48|         facebook|        react-native|[framework, build...|JavaScript| 96207|20943|2021-06-22 06:00:50|      0|\n",
            "|     50|           frappe|             erpnext|[world, best, fre...|    Python|  8925| 3666|2021-06-22 08:15:25|      0|\n",
            "|     53|         sveltejs|              svelte|[cybernet, enhanc...|TypeScript| 47896| 2264|2021-06-22 07:26:38|      0|\n",
            "|     58|      highlightjs|        highlight.js|[javascript, synt...|JavaScript| 18568| 3129|2021-06-22 06:55:32|      0|\n",
            "|     64|         appwrite|            appwrite|[appwrit, secur, ...|JavaScript|  9884|  759|2021-06-22 08:39:52|      0|\n",
            "|     72|          lensapp|                lens|[len, kubernet, ide]|TypeScript| 14345|  707|2021-06-22 08:17:15|      0|\n",
            "|     77|         gatsbyjs|              gatsby|[build, blaze, fa...|JavaScript| 50577| 9662|2021-06-22 08:35:17|      0|\n",
            "|     80|         gohugoio|                hugo|[world, fastest, ...|        Go| 52665| 5968|2021-06-22 08:26:07|      0|\n",
            "+-------+-----------------+--------------------+--------------------+----------+------+-----+-------------------+-------+\n",
            "only showing top 20 rows\n",
            "\n"
          ],
          "name": "stdout"
        }
      ]
    },
    {
      "cell_type": "markdown",
      "metadata": {
        "id": "O8gFtTs6ggxz"
      },
      "source": [
        "Given the normalized text, we can compute TF-IDF on the same column."
      ]
    },
    {
      "cell_type": "code",
      "metadata": {
        "colab": {
          "base_uri": "https://localhost:8080/"
        },
        "id": "YnKBDFvDDeAa",
        "outputId": "6f940669-4f41-4a36-c54d-7c1e778be737"
      },
      "source": [
        "features_df = extract_tfidf_features(features_df, \"about\")\n",
        "features_df.show()"
      ],
      "execution_count": null,
      "outputs": [
        {
          "output_type": "stream",
          "text": [
            "+-------+-----------------+--------------------+--------------------+----------+------+-----+-------------------+-------+\n",
            "|repo_id|          creator|                name|               about|  language| stars|forks|            updated|sponsor|\n",
            "+-------+-----------------+--------------------+--------------------+----------+------+-----+-------------------+-------+\n",
            "|      0|styled-components|   styled-components|(132,[10,16,31,33...|TypeScript| 33940| 2084|2021-06-16 19:12:26|      0|\n",
            "|      1|           vercel|             next.js|(132,[2,4],[2.397...|JavaScript| 69687|13111|2021-06-22 07:49:26|      0|\n",
            "|      2|         facebook|               react|(132,[1,3,6,126],...|JavaScript|170264|34406|2021-06-22 06:08:58|      0|\n",
            "|      7|        chakra-ui|           chakra-ui|(132,[4,14,22,29,...|TypeScript| 18902| 1527|2021-06-22 07:12:59|      0|\n",
            "|     11|         yangshun|front-end-intervi...|(132,[92,127],[4....|JavaScript| 29404| 4363|2021-06-21 20:00:42|      1|\n",
            "|     16|     sindresorhus|             awesome|(132,[5,21],[2.83...|     Shell|164302|20994|2021-06-21 07:27:22|      1|\n",
            "|     24|         VSCodium|            vscodium|(132,[17],[3.1475...|     Shell| 13234|  484|2021-06-21 03:21:57|      0|\n",
            "|     28|    kamranahmedse|   developer-roadmap|(132,[0,13],[2.40...|       UNK|163490|23657|2021-06-12 10:15:27|      1|\n",
            "|     35|        microsoft|              vscode|(132,[17,108],[3....|TypeScript|117529|19179|2021-06-22 08:42:46|      0|\n",
            "|     43|           airbnb|      lottie-android|(132,[0,4,36,53,7...|      Java| 31317| 5023|2021-06-21 19:11:06|      0|\n",
            "|     44|           airbnb|          lottie-web|(132,[0,4,36,53,7...|JavaScript| 24486| 2434|2021-06-04 11:36:15|      0|\n",
            "|     46|     bradtraversy|design-resources-...|(132,[0,2,3,5,9,2...|       UNK| 30202| 6892|2021-06-22 08:25:05|      0|\n",
            "|     48|         facebook|        react-native|(132,[2,4,6,10,36...|JavaScript| 96207|20943|2021-06-22 06:00:50|      0|\n",
            "|     50|           frappe|             erpnext|(132,[7,8,42,71],...|    Python|  8925| 3666|2021-06-22 08:15:25|      0|\n",
            "|     53|         sveltejs|              svelte|(132,[0,10],[2.40...|TypeScript| 47896| 2264|2021-06-22 07:26:38|      0|\n",
            "|     58|      highlightjs|        highlight.js|(132,[1,23],[2.42...|JavaScript| 18568| 3129|2021-06-22 06:55:32|      0|\n",
            "|     64|         appwrite|            appwrite|(132,[0,13,41,55,...|JavaScript|  9884|  759|2021-06-22 08:39:52|      0|\n",
            "|     72|          lensapp|                lens|         (132,[],[])|TypeScript| 14345|  707|2021-06-22 08:17:15|      0|\n",
            "|     77|         gatsbyjs|              gatsby|(132,[4,6,10,12,2...|JavaScript| 50577| 9662|2021-06-22 08:35:17|      0|\n",
            "|     80|         gohugoio|                hugo|(132,[2,6],[2.397...|        Go| 52665| 5968|2021-06-22 08:26:07|      0|\n",
            "+-------+-----------------+--------------------+--------------------+----------+------+-----+-------------------+-------+\n",
            "only showing top 20 rows\n",
            "\n"
          ],
          "name": "stdout"
        }
      ]
    },
    {
      "cell_type": "markdown",
      "metadata": {
        "id": "VnumTbpTgmtR"
      },
      "source": [
        "In order, to convert the `language` field we use the `StringIndexer` to convert \n",
        "strings to indexes and then we use the `OneHotEncoder` class to transform the integer representation into one-hot vectors."
      ]
    },
    {
      "cell_type": "code",
      "metadata": {
        "colab": {
          "base_uri": "https://localhost:8080/"
        },
        "id": "I-hwFpaRDg5z",
        "outputId": "71b57fcd-841f-467c-cf5e-afb9919c4374"
      },
      "source": [
        "from pyspark.ml.feature import OneHotEncoder, StringIndexer\n",
        "\n",
        "cols = features_df.columns\n",
        "\n",
        "# Convert the language field to indexes\n",
        "str_indexer = StringIndexer(inputCol=\"language\", outputCol=\"language_id\")\n",
        "model = str_indexer.fit(features_df)\n",
        "features_df = model.transform(features_df)\n",
        "\n",
        "# Use the one-hot encoding on the language field\n",
        "enc = OneHotEncoder(inputCol=\"language_id\", outputCol=\"language_cat\")\n",
        "model = enc.fit(features_df)\n",
        "features_df = model.transform(features_df)\n",
        "\n",
        "features_df = features_df.withColumn(\"language\", col(\"language_cat\")).select(cols)\n",
        "features_df.show()"
      ],
      "execution_count": null,
      "outputs": [
        {
          "output_type": "stream",
          "text": [
            "+-------+-----------------+--------------------+--------------------+--------------+------+-----+-------------------+-------+\n",
            "|repo_id|          creator|                name|               about|      language| stars|forks|            updated|sponsor|\n",
            "+-------+-----------------+--------------------+--------------------+--------------+------+-----+-------------------+-------+\n",
            "|      0|styled-components|   styled-components|(132,[10,16,31,33...|(47,[1],[1.0])| 33940| 2084|2021-06-16 19:12:26|      0|\n",
            "|      1|           vercel|             next.js|(132,[2,4],[2.397...|(47,[0],[1.0])| 69687|13111|2021-06-22 07:49:26|      0|\n",
            "|      2|         facebook|               react|(132,[1,3,6,126],...|(47,[0],[1.0])|170264|34406|2021-06-22 06:08:58|      0|\n",
            "|      7|        chakra-ui|           chakra-ui|(132,[4,14,22,29,...|(47,[1],[1.0])| 18902| 1527|2021-06-22 07:12:59|      0|\n",
            "|     11|         yangshun|front-end-intervi...|(132,[92,127],[4....|(47,[0],[1.0])| 29404| 4363|2021-06-21 20:00:42|      1|\n",
            "|     16|     sindresorhus|             awesome|(132,[5,21],[2.83...|(47,[9],[1.0])|164302|20994|2021-06-21 07:27:22|      1|\n",
            "|     24|         VSCodium|            vscodium|(132,[17],[3.1475...|(47,[9],[1.0])| 13234|  484|2021-06-21 03:21:57|      0|\n",
            "|     28|    kamranahmedse|   developer-roadmap|(132,[0,13],[2.40...|(47,[3],[1.0])|163490|23657|2021-06-12 10:15:27|      1|\n",
            "|     35|        microsoft|              vscode|(132,[17,108],[3....|(47,[1],[1.0])|117529|19179|2021-06-22 08:42:46|      0|\n",
            "|     43|           airbnb|      lottie-android|(132,[0,4,36,53,7...|(47,[6],[1.0])| 31317| 5023|2021-06-21 19:11:06|      0|\n",
            "|     44|           airbnb|          lottie-web|(132,[0,4,36,53,7...|(47,[0],[1.0])| 24486| 2434|2021-06-04 11:36:15|      0|\n",
            "|     46|     bradtraversy|design-resources-...|(132,[0,2,3,5,9,2...|(47,[3],[1.0])| 30202| 6892|2021-06-22 08:25:05|      0|\n",
            "|     48|         facebook|        react-native|(132,[2,4,6,10,36...|(47,[0],[1.0])| 96207|20943|2021-06-22 06:00:50|      0|\n",
            "|     50|           frappe|             erpnext|(132,[7,8,42,71],...|(47,[2],[1.0])|  8925| 3666|2021-06-22 08:15:25|      0|\n",
            "|     53|         sveltejs|              svelte|(132,[0,10],[2.40...|(47,[1],[1.0])| 47896| 2264|2021-06-22 07:26:38|      0|\n",
            "|     58|      highlightjs|        highlight.js|(132,[1,23],[2.42...|(47,[0],[1.0])| 18568| 3129|2021-06-22 06:55:32|      0|\n",
            "|     64|         appwrite|            appwrite|(132,[0,13,41,55,...|(47,[0],[1.0])|  9884|  759|2021-06-22 08:39:52|      0|\n",
            "|     72|          lensapp|                lens|         (132,[],[])|(47,[1],[1.0])| 14345|  707|2021-06-22 08:17:15|      0|\n",
            "|     77|         gatsbyjs|              gatsby|(132,[4,6,10,12,2...|(47,[0],[1.0])| 50577| 9662|2021-06-22 08:35:17|      0|\n",
            "|     80|         gohugoio|                hugo|(132,[2,6],[2.397...|(47,[4],[1.0])| 52665| 5968|2021-06-22 08:26:07|      0|\n",
            "+-------+-----------------+--------------------+--------------------+--------------+------+-----+-------------------+-------+\n",
            "only showing top 20 rows\n",
            "\n"
          ],
          "name": "stdout"
        }
      ]
    },
    {
      "cell_type": "markdown",
      "metadata": {
        "id": "jezm3i_HgHiV"
      },
      "source": [
        "Then, as we said, we convert the `updated` field in seconds."
      ]
    },
    {
      "cell_type": "code",
      "metadata": {
        "colab": {
          "base_uri": "https://localhost:8080/"
        },
        "id": "zk-9NpcJDjMc",
        "outputId": "c52be74f-c1f4-4771-95e3-308263b88c9c"
      },
      "source": [
        "features_df = features_df.withColumn(\"updated\", unix_timestamp(\"updated\"))\n",
        "features_df.show()"
      ],
      "execution_count": null,
      "outputs": [
        {
          "output_type": "stream",
          "text": [
            "+-------+-----------------+--------------------+--------------------+--------------+------+-----+----------+-------+\n",
            "|repo_id|          creator|                name|               about|      language| stars|forks|   updated|sponsor|\n",
            "+-------+-----------------+--------------------+--------------------+--------------+------+-----+----------+-------+\n",
            "|      0|styled-components|   styled-components|(132,[10,16,31,33...|(47,[1],[1.0])| 33940| 2084|1623870746|      0|\n",
            "|      1|           vercel|             next.js|(132,[2,4],[2.397...|(47,[0],[1.0])| 69687|13111|1624348166|      0|\n",
            "|      2|         facebook|               react|(132,[1,3,6,126],...|(47,[0],[1.0])|170264|34406|1624342138|      0|\n",
            "|      7|        chakra-ui|           chakra-ui|(132,[4,14,22,29,...|(47,[1],[1.0])| 18902| 1527|1624345979|      0|\n",
            "|     11|         yangshun|front-end-intervi...|(132,[92,127],[4....|(47,[0],[1.0])| 29404| 4363|1624305642|      1|\n",
            "|     16|     sindresorhus|             awesome|(132,[5,21],[2.83...|(47,[9],[1.0])|164302|20994|1624260442|      1|\n",
            "|     24|         VSCodium|            vscodium|(132,[17],[3.1475...|(47,[9],[1.0])| 13234|  484|1624245717|      0|\n",
            "|     28|    kamranahmedse|   developer-roadmap|(132,[0,13],[2.40...|(47,[3],[1.0])|163490|23657|1623492927|      1|\n",
            "|     35|        microsoft|              vscode|(132,[17,108],[3....|(47,[1],[1.0])|117529|19179|1624351366|      0|\n",
            "|     43|           airbnb|      lottie-android|(132,[0,4,36,53,7...|(47,[6],[1.0])| 31317| 5023|1624302666|      0|\n",
            "|     44|           airbnb|          lottie-web|(132,[0,4,36,53,7...|(47,[0],[1.0])| 24486| 2434|1622806575|      0|\n",
            "|     46|     bradtraversy|design-resources-...|(132,[0,2,3,5,9,2...|(47,[3],[1.0])| 30202| 6892|1624350305|      0|\n",
            "|     48|         facebook|        react-native|(132,[2,4,6,10,36...|(47,[0],[1.0])| 96207|20943|1624341650|      0|\n",
            "|     50|           frappe|             erpnext|(132,[7,8,42,71],...|(47,[2],[1.0])|  8925| 3666|1624349725|      0|\n",
            "|     53|         sveltejs|              svelte|(132,[0,10],[2.40...|(47,[1],[1.0])| 47896| 2264|1624346798|      0|\n",
            "|     58|      highlightjs|        highlight.js|(132,[1,23],[2.42...|(47,[0],[1.0])| 18568| 3129|1624344932|      0|\n",
            "|     64|         appwrite|            appwrite|(132,[0,13,41,55,...|(47,[0],[1.0])|  9884|  759|1624351192|      0|\n",
            "|     72|          lensapp|                lens|         (132,[],[])|(47,[1],[1.0])| 14345|  707|1624349835|      0|\n",
            "|     77|         gatsbyjs|              gatsby|(132,[4,6,10,12,2...|(47,[0],[1.0])| 50577| 9662|1624350917|      0|\n",
            "|     80|         gohugoio|                hugo|(132,[2,6],[2.397...|(47,[4],[1.0])| 52665| 5968|1624350367|      0|\n",
            "+-------+-----------------+--------------------+--------------------+--------------+------+-----+----------+-------+\n",
            "only showing top 20 rows\n",
            "\n"
          ],
          "name": "stdout"
        }
      ]
    },
    {
      "cell_type": "markdown",
      "metadata": {
        "id": "u3ihGxscf7CH"
      },
      "source": [
        "Now, we proceed with the normalization step on the `stars`, `forks`, `updated` and `sponsor` fields."
      ]
    },
    {
      "cell_type": "code",
      "metadata": {
        "colab": {
          "base_uri": "https://localhost:8080/"
        },
        "id": "ZcPwcI8l5oPR",
        "outputId": "229da00e-0182-4b21-bafc-1bbb7d659616"
      },
      "source": [
        "from pyspark.ml.feature import MinMaxScaler, VectorAssembler\n",
        "\n",
        "# Aggregate columns for the normalization\n",
        "va = VectorAssembler(inputCols=[\"stars\", \"forks\", \"updated\", \"sponsor\"], outputCol=\"repo_info\")\n",
        "item_profiles = va.transform(features_df).select(\"repo_id\", \"about\", \"language\", \"repo_info\").persist(StorageLevel.MEMORY_ONLY)\n",
        "\n",
        "# Apply MinMax normalization\n",
        "scaler = MinMaxScaler(inputCol=\"repo_info\", outputCol=\"scaled_repo_info\")\n",
        "model = scaler.fit(item_profiles)\n",
        "item_profiles = model.transform(item_profiles)\n",
        "item_profiles.show()"
      ],
      "execution_count": null,
      "outputs": [
        {
          "output_type": "stream",
          "text": [
            "+-------+--------------------+--------------+--------------------+--------------------+\n",
            "|repo_id|               about|      language|           repo_info|    scaled_repo_info|\n",
            "+-------+--------------------+--------------+--------------------+--------------------+\n",
            "|      0|(132,[10,16,31,33...|(47,[1],[1.0])|[33940.0,2084.0,1...|[0.09672969194187...|\n",
            "|      1|(132,[2,4],[2.397...|(47,[0],[1.0])|[69687.0,13111.0,...|[0.20754939253307...|\n",
            "|      2|(132,[1,3,6,126],...|(47,[0],[1.0])|[170264.0,34406.0...|[0.51934934851148...|\n",
            "|      7|(132,[4,14,22,29,...|(47,[1],[1.0])|[18902.0,1527.0,1...|[0.05011020897854...|\n",
            "|     11|(132,[92,127],[4....|(47,[0],[1.0])|[29404.0,4363.0,1...|[0.08266758429979...|\n",
            "|     16|(132,[5,21],[2.83...|(47,[9],[1.0])|[164302.0,20994.0...|[0.50086648127997...|\n",
            "|     24|(132,[17],[3.1475...|(47,[9],[1.0])|[13234.0,484.0,1....|[0.03253877464976...|\n",
            "|     28|(132,[0,13],[2.40...|(47,[3],[1.0])|[163490.0,23657.0...|[0.49834919040577...|\n",
            "|     35|(132,[17,108],[3....|(47,[1],[1.0])|[117529.0,19179.0...|[0.35586494672457...|\n",
            "|     43|(132,[0,4,36,53,7...|(47,[6],[1.0])|[31317.0,5023.0,1...|[0.08859809839135...|\n",
            "|     44|(132,[0,4,36,53,7...|(47,[0],[1.0])|[24486.0,2434.0,1...|[0.06742123390654...|\n",
            "|     46|(132,[0,2,3,5,9,2...|(47,[3],[1.0])|[30202.0,6892.0,1...|[0.08514147360719...|\n",
            "|     48|(132,[2,4,6,10,36...|(47,[0],[1.0])|[96207.0,20943.0,...|[0.28976436049341...|\n",
            "|     50|(132,[7,8,42,71],...|(47,[2],[1.0])|[8925.0,3666.0,1....|[0.01918039241216...|\n",
            "|     53|(132,[0,10],[2.40...|(47,[1],[1.0])|[47896.0,2264.0,1...|[0.13999485381422...|\n",
            "|     58|(132,[1,23],[2.42...|(47,[0],[1.0])|[18568.0,3129.0,1...|[0.04907477159925...|\n",
            "|     64|(132,[0,13,41,55,...|(47,[0],[1.0])|[9884.0,759.0,1.6...|[0.02215339973773...|\n",
            "|     72|         (132,[],[])|(47,[1],[1.0])|[14345.0,707.0,1....|[0.03598299898626...|\n",
            "|     77|(132,[4,6,10,12,2...|(47,[0],[1.0])|[50577.0,9662.0,1...|[0.14830625385576...|\n",
            "|     80|(132,[2,6],[2.397...|(47,[4],[1.0])|[52665.0,5968.0,1...|[0.15477928753227...|\n",
            "+-------+--------------------+--------------+--------------------+--------------------+\n",
            "only showing top 20 rows\n",
            "\n"
          ],
          "name": "stdout"
        }
      ]
    },
    {
      "cell_type": "markdown",
      "metadata": {
        "id": "E0tnM5AUf4t8"
      },
      "source": [
        "As final step, we aggregate all the features in a single vector."
      ]
    },
    {
      "cell_type": "code",
      "metadata": {
        "colab": {
          "base_uri": "https://localhost:8080/"
        },
        "id": "IxzpRNUjDoC8",
        "outputId": "70c207e3-9831-4e31-f098-9f270444992e"
      },
      "source": [
        "va = VectorAssembler(inputCols=[\"about\", \"language\", \"scaled_repo_info\"], outputCol=\"item_profile\")\n",
        "item_profiles = va.transform(item_profiles).select(\"repo_id\", \"item_profile\").persist(StorageLevel.MEMORY_ONLY)\n",
        "item_profiles.show()"
      ],
      "execution_count": null,
      "outputs": [
        {
          "output_type": "stream",
          "text": [
            "+-------+--------------------+\n",
            "|repo_id|        item_profile|\n",
            "+-------+--------------------+\n",
            "|      0|(183,[10,16,31,33...|\n",
            "|      1|(183,[2,4,132,179...|\n",
            "|      2|(183,[1,3,6,126,1...|\n",
            "|      7|(183,[4,14,22,29,...|\n",
            "|     11|(183,[92,127,132,...|\n",
            "|     16|(183,[5,21,141,17...|\n",
            "|     24|(183,[17,141,179,...|\n",
            "|     28|(183,[0,13,135,17...|\n",
            "|     35|(183,[17,108,133,...|\n",
            "|     43|(183,[0,4,36,53,7...|\n",
            "|     44|(183,[0,4,36,53,7...|\n",
            "|     46|(183,[0,2,3,5,9,2...|\n",
            "|     48|(183,[2,4,6,10,36...|\n",
            "|     50|(183,[7,8,42,71,1...|\n",
            "|     53|(183,[0,10,133,17...|\n",
            "|     58|(183,[1,23,132,17...|\n",
            "|     64|(183,[0,13,41,55,...|\n",
            "|     72|(183,[133,179,180...|\n",
            "|     77|(183,[4,6,10,12,2...|\n",
            "|     80|(183,[2,6,136,179...|\n",
            "+-------+--------------------+\n",
            "only showing top 20 rows\n",
            "\n"
          ],
          "name": "stdout"
        }
      ]
    },
    {
      "cell_type": "markdown",
      "metadata": {
        "id": "jc2gSQYOfbQA"
      },
      "source": [
        "Finally, we can save the item profiles on disk in order to use them later."
      ]
    },
    {
      "cell_type": "code",
      "metadata": {
        "id": "vdUnOLXBqUBE"
      },
      "source": [
        "item_profiles.write.mode(\"overwrite\").save(\"content_based-item_profiles.parquet\")"
      ],
      "execution_count": null,
      "outputs": []
    },
    {
      "cell_type": "markdown",
      "metadata": {
        "id": "xfYTQXtZDt-j"
      },
      "source": [
        "### Building User profiles\n",
        "\n",
        "In this section, we create the user profiles for all the users in the train set, computed as the average of the item profiles that that user has starred.\n",
        "\n",
        "First of all, we add the item profiles to each record of the train set."
      ]
    },
    {
      "cell_type": "code",
      "metadata": {
        "id": "NeYvHzmSDtJk",
        "colab": {
          "base_uri": "https://localhost:8080/"
        },
        "outputId": "386d4fdf-8acf-4a93-b3f5-a404a1357ecc"
      },
      "source": [
        "join_df = train.join(item_profiles, on=\"repo_id\")\n",
        "join_df.show(truncate=False)"
      ],
      "execution_count": null,
      "outputs": [
        {
          "output_type": "stream",
          "text": [
            "+-------+-------+-------------------------------------------------------------------------------------------------------------------------------------------------------------------------------------------------------------------------+\n",
            "|repo_id|user_id|item_profile                                                                                                                                                                                                             |\n",
            "+-------+-------+-------------------------------------------------------------------------------------------------------------------------------------------------------------------------------------------------------------------------+\n",
            "|0      |145    |(183,[10,16,31,33,71,108,133,179,180,181],[2.9967317738870745,3.0801133828261253,3.5765502691400166,3.5075573976530654,4.13616605707544,4.4238481295272205,1.0,0.0967296919418791,0.0235612888024975,0.9793678412424156])|\n",
            "|0      |322    |(183,[10,16,31,33,71,108,133,179,180,181],[2.9967317738870745,3.0801133828261253,3.5765502691400166,3.5075573976530654,4.13616605707544,4.4238481295272205,1.0,0.0967296919418791,0.0235612888024975,0.9793678412424156])|\n",
            "|0      |726    |(183,[10,16,31,33,71,108,133,179,180,181],[2.9967317738870745,3.0801133828261253,3.5765502691400166,3.5075573976530654,4.13616605707544,4.4238481295272205,1.0,0.0967296919418791,0.0235612888024975,0.9793678412424156])|\n",
            "|0      |746    |(183,[10,16,31,33,71,108,133,179,180,181],[2.9967317738870745,3.0801133828261253,3.5765502691400166,3.5075573976530654,4.13616605707544,4.4238481295272205,1.0,0.0967296919418791,0.0235612888024975,0.9793678412424156])|\n",
            "|0      |766    |(183,[10,16,31,33,71,108,133,179,180,181],[2.9967317738870745,3.0801133828261253,3.5765502691400166,3.5075573976530654,4.13616605707544,4.4238481295272205,1.0,0.0967296919418791,0.0235612888024975,0.9793678412424156])|\n",
            "|0      |971    |(183,[10,16,31,33,71,108,133,179,180,181],[2.9967317738870745,3.0801133828261253,3.5765502691400166,3.5075573976530654,4.13616605707544,4.4238481295272205,1.0,0.0967296919418791,0.0235612888024975,0.9793678412424156])|\n",
            "|0      |1567   |(183,[10,16,31,33,71,108,133,179,180,181],[2.9967317738870745,3.0801133828261253,3.5765502691400166,3.5075573976530654,4.13616605707544,4.4238481295272205,1.0,0.0967296919418791,0.0235612888024975,0.9793678412424156])|\n",
            "|0      |1638   |(183,[10,16,31,33,71,108,133,179,180,181],[2.9967317738870745,3.0801133828261253,3.5765502691400166,3.5075573976530654,4.13616605707544,4.4238481295272205,1.0,0.0967296919418791,0.0235612888024975,0.9793678412424156])|\n",
            "|0      |1657   |(183,[10,16,31,33,71,108,133,179,180,181],[2.9967317738870745,3.0801133828261253,3.5765502691400166,3.5075573976530654,4.13616605707544,4.4238481295272205,1.0,0.0967296919418791,0.0235612888024975,0.9793678412424156])|\n",
            "|0      |1977   |(183,[10,16,31,33,71,108,133,179,180,181],[2.9967317738870745,3.0801133828261253,3.5765502691400166,3.5075573976530654,4.13616605707544,4.4238481295272205,1.0,0.0967296919418791,0.0235612888024975,0.9793678412424156])|\n",
            "|0      |2011   |(183,[10,16,31,33,71,108,133,179,180,181],[2.9967317738870745,3.0801133828261253,3.5765502691400166,3.5075573976530654,4.13616605707544,4.4238481295272205,1.0,0.0967296919418791,0.0235612888024975,0.9793678412424156])|\n",
            "|0      |2061   |(183,[10,16,31,33,71,108,133,179,180,181],[2.9967317738870745,3.0801133828261253,3.5765502691400166,3.5075573976530654,4.13616605707544,4.4238481295272205,1.0,0.0967296919418791,0.0235612888024975,0.9793678412424156])|\n",
            "|0      |2126   |(183,[10,16,31,33,71,108,133,179,180,181],[2.9967317738870745,3.0801133828261253,3.5765502691400166,3.5075573976530654,4.13616605707544,4.4238481295272205,1.0,0.0967296919418791,0.0235612888024975,0.9793678412424156])|\n",
            "|0      |2226   |(183,[10,16,31,33,71,108,133,179,180,181],[2.9967317738870745,3.0801133828261253,3.5765502691400166,3.5075573976530654,4.13616605707544,4.4238481295272205,1.0,0.0967296919418791,0.0235612888024975,0.9793678412424156])|\n",
            "|0      |2464   |(183,[10,16,31,33,71,108,133,179,180,181],[2.9967317738870745,3.0801133828261253,3.5765502691400166,3.5075573976530654,4.13616605707544,4.4238481295272205,1.0,0.0967296919418791,0.0235612888024975,0.9793678412424156])|\n",
            "|0      |2517   |(183,[10,16,31,33,71,108,133,179,180,181],[2.9967317738870745,3.0801133828261253,3.5765502691400166,3.5075573976530654,4.13616605707544,4.4238481295272205,1.0,0.0967296919418791,0.0235612888024975,0.9793678412424156])|\n",
            "|0      |2665   |(183,[10,16,31,33,71,108,133,179,180,181],[2.9967317738870745,3.0801133828261253,3.5765502691400166,3.5075573976530654,4.13616605707544,4.4238481295272205,1.0,0.0967296919418791,0.0235612888024975,0.9793678412424156])|\n",
            "|0      |2911   |(183,[10,16,31,33,71,108,133,179,180,181],[2.9967317738870745,3.0801133828261253,3.5765502691400166,3.5075573976530654,4.13616605707544,4.4238481295272205,1.0,0.0967296919418791,0.0235612888024975,0.9793678412424156])|\n",
            "|0      |2931   |(183,[10,16,31,33,71,108,133,179,180,181],[2.9967317738870745,3.0801133828261253,3.5765502691400166,3.5075573976530654,4.13616605707544,4.4238481295272205,1.0,0.0967296919418791,0.0235612888024975,0.9793678412424156])|\n",
            "|0      |3108   |(183,[10,16,31,33,71,108,133,179,180,181],[2.9967317738870745,3.0801133828261253,3.5765502691400166,3.5075573976530654,4.13616605707544,4.4238481295272205,1.0,0.0967296919418791,0.0235612888024975,0.9793678412424156])|\n",
            "+-------+-------+-------------------------------------------------------------------------------------------------------------------------------------------------------------------------------------------------------------------------+\n",
            "only showing top 20 rows\n",
            "\n"
          ],
          "name": "stdout"
        }
      ]
    },
    {
      "cell_type": "markdown",
      "metadata": {
        "id": "ppFfXslOfLBg"
      },
      "source": [
        "Then, we can compute the average of all the item profiles of the repos that each user has starred using the `Summarizer` class."
      ]
    },
    {
      "cell_type": "code",
      "metadata": {
        "id": "mrr7ptalDycJ",
        "colab": {
          "base_uri": "https://localhost:8080/"
        },
        "outputId": "e1826af7-78f2-4f4d-dfa4-adfe4381a2ed"
      },
      "source": [
        "from pyspark.ml.stat import Summarizer\n",
        "\n",
        "user_profiles = join_df.groupBy(\"user_id\").agg(Summarizer.mean(col(\"item_profile\")).alias(\"user_profile\"), collect_set(\"repo_id\").alias(\"starred_repo\")).persist(StorageLevel.MEMORY_ONLY)\n",
        "user_profiles.show()"
      ],
      "execution_count": null,
      "outputs": [
        {
          "output_type": "stream",
          "text": [
            "+-------+--------------------+--------------------+\n",
            "|user_id|        user_profile|        starred_repo|\n",
            "+-------+--------------------+--------------------+\n",
            "|     90|[0.18249584158976...|[1047, 662, 743, ...|\n",
            "|    123|[0.28580704682872...|[2440, 7660, 2, 1...|\n",
            "|    140|[0.20648100934156...|[8604, 204, 662, ...|\n",
            "|    150|[0.42825690826399...|[1148, 438, 6949,...|\n",
            "|    191|[0.33226829089447...|[691, 1, 743, 2, ...|\n",
            "|    210|[0.16728785479062...|[12095, 5199, 259...|\n",
            "|    263|[0.39276278950841...|[2440, 589, 12907...|\n",
            "|    320|[0.15055906931155...|[13293, 691, 438,...|\n",
            "|    336|[0.26766056766499...|[2581, 7692, 2, 1...|\n",
            "|    369|[0.30111813862311...|[5859, 9409, 1463...|\n",
            "|    384|[0.25357316936683...|[1148, 8604, 357,...|\n",
            "|    393|[0.19890372459508...|[7210, 204, 17975...|\n",
            "|    406|[0.33457570958124...|[3355, 7210, 3682...|\n",
            "|    419|[0.17130276330559...|[5859, 13061, 146...|\n",
            "|    426|[0.10107461995741...|[10802, 17402, 60...|\n",
            "|    431|[0.26279401188926...|[2207, 335, 691, ...|\n",
            "|    463|[0.0,1.2100592047...|[25974, 169, 2, 1...|\n",
            "|    483|[0.28104359604824...|[5859, 1395, 2, 6...|\n",
            "|    499|[0.35877905878499...|[2258, 6977, 1057...|\n",
            "|    546|[0.76071950810051...|[2599, 691, 4081,...|\n",
            "+-------+--------------------+--------------------+\n",
            "only showing top 20 rows\n",
            "\n"
          ],
          "name": "stdout"
        }
      ]
    },
    {
      "cell_type": "markdown",
      "metadata": {
        "id": "yM74pKm3D54q"
      },
      "source": [
        "### Predicting new repos\n",
        "\n",
        "For the prediction, we need to find the $k$ items that are more similar to the user profile for each user, applying the cosine similarity between the user profile vector and the item profile for each item not rated yet.\n",
        "\n",
        "In order to put in relation each user profile with all the item profiles we apply the cartesian product between the train set and the item profiles."
      ]
    },
    {
      "cell_type": "code",
      "metadata": {
        "id": "QWP48xksD7Mp",
        "colab": {
          "base_uri": "https://localhost:8080/"
        },
        "outputId": "09951f58-cf12-4432-ec75-02efb559564e"
      },
      "source": [
        "user_item_profiles = user_profiles.join(item_profiles)\n",
        "user_item_profiles.show()"
      ],
      "execution_count": null,
      "outputs": [
        {
          "output_type": "stream",
          "text": [
            "+-------+--------------------+--------------------+-------+--------------------+\n",
            "|user_id|        user_profile|        starred_repo|repo_id|        item_profile|\n",
            "+-------+--------------------+--------------------+-------+--------------------+\n",
            "|     90|[0.18249584158976...|[1047, 662, 743, ...|      0|(183,[10,16,31,33...|\n",
            "|     90|[0.18249584158976...|[1047, 662, 743, ...|      1|(183,[2,4,132,179...|\n",
            "|     90|[0.18249584158976...|[1047, 662, 743, ...|      2|(183,[1,3,6,126,1...|\n",
            "|     90|[0.18249584158976...|[1047, 662, 743, ...|      7|(183,[4,14,22,29,...|\n",
            "|     90|[0.18249584158976...|[1047, 662, 743, ...|     11|(183,[92,127,132,...|\n",
            "|     90|[0.18249584158976...|[1047, 662, 743, ...|     16|(183,[5,21,141,17...|\n",
            "|     90|[0.18249584158976...|[1047, 662, 743, ...|     24|(183,[17,141,179,...|\n",
            "|     90|[0.18249584158976...|[1047, 662, 743, ...|     28|(183,[0,13,135,17...|\n",
            "|     90|[0.18249584158976...|[1047, 662, 743, ...|     35|(183,[17,108,133,...|\n",
            "|     90|[0.18249584158976...|[1047, 662, 743, ...|     43|(183,[0,4,36,53,7...|\n",
            "|     90|[0.18249584158976...|[1047, 662, 743, ...|     44|(183,[0,4,36,53,7...|\n",
            "|     90|[0.18249584158976...|[1047, 662, 743, ...|     46|(183,[0,2,3,5,9,2...|\n",
            "|     90|[0.18249584158976...|[1047, 662, 743, ...|     48|(183,[2,4,6,10,36...|\n",
            "|     90|[0.18249584158976...|[1047, 662, 743, ...|     50|(183,[7,8,42,71,1...|\n",
            "|     90|[0.18249584158976...|[1047, 662, 743, ...|     53|(183,[0,10,133,17...|\n",
            "|     90|[0.18249584158976...|[1047, 662, 743, ...|     58|(183,[1,23,132,17...|\n",
            "|     90|[0.18249584158976...|[1047, 662, 743, ...|     64|(183,[0,13,41,55,...|\n",
            "|     90|[0.18249584158976...|[1047, 662, 743, ...|     72|(183,[133,179,180...|\n",
            "|     90|[0.18249584158976...|[1047, 662, 743, ...|     77|(183,[4,6,10,12,2...|\n",
            "|     90|[0.18249584158976...|[1047, 662, 743, ...|     80|(183,[2,6,136,179...|\n",
            "+-------+--------------------+--------------------+-------+--------------------+\n",
            "only showing top 20 rows\n",
            "\n"
          ],
          "name": "stdout"
        }
      ]
    },
    {
      "cell_type": "markdown",
      "metadata": {
        "id": "6JNJ3M12esEd"
      },
      "source": [
        "Before computing the similarity between each item we have to remove the item profiles of the repos already starred by the user, otherwise we will recommend repos that the user has already starred."
      ]
    },
    {
      "cell_type": "code",
      "metadata": {
        "id": "jWiNZhBJBlZ2",
        "colab": {
          "base_uri": "https://localhost:8080/"
        },
        "outputId": "c213ac6a-bdb3-4eca-c45e-76fd57bce066"
      },
      "source": [
        "user_item_profiles = user_item_profiles.filter(~array_contains(col(\"starred_repo\"), col(\"repo_id\")))\n",
        "user_item_profiles.show()"
      ],
      "execution_count": null,
      "outputs": [
        {
          "output_type": "stream",
          "text": [
            "+-------+--------------------+--------------------+-------+--------------------+\n",
            "|user_id|        user_profile|        starred_repo|repo_id|        item_profile|\n",
            "+-------+--------------------+--------------------+-------+--------------------+\n",
            "|     90|[0.18249584158976...|[1047, 662, 743, ...|      0|(183,[10,16,31,33...|\n",
            "|     90|[0.18249584158976...|[1047, 662, 743, ...|      7|(183,[4,14,22,29,...|\n",
            "|     90|[0.18249584158976...|[1047, 662, 743, ...|     11|(183,[92,127,132,...|\n",
            "|     90|[0.18249584158976...|[1047, 662, 743, ...|     24|(183,[17,141,179,...|\n",
            "|     90|[0.18249584158976...|[1047, 662, 743, ...|     28|(183,[0,13,135,17...|\n",
            "|     90|[0.18249584158976...|[1047, 662, 743, ...|     35|(183,[17,108,133,...|\n",
            "|     90|[0.18249584158976...|[1047, 662, 743, ...|     43|(183,[0,4,36,53,7...|\n",
            "|     90|[0.18249584158976...|[1047, 662, 743, ...|     44|(183,[0,4,36,53,7...|\n",
            "|     90|[0.18249584158976...|[1047, 662, 743, ...|     46|(183,[0,2,3,5,9,2...|\n",
            "|     90|[0.18249584158976...|[1047, 662, 743, ...|     48|(183,[2,4,6,10,36...|\n",
            "|     90|[0.18249584158976...|[1047, 662, 743, ...|     50|(183,[7,8,42,71,1...|\n",
            "|     90|[0.18249584158976...|[1047, 662, 743, ...|     53|(183,[0,10,133,17...|\n",
            "|     90|[0.18249584158976...|[1047, 662, 743, ...|     58|(183,[1,23,132,17...|\n",
            "|     90|[0.18249584158976...|[1047, 662, 743, ...|     64|(183,[0,13,41,55,...|\n",
            "|     90|[0.18249584158976...|[1047, 662, 743, ...|     72|(183,[133,179,180...|\n",
            "|     90|[0.18249584158976...|[1047, 662, 743, ...|     77|(183,[4,6,10,12,2...|\n",
            "|     90|[0.18249584158976...|[1047, 662, 743, ...|     80|(183,[2,6,136,179...|\n",
            "|     90|[0.18249584158976...|[1047, 662, 743, ...|     92|(183,[119,133,179...|\n",
            "|     90|[0.18249584158976...|[1047, 662, 743, ...|    100|(183,[9,28,71,102...|\n",
            "|     90|[0.18249584158976...|[1047, 662, 743, ...|    103|(183,[4,21,25,83,...|\n",
            "+-------+--------------------+--------------------+-------+--------------------+\n",
            "only showing top 20 rows\n",
            "\n"
          ],
          "name": "stdout"
        }
      ]
    },
    {
      "cell_type": "markdown",
      "metadata": {
        "id": "rdQvRb4XeexV"
      },
      "source": [
        "Now we can compute the cosine similarity using the pre-defined udf functions."
      ]
    },
    {
      "cell_type": "code",
      "metadata": {
        "id": "IKu_JHF_D_AG",
        "colab": {
          "base_uri": "https://localhost:8080/"
        },
        "outputId": "bd46bffa-2f34-4e55-d731-c9a4d8d62144"
      },
      "source": [
        "similarity = cosine_similarity_udf(\"user_profile\", \"item_profile\").alias(\"similarity\")\n",
        "prediction_df = user_item_profiles.select(\"user_id\", \"repo_id\", similarity).persist(StorageLevel.MEMORY_ONLY)\n",
        "prediction_df.show()"
      ],
      "execution_count": null,
      "outputs": [
        {
          "output_type": "stream",
          "text": [
            "+-------+-------+-------------------+\n",
            "|user_id|repo_id|         similarity|\n",
            "+-------+-------+-------------------+\n",
            "|     90|      0|0.19263542812959603|\n",
            "|     90|      7|0.22949633312015053|\n",
            "|     90|     11| 0.1631732096607974|\n",
            "|     90|     24|  0.275482419219751|\n",
            "|     90|     28| 0.3472998353046473|\n",
            "|     90|     35|0.21522446037345336|\n",
            "|     90|     43|0.10339401291029349|\n",
            "|     90|     44| 0.1156640802140694|\n",
            "|     90|     46|0.29223742036241324|\n",
            "|     90|     48| 0.2554083335991793|\n",
            "|     90|     50|0.25352432546786025|\n",
            "|     90|     53|0.22718420889810703|\n",
            "|     90|     58| 0.2433376423737014|\n",
            "|     90|     64| 0.2472584416780459|\n",
            "|     90|     72| 0.4332705921803832|\n",
            "|     90|     77| 0.2510632058887067|\n",
            "|     90|     80|0.31914765763311753|\n",
            "|     90|     92| 0.1647830438442851|\n",
            "|     90|    100|0.20013086943478758|\n",
            "|     90|    103| 0.1911303884440288|\n",
            "+-------+-------+-------------------+\n",
            "only showing top 20 rows\n",
            "\n"
          ],
          "name": "stdout"
        }
      ]
    },
    {
      "cell_type": "markdown",
      "metadata": {
        "id": "v-idqRhRePCB"
      },
      "source": [
        "Given the similarities computed in the previous step, we can take the top-k items for each user."
      ]
    },
    {
      "cell_type": "code",
      "metadata": {
        "id": "zne8wxvGEH-U",
        "colab": {
          "base_uri": "https://localhost:8080/"
        },
        "outputId": "2dc154c8-cdeb-42b4-92f8-694d20d1fbd0"
      },
      "source": [
        "from pyspark.sql.window import Window\n",
        "\n",
        "windowUser = Window.partitionBy(\"user_id\").orderBy(col(\"similarity\").desc())\n",
        "top_k_repos = prediction_df.withColumn(\"rank\", row_number().over(windowUser)).filter(col(\"rank\") <= N_ITEMS)\n",
        "top_k_repos.show()"
      ],
      "execution_count": null,
      "outputs": [
        {
          "output_type": "stream",
          "text": [
            "+-------+-------+-------------------+----+\n",
            "|user_id|repo_id|         similarity|rank|\n",
            "+-------+-------+-------------------+----+\n",
            "|     90|  11903|0.48425226445217956|   1|\n",
            "|     90|  14274|0.48200720798957775|   2|\n",
            "|     90|   7854| 0.4806740134282395|   3|\n",
            "|     90|   8418|  0.480479224263995|   4|\n",
            "|     90|    619|  0.480397710468917|   5|\n",
            "|    123|  11903| 0.5193505622041305|   1|\n",
            "|    123|  14274| 0.5177934184352835|   2|\n",
            "|    123|    619| 0.5164651457869246|   3|\n",
            "|    123|   8418| 0.5164383330962349|   4|\n",
            "|    123|   6355| 0.5157807868617589|   5|\n",
            "|    140|   5859|0.41908032109972254|   1|\n",
            "|    140|    716| 0.4092775801854016|   2|\n",
            "|    140|   2265| 0.4060659936550205|   3|\n",
            "|    140|   6189|0.40326978334418195|   4|\n",
            "|    140|   1375| 0.4006986845082195|   5|\n",
            "|    150|   4672| 0.6085488732632729|   1|\n",
            "|    150|    418|  0.605380443078601|   2|\n",
            "|    150|  11903| 0.5802743824972105|   3|\n",
            "|    150|    643| 0.5768581948324893|   4|\n",
            "|    150|  14274| 0.5765535234549904|   5|\n",
            "+-------+-------+-------------------+----+\n",
            "only showing top 20 rows\n",
            "\n"
          ],
          "name": "stdout"
        }
      ]
    },
    {
      "cell_type": "markdown",
      "metadata": {
        "id": "Qe-gyrfAeJjI"
      },
      "source": [
        "Now, for the evaluation phase, we can finally aggregate the recommendations for each user in a single vector."
      ]
    },
    {
      "cell_type": "code",
      "metadata": {
        "id": "_2czpussAgiw",
        "colab": {
          "base_uri": "https://localhost:8080/"
        },
        "outputId": "fc1ca5e0-5f6a-496c-c442-fb789549af7d"
      },
      "source": [
        "recommendations_list = top_k_repos.withColumn(\"repo_id\", col(\"repo_id\").cast(\"double\")).groupBy(\"user_id\").agg(collect_list(\"repo_id\").alias(\"recommended_repos\"))\n",
        "recommendations_list.show(truncate=False)"
      ],
      "execution_count": null,
      "outputs": [
        {
          "output_type": "stream",
          "text": [
            "+-------+------------------------------------------+\n",
            "|user_id|recommended_repos                         |\n",
            "+-------+------------------------------------------+\n",
            "|90     |[11903.0, 14274.0, 7854.0, 8418.0, 619.0] |\n",
            "|123    |[11903.0, 14274.0, 619.0, 8418.0, 6355.0] |\n",
            "|140    |[5859.0, 716.0, 2265.0, 6189.0, 1375.0]   |\n",
            "|150    |[4672.0, 418.0, 11903.0, 643.0, 14274.0]  |\n",
            "|191    |[4672.0, 170.0, 418.0, 6958.0, 438.0]     |\n",
            "|210    |[11903.0, 1124.0, 8027.0, 14274.0, 7854.0]|\n",
            "|263    |[4672.0, 418.0, 170.0, 11903.0, 14274.0]  |\n",
            "|320    |[4672.0, 418.0, 170.0, 526.0, 6958.0]     |\n",
            "|336    |[141.0, 442.0, 570.0, 17402.0, 80.0]      |\n",
            "|369    |[72.0, 1254.0, 11903.0, 14274.0, 7854.0]  |\n",
            "|384    |[5853.0, 16063.0, 431.0, 4672.0, 170.0]   |\n",
            "|393    |[11903.0, 14274.0, 619.0, 8418.0, 6355.0] |\n",
            "|406    |[11903.0, 14274.0, 643.0, 7854.0, 619.0]  |\n",
            "|419    |[11903.0, 14274.0, 8418.0, 619.0, 6355.0] |\n",
            "|426    |[5880.0, 1254.0, 335.0, 11903.0, 14274.0] |\n",
            "|431    |[11903.0, 14274.0, 7854.0, 619.0, 8418.0] |\n",
            "|463    |[8815.0, 1583.0, 473.0, 5922.0, 160.0]    |\n",
            "|483    |[11903.0, 14274.0, 7854.0, 8418.0, 619.0] |\n",
            "|499    |[14274.0, 8418.0, 619.0, 6355.0, 3637.0]  |\n",
            "|546    |[570.0, 11975.0, 16931.0, 6101.0, 697.0]  |\n",
            "+-------+------------------------------------------+\n",
            "only showing top 20 rows\n",
            "\n"
          ],
          "name": "stdout"
        }
      ]
    },
    {
      "cell_type": "markdown",
      "metadata": {
        "id": "WjKwA9yVBHvd"
      },
      "source": [
        "### Evaluation\n",
        "\n",
        "In this section, we carry out the evaluation phase for the Content-based filtering model."
      ]
    },
    {
      "cell_type": "code",
      "metadata": {
        "id": "NnPTH52MBGlP",
        "colab": {
          "base_uri": "https://localhost:8080/"
        },
        "outputId": "c2355b6c-e26a-4acb-e6c4-4b8190dfd982"
      },
      "source": [
        "recommendations = recommendations_list.join(gt, \"user_id\").cache()\n",
        "recommendations.show(truncate=False)"
      ],
      "execution_count": null,
      "outputs": [
        {
          "output_type": "stream",
          "text": [
            "+-------+------------------------------------------+--------------------------------------------------------------------------------------------------------------------------------------------------------------------------------------------------------------------------------------------------------------------------------------------------------------------------------------------------------------------------------------------------------------------------------------------------------------------------------------------------------------------------------------------------------------------------------------------+\n",
            "|user_id|recommended_repos                         |labels                                                                                                                                                                                                                                                                                                                                                                                                                                                                                                                                                                                      |\n",
            "+-------+------------------------------------------+--------------------------------------------------------------------------------------------------------------------------------------------------------------------------------------------------------------------------------------------------------------------------------------------------------------------------------------------------------------------------------------------------------------------------------------------------------------------------------------------------------------------------------------------------------------------------------------------+\n",
            "|90     |[11903.0, 14274.0, 7854.0, 8418.0, 619.0] |[1258.0, 5968.0, 6319.0, 6251.0, 1409.0, 6300.0, 1067.0, 2709.0, 6259.0, 506.0, 335.0, 147.0, 6316.0, 1965.0, 4104.0, 1937.0, 797.0, 28.0, 821.0, 2256.0, 2192.0, 6156.0, 6163.0, 6201.0, 6254.0, 2258.0, 6330.0]                                                                                                                                                                                                                                                                                                                                                                           |\n",
            "|123    |[11903.0, 14274.0, 619.0, 8418.0, 6355.0] |[238.0, 123.0, 1049.0, 6300.0, 122.0, 1280.0, 1411.0, 483.0, 1041.0, 6935.0, 2851.0, 3375.0, 48.0, 2857.0, 7539.0, 2275.0, 4140.0, 2701.0, 2634.0, 3953.0, 706.0, 526.0, 910.0, 2069.0, 442.0, 797.0, 1042.0, 7814.0, 77.0, 871.0, 7750.0, 1257.0, 6435.0]                                                                                                                                                                                                                                                                                                                                  |\n",
            "|140    |[5859.0, 716.0, 2265.0, 6189.0, 1375.0]   |[4815.0, 2.0, 2967.0, 2266.0, 8603.0, 5859.0, 433.0, 2839.0, 1510.0, 6256.0, 1965.0, 109.0, 413.0, 2866.0, 616.0, 3520.0, 8654.0, 8583.0, 8558.0, 1042.0, 8675.0, 8539.0, 8528.0, 4016.0, 126.0]                                                                                                                                                                                                                                                                                                                                                                                            |\n",
            "|150    |[4672.0, 418.0, 11903.0, 643.0, 14274.0]  |[2162.0, 8332.0, 2609.0, 3375.0, 9183.0, 533.0, 2384.0, 668.0, 1053.0, 8006.0, 746.0, 1054.0, 9077.0]                                                                                                                                                                                                                                                                                                                                                                                                                                                                                       |\n",
            "|191    |[4672.0, 170.0, 418.0, 6958.0, 438.0]     |[383.0, 414.0, 35.0, 122.0, 4028.0, 7814.0, 871.0, 476.0, 2275.0]                                                                                                                                                                                                                                                                                                                                                                                                                                                                                                                           |\n",
            "|210    |[11903.0, 1124.0, 8027.0, 14274.0, 7854.0]|[238.0, 3374.0, 703.0, 4989.0, 1378.0, 6289.0, 2074.0, 1510.0, 2385.0, 1444.0, 6135.0, 648.0, 454.0, 381.0, 365.0, 48.0, 386.0, 716.0, 4200.0]                                                                                                                                                                                                                                                                                                                                                                                                                                              |\n",
            "|263    |[4672.0, 418.0, 170.0, 11903.0, 14274.0]  |[11903.0, 988.0, 347.0, 671.0, 506.0, 721.0, 1411.0, 1377.0, 6938.0, 11186.0, 320.0, 731.0, 5940.0, 418.0, 691.0, 1677.0, 5948.0, 1061.0, 11691.0, 126.0, 35.0, 117.0, 14274.0, 1148.0, 441.0, 3953.0, 16.0, 1119.0, 3682.0, 5680.0, 7854.0, 5872.0, 442.0, 683.0, 1612.0, 716.0, 435.0, 77.0, 871.0, 1339.0]                                                                                                                                                                                                                                                                               |\n",
            "|320    |[4672.0, 418.0, 170.0, 526.0, 6958.0]     |[1236.0, 6935.0, 510.0, 834.0, 1385.0, 3426.0, 7660.0, 2599.0]                                                                                                                                                                                                                                                                                                                                                                                                                                                                                                                              |\n",
            "|336    |[141.0, 442.0, 570.0, 17402.0, 80.0]      |[2851.0, 357.0]                                                                                                                                                                                                                                                                                                                                                                                                                                                                                                                                                                             |\n",
            "|369    |[72.0, 1254.0, 11903.0, 14274.0, 7854.0]  |[7197.0, 2967.0, 408.0, 671.0, 331.0, 2709.0, 110.0, 1737.0, 1429.0, 11469.0, 483.0, 1056.0, 1382.0, 6935.0, 3375.0, 48.0, 691.0, 1433.0, 4033.0, 4727.0, 8797.0, 1405.0, 669.0, 4140.0, 125.0, 4378.0, 19465.0, 614.0, 1148.0, 6749.0, 697.0, 706.0, 11975.0, 442.0, 6747.0, 4848.0, 6254.0, 160.0, 2207.0, 8476.0, 4803.0]                                                                                                                                                                                                                                                                |\n",
            "|384    |[5853.0, 16063.0, 431.0, 4672.0, 170.0]   |[527.0, 11.0, 1067.0, 441.0, 12146.0, 1070.0, 2256.0, 11186.0, 20507.0, 103.0, 1047.0, 2081.0]                                                                                                                                                                                                                                                                                                                                                                                                                                                                                              |\n",
            "|393    |[11903.0, 14274.0, 619.0, 8418.0, 6355.0] |[383.0, 645.0, 4989.0, 449.0, 2045.0, 2581.0, 3930.0, 21321.0, 106.0, 1249.0, 352.0, 8455.0, 2704.0, 14512.0, 5940.0, 4874.0, 16593.0, 6042.0, 357.0, 691.0, 2646.0, 668.0, 2173.0, 1061.0, 7539.0, 16591.0, 2328.0, 16063.0, 2275.0, 15630.0, 35.0, 2044.0, 8339.0, 647.0, 453.0, 145.0, 3953.0, 4394.0, 16.0, 648.0, 6633.0, 8254.0, 8891.0, 471.0, 666.0, 410.0, 21455.0, 12282.0, 6212.0, 643.0, 20774.0, 21661.0, 419.0, 1044.0, 6910.0, 1583.0]                                                                                                                                       |\n",
            "|406    |[11903.0, 14274.0, 643.0, 7854.0, 619.0]  |[2162.0, 35.0, 117.0, 119.0, 2149.0, 122.0, 1280.0, 721.0, 2187.0, 6915.0, 6802.0, 7567.0, 15732.0, 8202.0, 3669.0, 3226.0, 357.0, 691.0, 3426.0, 4471.0, 160.0, 1110.0, 4016.0, 6273.0, 791.0, 5896.0]                                                                                                                                                                                                                                                                                                                                                                                     |\n",
            "|419    |[11903.0, 14274.0, 8418.0, 619.0, 6355.0] |[6251.0, 10136.0, 6949.0, 1444.0, 22921.0, 2278.0, 8095.0, 3520.0, 7519.0, 1254.0, 1321.0, 5858.0, 11095.0, 334.0, 864.0, 2275.0, 1993.0, 1258.0, 1063.0, 6432.0, 9039.0, 10544.0, 3067.0, 19835.0, 964.0, 7887.0, 18500.0, 5095.0, 5996.0, 2033.0, 1853.0, 674.0, 10107.0, 1612.0, 707.0, 4989.0, 581.0, 1344.0, 12912.0, 23716.0, 2457.0, 454.0, 2314.0, 527.0, 3401.0, 6976.0, 16931.0, 6547.0, 19555.0, 24052.0, 3833.0, 8983.0, 1302.0, 459.0, 863.0, 11819.0, 13869.0, 337.0, 23277.0, 117.0, 1995.0, 4654.0, 6150.0, 4715.0, 7997.0, 526.0, 16344.0, 333.0, 7814.0, 10474.0, 17387.0]|\n",
            "|426    |[5880.0, 1254.0, 335.0, 11903.0, 14274.0] |[383.0, 1342.0, 1994.0, 2884.0, 3521.0, 2400.0, 7134.0, 320.0, 348.0, 15348.0, 357.0, 15701.0, 2256.0, 18508.0, 8093.0, 20064.0, 9039.0, 792.0, 2594.0, 8136.0, 6202.0, 120.0, 8339.0, 1053.0, 615.0, 8812.0, 3682.0, 1186.0, 430.0, 340.0, 2069.0, 512.0, 160.0, 77.0, 3383.0, 1422.0, 2294.0, 743.0, 1421.0, 318.0, 1899.0, 449.0, 2858.0, 110.0, 4413.0, 1380.0, 5930.0, 1046.0, 464.0, 2701.0, 5886.0, 9553.0, 6482.0, 5822.0, 7036.0, 6150.0, 9675.0, 145.0, 2926.0, 4715.0, 706.0, 12095.0, 419.0, 798.0, 80.0, 865.0]                                                                |\n",
            "|431    |[11903.0, 14274.0, 7854.0, 619.0, 8418.0] |[669.0, 4140.0, 7977.0, 2.0, 4378.0, 4107.0, 371.0, 3374.0, 3730.0, 6734.0, 2349.0, 1475.0, 13293.0, 656.0, 413.0, 802.0, 352.0, 6746.0, 6404.0, 8798.0, 77.0, 1340.0, 505.0, 1941.0, 22107.0]                                                                                                                                                                                                                                                                                                                                                                                              |\n",
            "|463    |[8815.0, 1583.0, 473.0, 5922.0, 160.0]    |[9684.0, 1279.0, 120.0, 2045.0, 204.0, 1369.0, 961.0, 8254.0]                                                                                                                                                                                                                                                                                                                                                                                                                                                                                                                               |\n",
            "|483    |[11903.0, 14274.0, 7854.0, 8418.0, 619.0] |[8293.0, 1211.0, 3521.0, 581.0, 118.0, 204.0, 11183.0, 804.0, 2851.0, 3458.0, 18819.0, 528.0, 2256.0, 6163.0, 5926.0, 1423.0, 1258.0, 2162.0, 5878.0, 5968.0, 8573.0, 489.0, 8339.0, 533.0, 1022.0, 1376.0, 10601.0, 5125.0, 802.0, 526.0, 2069.0, 6449.0, 1042.0, 716.0, 5820.0, 80.0, 1422.0]                                                                                                                                                                                                                                                                                             |\n",
            "|499    |[14274.0, 8418.0, 619.0, 6355.0, 3637.0]  |[238.0, 8429.0, 988.0, 629.0, 4412.0, 671.0, 581.0, 6406.0, 106.0, 147.0, 631.0, 2440.0, 3968.0, 4364.0, 336.0, 8583.0, 6547.0, 682.0, 666.0, 28.0, 6302.0, 14672.0, 1355.0, 2599.0, 187.0, 791.0]                                                                                                                                                                                                                                                                                                                                                                                          |\n",
            "|546    |[570.0, 11975.0, 16931.0, 6101.0, 697.0]  |[2.0, 5968.0, 2967.0, 5859.0, 24937.0, 2255.0, 1460.0, 15332.0, 438.0, 666.0, 77.0, 6910.0, 199.0, 2275.0]                                                                                                                                                                                                                                                                                                                                                                                                                                                                                  |\n",
            "+-------+------------------------------------------+--------------------------------------------------------------------------------------------------------------------------------------------------------------------------------------------------------------------------------------------------------------------------------------------------------------------------------------------------------------------------------------------------------------------------------------------------------------------------------------------------------------------------------------------------------------------------------------------+\n",
            "only showing top 20 rows\n",
            "\n"
          ],
          "name": "stdout"
        }
      ]
    },
    {
      "cell_type": "code",
      "metadata": {
        "id": "UOV1XwsiBOZr",
        "colab": {
          "base_uri": "https://localhost:8080/"
        },
        "outputId": "ec614520-6fbf-43be-8362-f52786992f5a"
      },
      "source": [
        "evaluation = evaluate_df(\"Content-Based Filtering\", recommendations, k)\n",
        "metrics_df = metrics_df.union(evaluation)\n",
        "evaluation.show(truncate=False)"
      ],
      "execution_count": null,
      "outputs": [
        {
          "output_type": "stream",
          "text": [
            "+-----------------------+-------------------+-------------------+--------------------+-------------------+--------------------+------------------+\n",
            "|Model                  |MAP@1              |MAP@2              |MAP@3               |MAP@4              |MAP@5               |Personalization   |\n",
            "+-----------------------+-------------------+-------------------+--------------------+-------------------+--------------------+------------------+\n",
            "|Content-Based Filtering|0.06706706706706705|0.05130130130130129|0.042653764875987106|0.03682849516182847|0.032522522522522516|0.6763248218156821|\n",
            "+-----------------------+-------------------+-------------------+--------------------+-------------------+--------------------+------------------+\n",
            "\n"
          ],
          "name": "stdout"
        }
      ]
    },
    {
      "cell_type": "markdown",
      "metadata": {
        "id": "sYFLSFjo9uDM"
      },
      "source": [
        "## User-based CF\n",
        "In the user based collaborative filtering techinque, we try to recommend new items according to user rating vectors, which in this case are composed by all the IDs corresponding to the repos starred by one user."
      ]
    },
    {
      "cell_type": "code",
      "metadata": {
        "id": "eziNgd8dbK01",
        "cellView": "form"
      },
      "source": [
        "#@title Settings\n",
        "NEIGHBOURS = 5 #@param\n",
        "N_ITEMS = 5 #@param"
      ],
      "execution_count": null,
      "outputs": []
    },
    {
      "cell_type": "markdown",
      "metadata": {
        "id": "bUmyPtqPZIoG"
      },
      "source": [
        "### Building Similarity matrix"
      ]
    },
    {
      "cell_type": "markdown",
      "metadata": {
        "id": "M1EPZ_QoAdtv"
      },
      "source": [
        "First of all, we create a dataframe where every row contains a user id and the set of the repos id that the corresponding user has starred:"
      ]
    },
    {
      "cell_type": "code",
      "metadata": {
        "colab": {
          "base_uri": "https://localhost:8080/"
        },
        "id": "t56J8Koz4fOX",
        "outputId": "4f8f1052-65ca-420a-e935-e3d670dde7ba"
      },
      "source": [
        "starred_repos = train.groupBy(\"user_id\").agg(collect_set(\"repo_id\").alias(\"starred_repos\"))\n",
        "starred_repos.show()"
      ],
      "execution_count": null,
      "outputs": [
        {
          "output_type": "stream",
          "text": [
            "+-------+--------------------+\n",
            "|user_id|       starred_repos|\n",
            "+-------+--------------------+\n",
            "|     90|[1047, 662, 743, ...|\n",
            "|    123|[2440, 7660, 2, 1...|\n",
            "|    140|[8604, 204, 662, ...|\n",
            "|    150|[1148, 438, 6949,...|\n",
            "|    191|[691, 1, 743, 2, ...|\n",
            "|    210|[12095, 5199, 259...|\n",
            "|    263|[2440, 589, 12907...|\n",
            "|    320|[13293, 691, 438,...|\n",
            "|    336|[2581, 7692, 2, 1...|\n",
            "|    369|[5859, 9409, 1463...|\n",
            "|    384|[1148, 8604, 357,...|\n",
            "|    393|[7210, 204, 17975...|\n",
            "|    406|[3355, 7210, 3682...|\n",
            "|    419|[5859, 13061, 146...|\n",
            "|    426|[10802, 17402, 60...|\n",
            "|    431|[2207, 335, 691, ...|\n",
            "|    463|[25974, 169, 2, 1...|\n",
            "|    483|[5859, 1395, 2, 6...|\n",
            "|    499|[2258, 6977, 1057...|\n",
            "|    546|[2599, 691, 4081,...|\n",
            "+-------+--------------------+\n",
            "only showing top 20 rows\n",
            "\n"
          ],
          "name": "stdout"
        }
      ]
    },
    {
      "cell_type": "markdown",
      "metadata": {
        "id": "-DY0rPQ8Ar7W"
      },
      "source": [
        "Then, we compute the Jaccard similarity between each user pair using their vectors:"
      ]
    },
    {
      "cell_type": "code",
      "metadata": {
        "colab": {
          "base_uri": "https://localhost:8080/"
        },
        "id": "9KWe54B4-1BB",
        "outputId": "cdf3f5dc-ae8b-4dc9-e290-66946f6888d7"
      },
      "source": [
        "source_users = starred_repos.withColumnRenamed(\"user_id\", \"source_user_id\").withColumnRenamed(\"starred_repos\", \"source_starred_repos\")\n",
        "target_users = starred_repos.withColumnRenamed(\"user_id\", \"target_user_id\").withColumnRenamed(\"starred_repos\", \"target_starred_repos\")\n",
        "users_join = source_users.join(target_users, source_users.source_user_id != target_users.target_user_id).coalesce(2)\n",
        "jaccard = users_join.withColumn(\"jaccard_similarity\", jaccard_similarity_udf(\"source_starred_repos\", \"target_starred_repos\"))\n",
        "jaccard.show()"
      ],
      "execution_count": null,
      "outputs": [
        {
          "output_type": "stream",
          "text": [
            "+--------------+--------------------+--------------+--------------------+--------------------+\n",
            "|source_user_id|source_starred_repos|target_user_id|target_starred_repos|  jaccard_similarity|\n",
            "+--------------+--------------------+--------------+--------------------+--------------------+\n",
            "|            90|[1047, 662, 743, ...|           123|[2440, 7660, 2, 1...| 0.07758620689655173|\n",
            "|            90|[1047, 662, 743, ...|           140|[8604, 204, 662, ...|                0.01|\n",
            "|            90|[1047, 662, 743, ...|           150|[1148, 438, 6949,...|0.027777777777777776|\n",
            "|            90|[1047, 662, 743, ...|           191|[691, 1, 743, 2, ...| 0.09195402298850575|\n",
            "|            90|[1047, 662, 743, ...|           210|[12095, 5199, 259...| 0.05343511450381679|\n",
            "|            90|[1047, 662, 743, ...|           263|[2440, 589, 12907...|  0.0896551724137931|\n",
            "|            90|[1047, 662, 743, ...|           320|[13293, 691, 438,...|0.031578947368421054|\n",
            "|            90|[1047, 662, 743, ...|           336|[2581, 7692, 2, 1...|0.013513513513513514|\n",
            "|            90|[1047, 662, 743, ...|           369|[5859, 9409, 1463...| 0.07777777777777778|\n",
            "|            90|[1047, 662, 743, ...|           384|[1148, 8604, 357,...| 0.09473684210526316|\n",
            "|            90|[1047, 662, 743, ...|           393|[7210, 204, 17975...|0.023391812865497075|\n",
            "|            90|[1047, 662, 743, ...|           406|[3355, 7210, 3682...| 0.05154639175257732|\n",
            "|            90|[1047, 662, 743, ...|           419|[5859, 13061, 146...| 0.06985294117647059|\n",
            "|            90|[1047, 662, 743, ...|           426|[10802, 17402, 60...| 0.05025125628140704|\n",
            "|            90|[1047, 662, 743, ...|           431|[2207, 335, 691, ...| 0.07079646017699115|\n",
            "|            90|[1047, 662, 743, ...|           463|[25974, 169, 2, 1...|0.014492753623188406|\n",
            "|            90|[1047, 662, 743, ...|           483|[5859, 1395, 2, 6...| 0.10059171597633136|\n",
            "|            90|[1047, 662, 743, ...|           499|[2258, 6977, 1057...|0.056074766355140186|\n",
            "|            90|[1047, 662, 743, ...|           546|[2599, 691, 4081,...|0.011904761904761904|\n",
            "|            90|[1047, 662, 743, ...|           548|[7210, 691, 1, 61...| 0.12962962962962962|\n",
            "+--------------+--------------------+--------------+--------------------+--------------------+\n",
            "only showing top 20 rows\n",
            "\n"
          ],
          "name": "stdout"
        }
      ]
    },
    {
      "cell_type": "markdown",
      "metadata": {
        "id": "ivh2_D61ZbGy"
      },
      "source": [
        "### Taking top k similar users"
      ]
    },
    {
      "cell_type": "markdown",
      "metadata": {
        "id": "px-4Qf-2A4aj"
      },
      "source": [
        "Now, we take the `NEIGHBOURS` most similar users to each user in the dataframe:"
      ]
    },
    {
      "cell_type": "code",
      "metadata": {
        "colab": {
          "base_uri": "https://localhost:8080/"
        },
        "id": "YOE5_uvd9ycb",
        "outputId": "20ab14d0-0343-4407-ba0d-8d3647d5664b"
      },
      "source": [
        "window = Window.partitionBy(jaccard[\"source_user_id\"]).orderBy(jaccard[\"jaccard_similarity\"].desc())\n",
        "most_similar_users = (jaccard.select(\"*\", row_number().over(window).alias(\"rank\")) \n",
        "  .filter(col(\"rank\") <= NEIGHBOURS))\n",
        "most_similar_users.show()"
      ],
      "execution_count": null,
      "outputs": [
        {
          "output_type": "stream",
          "text": [
            "+--------------+--------------------+--------------+--------------------+-------------------+----+\n",
            "|source_user_id|source_starred_repos|target_user_id|target_starred_repos| jaccard_similarity|rank|\n",
            "+--------------+--------------------+--------------+--------------------+-------------------+----+\n",
            "|            90|[1047, 662, 743, ...|          4885|[204, 1984, 743, ...|           0.203125|   1|\n",
            "|            90|[1047, 662, 743, ...|          7579|[6977, 691, 865, ...|0.15463917525773196|   2|\n",
            "|            90|[1047, 662, 743, ...|          9864|[743, 1853, 2, 11...|0.13690476190476192|   3|\n",
            "|            90|[1047, 662, 743, ...|           550|[1984, 1853, 2, 7...|0.13513513513513514|   4|\n",
            "|            90|[1047, 662, 743, ...|          5027|[743, 1853, 2, 71...|0.13131313131313133|   5|\n",
            "|           123|[2440, 7660, 2, 1...|          6932|[5859, 743, 2, 12...|0.16363636363636364|   1|\n",
            "|           123|[2440, 7660, 2, 1...|          1257|[489, 2, 125, 418...|0.12389380530973451|   2|\n",
            "|           123|[2440, 7660, 2, 1...|          7109|[5859, 204, 5940,...|0.12280701754385964|   3|\n",
            "|           123|[2440, 7660, 2, 1...|          2420|[5830, 133, 2, 12...|0.11864406779661017|   4|\n",
            "|           123|[2440, 7660, 2, 1...|          9727|[10802, 5940, 766...|0.11711711711711711|   5|\n",
            "|           140|[8604, 204, 662, ...|          1043|[2, 11183, 2457, ...|0.11904761904761904|   1|\n",
            "|           140|[8604, 204, 662, ...|          7780|[0, 17402, 5859, ...|0.10457516339869281|   2|\n",
            "|           140|[8604, 204, 662, ...|          3662|[5859, 5680, 1169...|0.09734513274336283|   3|\n",
            "|           140|[8604, 204, 662, ...|          5087|[28907, 8604, 106...|0.09722222222222222|   4|\n",
            "|           140|[8604, 204, 662, ...|          4026|[5859, 438, 2, 62...|0.09523809523809523|   5|\n",
            "|           150|[1148, 438, 6949,...|          8706|[2, 2180, 5853, 1...| 0.1839080459770115|   1|\n",
            "|           150|[1148, 438, 6949,...|          4978|[641, 6042, 379, ...|0.14705882352941177|   2|\n",
            "|           150|[1148, 438, 6949,...|          6434|[8937, 1236, 1797...|0.14516129032258066|   3|\n",
            "|           150|[1148, 438, 6949,...|          2609|[8604, 103, 2, 37...|0.13513513513513514|   4|\n",
            "|           150|[1148, 438, 6949,...|          6090|[8451, 7210, 0, 4...|0.13157894736842105|   5|\n",
            "+--------------+--------------------+--------------+--------------------+-------------------+----+\n",
            "only showing top 20 rows\n",
            "\n"
          ],
          "name": "stdout"
        }
      ]
    },
    {
      "cell_type": "markdown",
      "metadata": {
        "id": "w7PDH4KYZkvC"
      },
      "source": [
        "### Predicting new repos"
      ]
    },
    {
      "cell_type": "markdown",
      "metadata": {
        "id": "KaOkqN5fBMlR"
      },
      "source": [
        "At this point, we take all the repos starred by the most similar users and we remove the repos already starred by the source user:"
      ]
    },
    {
      "cell_type": "code",
      "metadata": {
        "colab": {
          "base_uri": "https://localhost:8080/"
        },
        "id": "0jjJ_NLDPGPJ",
        "outputId": "3772b7c6-6a71-4ae3-b97a-6575636c2b0b"
      },
      "source": [
        "possible_repos = most_similar_users.select(\"*\", explode(\"target_starred_repos\").alias(\"starred_repo\"))\n",
        "repos_without_source_repos = possible_repos.filter(~array_contains(col(\"source_starred_repos\"), col(\"starred_repo\")))\n",
        "repos_without_source_repos.show()"
      ],
      "execution_count": null,
      "outputs": [
        {
          "output_type": "stream",
          "text": [
            "+--------------+--------------------+--------------+--------------------+------------------+----+------------+\n",
            "|source_user_id|source_starred_repos|target_user_id|target_starred_repos|jaccard_similarity|rank|starred_repo|\n",
            "+--------------+--------------------+--------------+--------------------+------------------+----+------------+\n",
            "|            90|[1047, 662, 743, ...|          4885|[204, 1984, 743, ...|          0.203125|   1|         204|\n",
            "|            90|[1047, 662, 743, ...|          4885|[204, 1984, 743, ...|          0.203125|   1|        1984|\n",
            "|            90|[1047, 662, 743, ...|          4885|[204, 1984, 743, ...|          0.203125|   1|        1853|\n",
            "|            90|[1047, 662, 743, ...|          4885|[204, 1984, 743, ...|          0.203125|   1|        5861|\n",
            "|            90|[1047, 662, 743, ...|          4885|[204, 1984, 743, ...|          0.203125|   1|        2180|\n",
            "|            90|[1047, 662, 743, ...|          4885|[204, 1984, 743, ...|          0.203125|   1|        5680|\n",
            "|            90|[1047, 662, 743, ...|          4885|[204, 1984, 743, ...|          0.203125|   1|         483|\n",
            "|            90|[1047, 662, 743, ...|          4885|[204, 1984, 743, ...|          0.203125|   1|        1826|\n",
            "|            90|[1047, 662, 743, ...|          4885|[204, 1984, 743, ...|          0.203125|   1|        1339|\n",
            "|            90|[1047, 662, 743, ...|          4885|[204, 1984, 743, ...|          0.203125|   1|        4258|\n",
            "|            90|[1047, 662, 743, ...|          4885|[204, 1984, 743, ...|          0.203125|   1|         433|\n",
            "|            90|[1047, 662, 743, ...|          4885|[204, 1984, 743, ...|          0.203125|   1|        1899|\n",
            "|            90|[1047, 662, 743, ...|          4885|[204, 1984, 743, ...|          0.203125|   1|         527|\n",
            "|            90|[1047, 662, 743, ...|          4885|[204, 1984, 743, ...|          0.203125|   1|         100|\n",
            "|            90|[1047, 662, 743, ...|          4885|[204, 1984, 743, ...|          0.203125|   1|         398|\n",
            "|            90|[1047, 662, 743, ...|          4885|[204, 1984, 743, ...|          0.203125|   1|        6532|\n",
            "|            90|[1047, 662, 743, ...|          4885|[204, 1984, 743, ...|          0.203125|   1|        9351|\n",
            "|            90|[1047, 662, 743, ...|          4885|[204, 1984, 743, ...|          0.203125|   1|         706|\n",
            "|            90|[1047, 662, 743, ...|          4885|[204, 1984, 743, ...|          0.203125|   1|          46|\n",
            "|            90|[1047, 662, 743, ...|          4885|[204, 1984, 743, ...|          0.203125|   1|       10107|\n",
            "+--------------+--------------------+--------------+--------------------+------------------+----+------------+\n",
            "only showing top 20 rows\n",
            "\n"
          ],
          "name": "stdout"
        }
      ]
    },
    {
      "cell_type": "markdown",
      "metadata": {
        "id": "5X1P0HK4Bc1y"
      },
      "source": [
        "Now, we compute the score of each repo by computing how many times each remaining repo has been starred by the most similar users:"
      ]
    },
    {
      "cell_type": "code",
      "metadata": {
        "colab": {
          "base_uri": "https://localhost:8080/"
        },
        "id": "zCSLbId7W9jq",
        "outputId": "188cf877-27e5-43fc-eb55-40a5ac001d78"
      },
      "source": [
        "repos_occurrencies = repos_without_source_repos.groupBy(\"source_user_id\", \"starred_repo\").count()\n",
        "repos_occurrencies.show()"
      ],
      "execution_count": null,
      "outputs": [
        {
          "output_type": "stream",
          "text": [
            "+--------------+------------+-----+\n",
            "|source_user_id|starred_repo|count|\n",
            "+--------------+------------+-----+\n",
            "|            90|         204|    1|\n",
            "|            90|        1984|    3|\n",
            "|            90|        1853|    4|\n",
            "|            90|        5861|    1|\n",
            "|            90|        2180|    1|\n",
            "|            90|        5680|    2|\n",
            "|            90|         483|    3|\n",
            "|            90|        1826|    1|\n",
            "|            90|        1339|    3|\n",
            "|            90|        4258|    2|\n",
            "|            90|         433|    1|\n",
            "|            90|        1899|    1|\n",
            "|            90|         527|    2|\n",
            "|            90|         100|    1|\n",
            "|            90|         398|    1|\n",
            "|            90|        6532|    2|\n",
            "|            90|        9351|    2|\n",
            "|            90|         706|    1|\n",
            "|            90|          46|    1|\n",
            "|            90|       10107|    1|\n",
            "+--------------+------------+-----+\n",
            "only showing top 20 rows\n",
            "\n"
          ],
          "name": "stdout"
        }
      ]
    },
    {
      "cell_type": "markdown",
      "metadata": {
        "id": "FJFXIP1msLxt"
      },
      "source": [
        "Finally, we take the `N_ITEMS` top scoring repos:"
      ]
    },
    {
      "cell_type": "code",
      "metadata": {
        "colab": {
          "base_uri": "https://localhost:8080/"
        },
        "id": "_nRR8S0baRS4",
        "outputId": "fd680d79-8475-4218-87e9-c062dd16f8de"
      },
      "source": [
        "window = Window.partitionBy(repos_occurrencies[\"source_user_id\"]).orderBy(repos_occurrencies[\"count\"].desc())\n",
        "recommendations = (repos_occurrencies.select(\"*\", row_number().over(window).alias(\"rank\")) \n",
        "  .filter(col(\"rank\") <= N_ITEMS))\n",
        "recommendations.show()"
      ],
      "execution_count": null,
      "outputs": [
        {
          "output_type": "stream",
          "text": [
            "+--------------+------------+-----+----+\n",
            "|source_user_id|starred_repo|count|rank|\n",
            "+--------------+------------+-----+----+\n",
            "|            90|        1853|    4|   1|\n",
            "|            90|        1984|    3|   2|\n",
            "|            90|         483|    3|   3|\n",
            "|            90|        1339|    3|   4|\n",
            "|            90|       15729|    3|   5|\n",
            "|           123|         238|    4|   1|\n",
            "|           123|         482|    4|   2|\n",
            "|           123|         122|    3|   3|\n",
            "|           123|          16|    3|   4|\n",
            "|           123|         120|    3|   5|\n",
            "|           140|         424|    5|   1|\n",
            "|           140|          28|    4|   2|\n",
            "|           140|           2|    3|   3|\n",
            "|           140|         746|    3|   4|\n",
            "|           140|        2162|    3|   5|\n",
            "|           150|         192|    3|   1|\n",
            "|           150|         120|    3|   2|\n",
            "|           150|        3375|    3|   3|\n",
            "|           150|        2609|    3|   4|\n",
            "|           150|        8937|    3|   5|\n",
            "+--------------+------------+-----+----+\n",
            "only showing top 20 rows\n",
            "\n"
          ],
          "name": "stdout"
        }
      ]
    },
    {
      "cell_type": "markdown",
      "metadata": {
        "id": "4Sz_1UZV9rJ0"
      },
      "source": [
        "### Evaluation"
      ]
    },
    {
      "cell_type": "code",
      "metadata": {
        "colab": {
          "base_uri": "https://localhost:8080/"
        },
        "id": "VF8EafA8bPYi",
        "outputId": "78751421-75c8-4108-ce4d-c0bc52918833"
      },
      "source": [
        "recommendations_list = recommendations.withColumn(\"starred_repo\", col(\"starred_repo\").cast(\"double\")).groupBy(\"source_user_id\").agg(collect_list(\"starred_repo\").alias(\"recommended_repos\"))\n",
        "recommendations_list.show()"
      ],
      "execution_count": null,
      "outputs": [
        {
          "output_type": "stream",
          "text": [
            "+--------------+--------------------+\n",
            "|source_user_id|   recommended_repos|\n",
            "+--------------+--------------------+\n",
            "|            90|[1853.0, 1984.0, ...|\n",
            "|           123|[238.0, 482.0, 12...|\n",
            "|           140|[424.0, 28.0, 2.0...|\n",
            "|           150|[192.0, 120.0, 33...|\n",
            "|           191|[35.0, 1148.0, 13...|\n",
            "|           210|[2400.0, 204.0, 5...|\n",
            "|           263|[1839.0, 5144.0, ...|\n",
            "|           320|[35.0, 1070.0, 11...|\n",
            "|           336|[526.0, 7959.0, 6...|\n",
            "|           369|[7567.0, 10544.0,...|\n",
            "|           384|[1110.0, 441.0, 5...|\n",
            "|           393|[16.0, 2361.0, 54...|\n",
            "|           406|[833.0, 11844.0, ...|\n",
            "|           419|[352.0, 1995.0, 6...|\n",
            "|           426|[238.0, 28.0, 357...|\n",
            "|           431|[489.0, 2.0, 527....|\n",
            "|           463|[647.0, 4394.0, 2...|\n",
            "|           483|[192.0, 11469.0, ...|\n",
            "|           499|[6005.0, 458.0, 5...|\n",
            "|           546|[2.0, 158.0, 7.0,...|\n",
            "+--------------+--------------------+\n",
            "only showing top 20 rows\n",
            "\n"
          ],
          "name": "stdout"
        }
      ]
    },
    {
      "cell_type": "code",
      "metadata": {
        "colab": {
          "base_uri": "https://localhost:8080/"
        },
        "id": "UwyCdKn-u081",
        "outputId": "9b521fc6-8499-4049-8c5b-411b3c22c739"
      },
      "source": [
        "recommendations = recommendations_list.withColumnRenamed(\"source_user_id\", \"user_id\").join(gt, \"user_id\").cache()\n",
        "recommendations.show()"
      ],
      "execution_count": null,
      "outputs": [
        {
          "output_type": "stream",
          "text": [
            "+-------+--------------------+--------------------+\n",
            "|user_id|   recommended_repos|              labels|\n",
            "+-------+--------------------+--------------------+\n",
            "|     90|[1853.0, 1984.0, ...|[1258.0, 5968.0, ...|\n",
            "|    123|[238.0, 482.0, 12...|[238.0, 123.0, 10...|\n",
            "|    140|[424.0, 28.0, 2.0...|[4815.0, 2.0, 296...|\n",
            "|    150|[192.0, 120.0, 33...|[2162.0, 8332.0, ...|\n",
            "|    191|[35.0, 1148.0, 13...|[383.0, 414.0, 35...|\n",
            "|    210|[2400.0, 204.0, 5...|[238.0, 3374.0, 7...|\n",
            "|    263|[1839.0, 5144.0, ...|[11903.0, 988.0, ...|\n",
            "|    320|[35.0, 1070.0, 11...|[1236.0, 6935.0, ...|\n",
            "|    336|[526.0, 7959.0, 6...|     [2851.0, 357.0]|\n",
            "|    369|[7567.0, 10544.0,...|[7197.0, 2967.0, ...|\n",
            "|    384|[1110.0, 441.0, 5...|[527.0, 11.0, 106...|\n",
            "|    393|[16.0, 2361.0, 54...|[383.0, 645.0, 49...|\n",
            "|    406|[833.0, 11844.0, ...|[2162.0, 35.0, 11...|\n",
            "|    419|[352.0, 1995.0, 6...|[6251.0, 10136.0,...|\n",
            "|    426|[238.0, 28.0, 357...|[383.0, 1342.0, 1...|\n",
            "|    431|[489.0, 2.0, 527....|[669.0, 4140.0, 7...|\n",
            "|    463|[647.0, 4394.0, 2...|[9684.0, 1279.0, ...|\n",
            "|    483|[192.0, 11469.0, ...|[8293.0, 1211.0, ...|\n",
            "|    499|[6005.0, 458.0, 5...|[238.0, 8429.0, 9...|\n",
            "|    546|[2.0, 158.0, 7.0,...|[2.0, 5968.0, 296...|\n",
            "+-------+--------------------+--------------------+\n",
            "only showing top 20 rows\n",
            "\n"
          ],
          "name": "stdout"
        }
      ]
    },
    {
      "cell_type": "code",
      "metadata": {
        "colab": {
          "base_uri": "https://localhost:8080/"
        },
        "id": "IYwKlZ-AdyYh",
        "outputId": "40b9c91b-af9a-4adf-8fda-8511f575d150"
      },
      "source": [
        "evaluation = evaluate_df(\"User-Based Content Filtering\", recommendations, k)\n",
        "metrics_df = metrics_df.union(evaluation)\n",
        "evaluation.show(truncate=False)"
      ],
      "execution_count": null,
      "outputs": [
        {
          "output_type": "stream",
          "text": [
            "+----------------------------+------------------+-------------------+------------------+-----------------+-------------------+------------------+\n",
            "|Model                       |MAP@1             |MAP@2              |MAP@3             |MAP@4            |MAP@5              |Personalization   |\n",
            "+----------------------------+------------------+-------------------+------------------+-----------------+-------------------+------------------+\n",
            "|User-Based Content Filtering|0.3573573573573576|0.26126126126126126|0.2128795462128795|0.183078912245579|0.16428428428428427|0.9654135097021015|\n",
            "+----------------------------+------------------+-------------------+------------------+-----------------+-------------------+------------------+\n",
            "\n"
          ],
          "name": "stdout"
        }
      ]
    },
    {
      "cell_type": "markdown",
      "metadata": {
        "id": "vQ_qg-oPgcsf"
      },
      "source": [
        "## Item-based CF\n",
        "\n",
        "In the Item-based Collaborative Filtering techinque, we try to recommend new items exploiting the similarity between the vector representation of the items that a user has already starred and the ones that has not starred yet.\n"
      ]
    },
    {
      "cell_type": "code",
      "metadata": {
        "id": "RW-Q_6URw1FQ",
        "cellView": "form"
      },
      "source": [
        "#@title Settings\n",
        "NEIGHBOURS =  5#@param\n",
        "N_ITEMS =  5#@param"
      ],
      "execution_count": null,
      "outputs": []
    },
    {
      "cell_type": "markdown",
      "metadata": {
        "id": "PXy7lPy0h8IM"
      },
      "source": [
        "### Build Similarity matrix\n",
        "\n",
        "In order to build the similarity matrix, we compute the item vectors which are the lists of users that starred that repo."
      ]
    },
    {
      "cell_type": "code",
      "metadata": {
        "colab": {
          "base_uri": "https://localhost:8080/"
        },
        "id": "GS298U-ZIGGd",
        "outputId": "534dd337-a767-403e-efa2-fe2c64cd7b4e"
      },
      "source": [
        "item_vectors = train.groupBy(\"repo_id\").agg(collect_set(\"user_id\").alias(\"item_vector\"))\n",
        "item_vectors.show()"
      ],
      "execution_count": null,
      "outputs": [
        {
          "output_type": "stream",
          "text": [
            "+-------+--------------------+\n",
            "|repo_id|         item_vector|\n",
            "+-------+--------------------+\n",
            "|      2|[8951, 9380, 8982...|\n",
            "|     28|[9380, 785, 3450,...|\n",
            "|     46|[1199, 5147, 7202...|\n",
            "|     50|[3601, 6164, 2543...|\n",
            "|     58|[7681, 8343, 6471...|\n",
            "|     77|[5147, 7202, 2992...|\n",
            "|     92|[6164, 4995, 6287...|\n",
            "|    109|[5534, 4416, 6623...|\n",
            "|    110|[5359, 4995, 7681...|\n",
            "|    118|[6956, 2665, 9380...|\n",
            "|    123|[8748, 1657, 9765...|\n",
            "|    126|[2992, 7275, 5534...|\n",
            "|    133|[5359, 7914, 9634...|\n",
            "|    168|[8951, 9634, 8751...|\n",
            "|    169|[8951, 7202, 1657...|\n",
            "|    176|[4995, 4110, 2992...|\n",
            "|    187|[5990, 7994, 9634...|\n",
            "|    198|[7202, 9380, 785,...|\n",
            "|    202|[785, 5432, 9411,...|\n",
            "|    203|[9380, 5534, 8343...|\n",
            "+-------+--------------------+\n",
            "only showing top 20 rows\n",
            "\n"
          ],
          "name": "stdout"
        }
      ]
    },
    {
      "cell_type": "markdown",
      "metadata": {
        "id": "ySTjc6zAkNId"
      },
      "source": [
        "Then, we add the item vectors to each repo in the train set."
      ]
    },
    {
      "cell_type": "code",
      "metadata": {
        "colab": {
          "base_uri": "https://localhost:8080/"
        },
        "id": "fCknTCp6iX40",
        "outputId": "33a8fffc-4f54-4a0b-c892-0d1edbc017b0"
      },
      "source": [
        "user_item = train.join(item_vectors, \"repo_id\")\n",
        "user_item.show()"
      ],
      "execution_count": null,
      "outputs": [
        {
          "output_type": "stream",
          "text": [
            "+-------+-------+--------------------+\n",
            "|repo_id|user_id|         item_vector|\n",
            "+-------+-------+--------------------+\n",
            "|      0|    145|[5990, 2665, 1657...|\n",
            "|      0|    322|[5990, 2665, 1657...|\n",
            "|      0|    726|[5990, 2665, 1657...|\n",
            "|      0|    746|[5990, 2665, 1657...|\n",
            "|      0|    766|[5990, 2665, 1657...|\n",
            "|      0|    971|[5990, 2665, 1657...|\n",
            "|      0|   1567|[5990, 2665, 1657...|\n",
            "|      0|   1638|[5990, 2665, 1657...|\n",
            "|      0|   1657|[5990, 2665, 1657...|\n",
            "|      0|   1977|[5990, 2665, 1657...|\n",
            "|      0|   2011|[5990, 2665, 1657...|\n",
            "|      0|   2061|[5990, 2665, 1657...|\n",
            "|      0|   2126|[5990, 2665, 1657...|\n",
            "|      0|   2226|[5990, 2665, 1657...|\n",
            "|      0|   2464|[5990, 2665, 1657...|\n",
            "|      0|   2517|[5990, 2665, 1657...|\n",
            "|      0|   2665|[5990, 2665, 1657...|\n",
            "|      0|   2911|[5990, 2665, 1657...|\n",
            "|      0|   2931|[5990, 2665, 1657...|\n",
            "|      0|   3108|[5990, 2665, 1657...|\n",
            "+-------+-------+--------------------+\n",
            "only showing top 20 rows\n",
            "\n"
          ],
          "name": "stdout"
        }
      ]
    },
    {
      "cell_type": "markdown",
      "metadata": {
        "id": "5jKhd6I9kTdf"
      },
      "source": [
        "Now, we add the list of starred repos of the user to each record of train set."
      ]
    },
    {
      "cell_type": "code",
      "metadata": {
        "id": "XfvX2fYUmFIM",
        "colab": {
          "base_uri": "https://localhost:8080/"
        },
        "outputId": "088069a0-3c3d-4379-a9c7-94136fcb3ea2"
      },
      "source": [
        "# Take the repos starred by each user\n",
        "user_starred_repos = train.groupBy(\"user_id\").agg(collect_set(\"repo_id\").alias(\"starred_repos\"))\n",
        "user_starred_repos.show()\n",
        "\n",
        "# Added the starred repos array to each user's record\n",
        "user_item = user_item.join(user_starred_repos, \"user_id\")\n",
        "user_item.show()"
      ],
      "execution_count": null,
      "outputs": [
        {
          "output_type": "stream",
          "text": [
            "+-------+--------------------+\n",
            "|user_id|       starred_repos|\n",
            "+-------+--------------------+\n",
            "|     90|[1047, 662, 743, ...|\n",
            "|    123|[2440, 7660, 2, 1...|\n",
            "|    140|[8604, 204, 662, ...|\n",
            "|    150|[1148, 438, 6949,...|\n",
            "|    191|[691, 1, 743, 2, ...|\n",
            "|    210|[12095, 5199, 259...|\n",
            "|    263|[2440, 589, 12907...|\n",
            "|    320|[13293, 691, 438,...|\n",
            "|    336|[2581, 7692, 2, 1...|\n",
            "|    369|[5859, 9409, 1463...|\n",
            "|    384|[1148, 8604, 357,...|\n",
            "|    393|[7210, 204, 17975...|\n",
            "|    406|[3355, 7210, 3682...|\n",
            "|    419|[5859, 13061, 146...|\n",
            "|    426|[10802, 17402, 60...|\n",
            "|    431|[2207, 335, 691, ...|\n",
            "|    463|[25974, 169, 2, 1...|\n",
            "|    483|[5859, 1395, 2, 6...|\n",
            "|    499|[2258, 6977, 1057...|\n",
            "|    546|[2599, 691, 4081,...|\n",
            "+-------+--------------------+\n",
            "only showing top 20 rows\n",
            "\n",
            "+-------+-------+--------------------+--------------------+\n",
            "|user_id|repo_id|         item_vector|       starred_repos|\n",
            "+-------+-------+--------------------+--------------------+\n",
            "|    145|      0|[5990, 2665, 1657...|[0, 133, 489, 2, ...|\n",
            "|    322|      0|[5990, 2665, 1657...|[0, 1322, 4081, 7...|\n",
            "|    726|      0|[5990, 2665, 1657...|[0, 17402, 4059, ...|\n",
            "|    746|      0|[5990, 2665, 1657...|[10802, 0, 743, 1...|\n",
            "|    766|      0|[5990, 2665, 1657...|[0, 5859, 17975, ...|\n",
            "|    971|      0|[5990, 2665, 1657...|[0, 4379, 16, 179...|\n",
            "|   1567|      0|[5990, 2665, 1657...|[0, 8603, 8798, 3...|\n",
            "|   1638|      0|[5990, 2665, 1657...|[2207, 0, 17975, ...|\n",
            "|   1657|      0|[5990, 2665, 1657...|[0, 6977, 13061, ...|\n",
            "|   1977|      0|[5990, 2665, 1657...|[1148, 0, 458, 21...|\n",
            "|   2011|      0|[5990, 2665, 1657...|[6316, 4393, 407,...|\n",
            "|   2061|      0|[5990, 2665, 1657...|[0, 14672, 757, 3...|\n",
            "|   2126|      0|[5990, 2665, 1657...|[2440, 0, 510, 74...|\n",
            "|   2226|      0|[5990, 2665, 1657...|[0, 458, 691, 205...|\n",
            "|   2464|      0|[5990, 2665, 1657...|[2207, 0, 691, 58...|\n",
            "|   2517|      0|[5990, 2665, 1657...|[1561, 1612, 0, 1...|\n",
            "|   2665|      0|[5990, 2665, 1657...|[0, 407, 2, 8445,...|\n",
            "|   2911|      0|[5990, 2665, 1657...|[0, 1322, 5076, 2...|\n",
            "|   2931|      0|[5990, 2665, 1657...|[2440, 0, 2266, 1...|\n",
            "|   3108|      0|[5990, 2665, 1657...|[0, 8445, 1172, 1...|\n",
            "+-------+-------+--------------------+--------------------+\n",
            "only showing top 20 rows\n",
            "\n"
          ],
          "name": "stdout"
        }
      ]
    },
    {
      "cell_type": "markdown",
      "metadata": {
        "id": "5t5d55QZmFnU"
      },
      "source": [
        "Now, we associate the items on which will be computed the similarity value. We need to associate all the items starred by the user with all the items not starred yet by the same user.\n",
        "\n",
        "In order to do so, we join the item vectors to the table containing the items starred by each user. It is important to remove the items already starred by the user and to do this we can use the list of starred repos added before."
      ]
    },
    {
      "cell_type": "code",
      "metadata": {
        "id": "i8NNkH2_N-Rl",
        "colab": {
          "base_uri": "https://localhost:8080/"
        },
        "outputId": "689a73e6-b276-4da5-f051-3bd1d2c59393"
      },
      "source": [
        "other_items = item_vectors.select(col(\"repo_id\").alias(\"repo2_id\"), col(\"item_vector\").alias(\"item2_vector\"))\n",
        "user_item_item = user_item.join(other_items, ~array_contains(col(\"starred_repos\"), col(\"repo2_id\")))\n",
        "user_item_item.show()"
      ],
      "execution_count": null,
      "outputs": [
        {
          "output_type": "stream",
          "text": [
            "+-------+-------+--------------------+--------------------+--------+--------------------+\n",
            "|user_id|repo_id|         item_vector|       starred_repos|repo2_id|        item2_vector|\n",
            "+-------+-------+--------------------+--------------------+--------+--------------------+\n",
            "|    145|      0|[5990, 2665, 1657...|[0, 133, 489, 2, ...|      50|[3601, 6164, 2543...|\n",
            "|    145|      0|[5990, 2665, 1657...|[0, 133, 489, 2, ...|      58|[7681, 8343, 6471...|\n",
            "|    145|      0|[5990, 2665, 1657...|[0, 133, 489, 2, ...|      77|[5147, 7202, 2992...|\n",
            "|    145|      0|[5990, 2665, 1657...|[0, 133, 489, 2, ...|      92|[6164, 4995, 6287...|\n",
            "|    145|      0|[5990, 2665, 1657...|[0, 133, 489, 2, ...|     109|[5534, 4416, 6623...|\n",
            "|    145|      0|[5990, 2665, 1657...|[0, 133, 489, 2, ...|     110|[5359, 4995, 7681...|\n",
            "|    145|      0|[5990, 2665, 1657...|[0, 133, 489, 2, ...|     118|[6956, 2665, 9380...|\n",
            "|    145|      0|[5990, 2665, 1657...|[0, 133, 489, 2, ...|     168|[8951, 9634, 8751...|\n",
            "|    145|      0|[5990, 2665, 1657...|[0, 133, 489, 2, ...|     169|[8951, 7202, 1657...|\n",
            "|    145|      0|[5990, 2665, 1657...|[0, 133, 489, 2, ...|     176|[4995, 4110, 2992...|\n",
            "|    145|      0|[5990, 2665, 1657...|[0, 133, 489, 2, ...|     187|[5990, 7994, 9634...|\n",
            "|    145|      0|[5990, 2665, 1657...|[0, 133, 489, 2, ...|     198|[7202, 9380, 785,...|\n",
            "|    145|      0|[5990, 2665, 1657...|[0, 133, 489, 2, ...|     202|[785, 5432, 9411,...|\n",
            "|    145|      0|[5990, 2665, 1657...|[0, 133, 489, 2, ...|     203|[9380, 5534, 8343...|\n",
            "|    145|      0|[5990, 2665, 1657...|[0, 133, 489, 2, ...|     238|[7202, 9380, 785,...|\n",
            "|    145|      0|[5990, 2665, 1657...|[0, 133, 489, 2, ...|     297|[2665, 4995, 7326...|\n",
            "|    145|      0|[5990, 2665, 1657...|[0, 133, 489, 2, ...|     300|[3682, 7711, 2971...|\n",
            "|    145|      0|[5990, 2665, 1657...|[0, 133, 489, 2, ...|     328|[8951, 1657, 2992...|\n",
            "|    145|      0|[5990, 2665, 1657...|[0, 133, 489, 2, ...|     333|[5990, 6956, 7681...|\n",
            "|    145|      0|[5990, 2665, 1657...|[0, 133, 489, 2, ...|     336|[5147, 5359, 8982...|\n",
            "+-------+-------+--------------------+--------------------+--------+--------------------+\n",
            "only showing top 20 rows\n",
            "\n"
          ],
          "name": "stdout"
        }
      ]
    },
    {
      "cell_type": "markdown",
      "metadata": {
        "id": "A6mlf397iF5n"
      },
      "source": [
        "Since we will have many correlations item-to-item repeated for different users we precompute the similarity matrix between all pair of items. In this way, in the next step we can use this matrix instead of re-computing many times the same values."
      ]
    },
    {
      "cell_type": "code",
      "metadata": {
        "colab": {
          "base_uri": "https://localhost:8080/"
        },
        "id": "M5eDQaFQihmJ",
        "outputId": "eef429f6-e168-45ad-850c-b009994328b9"
      },
      "source": [
        "temp = item_vectors.select(col(\"repo_id\").alias(\"repo2_id\"), col(\"item_vector\").alias(\"item2_vector\"))\n",
        "similarity = item_vectors.join(temp, col(\"repo_id\") != col(\"repo2_id\"))\n",
        "\n",
        "similarity = similarity.withColumn(\"jaccard_similarity\", jaccard_similarity_udf(\"item_vector\", \"item2_vector\")).persist(StorageLevel.MEMORY_ONLY)\n",
        "similarity.show()"
      ],
      "execution_count": null,
      "outputs": [
        {
          "output_type": "stream",
          "text": [
            "+-------+--------------------+--------+--------------------+--------------------+\n",
            "|repo_id|         item_vector|repo2_id|        item2_vector|  jaccard_similarity|\n",
            "+-------+--------------------+--------+--------------------+--------------------+\n",
            "|      2|[8951, 9380, 8982...|      28|[9380, 785, 3450,...|  0.2503128911138924|\n",
            "|      2|[8951, 9380, 8982...|      46|[1199, 5147, 7202...| 0.11637347767253045|\n",
            "|      2|[8951, 9380, 8982...|      50|[3601, 6164, 2543...|0.036885245901639344|\n",
            "|      2|[8951, 9380, 8982...|      58|[7681, 8343, 6471...| 0.05327868852459016|\n",
            "|      2|[8951, 9380, 8982...|      77|[5147, 7202, 2992...| 0.15013054830287206|\n",
            "|      2|[8951, 9380, 8982...|      92|[6164, 4995, 6287...|0.059474412171507604|\n",
            "|      2|[8951, 9380, 8982...|     109|[5534, 4416, 6623...| 0.12234042553191489|\n",
            "|      2|[8951, 9380, 8982...|     110|[5359, 4995, 7681...| 0.07417582417582418|\n",
            "|      2|[8951, 9380, 8982...|     118|[6956, 2665, 9380...| 0.18075422626788037|\n",
            "|      2|[8951, 9380, 8982...|     123|[8748, 1657, 9765...| 0.04945054945054945|\n",
            "|      2|[8951, 9380, 8982...|     126|[2992, 7275, 5534...|  0.1455026455026455|\n",
            "|      2|[8951, 9380, 8982...|     133|[5359, 7914, 9634...| 0.06925207756232687|\n",
            "|      2|[8951, 9380, 8982...|     168|[8951, 9634, 8751...| 0.11126005361930295|\n",
            "|      2|[8951, 9380, 8982...|     169|[8951, 7202, 1657...| 0.10591471801925723|\n",
            "|      2|[8951, 9380, 8982...|     176|[4995, 4110, 2992...| 0.05006954102920723|\n",
            "|      2|[8951, 9380, 8982...|     187|[5990, 7994, 9634...|0.044382801664355064|\n",
            "|      2|[8951, 9380, 8982...|     198|[7202, 9380, 785,...|  0.1934640522875817|\n",
            "|      2|[8951, 9380, 8982...|     202|[785, 5432, 9411,...| 0.06796116504854369|\n",
            "|      2|[8951, 9380, 8982...|     203|[9380, 5534, 8343...|0.054945054945054944|\n",
            "|      2|[8951, 9380, 8982...|     238|[7202, 9380, 785,...| 0.26674786845310594|\n",
            "+-------+--------------------+--------+--------------------+--------------------+\n",
            "only showing top 20 rows\n",
            "\n"
          ],
          "name": "stdout"
        }
      ]
    },
    {
      "cell_type": "markdown",
      "metadata": {
        "id": "AGTIZW1Sit8t"
      },
      "source": [
        "As said, we use the previous matrix in order to compute the similarity between all the repos for each user."
      ]
    },
    {
      "cell_type": "code",
      "metadata": {
        "colab": {
          "base_uri": "https://localhost:8080/"
        },
        "id": "07hfu17RjV9n",
        "outputId": "7972445f-dbbb-4232-b74d-ade12c2489ef"
      },
      "source": [
        "from pyspark.sql.functions import broadcast\n",
        "\n",
        "similarity_matrix = similarity.select(col(\"repo_id\").alias(\"sim_repo_id\"), col(\"repo2_id\").alias(\"sim_repo2_id\"), \"jaccard_similarity\")\n",
        "jaccard = user_item_item.join(broadcast(similarity_matrix), [col(\"repo_id\") == col(\"sim_repo_id\"), col(\"repo2_id\") == col(\"sim_repo2_id\")]).select(\"user_id\", \"repo_id\", \"repo2_id\", \"jaccard_similarity\")\n",
        "jaccard.show()"
      ],
      "execution_count": null,
      "outputs": [
        {
          "output_type": "stream",
          "text": [
            "+-------+-------+--------+--------------------+\n",
            "|user_id|repo_id|repo2_id|  jaccard_similarity|\n",
            "+-------+-------+--------+--------------------+\n",
            "|    145|      0|      50| 0.04316546762589928|\n",
            "|    145|      0|      58|0.060810810810810814|\n",
            "|    145|      0|      77| 0.12658227848101267|\n",
            "|    145|      0|      92|  0.0410958904109589|\n",
            "|    145|      0|     109| 0.07476635514018691|\n",
            "|    145|      0|     110| 0.07006369426751592|\n",
            "|    145|      0|     118| 0.06521739130434782|\n",
            "|    145|      0|     168| 0.11398963730569948|\n",
            "|    145|      0|     169|  0.1377245508982036|\n",
            "|    145|      0|     176|0.044444444444444446|\n",
            "|    145|      0|     187| 0.06923076923076923|\n",
            "|    145|      0|     198| 0.07553956834532374|\n",
            "|    145|      0|     202|                0.04|\n",
            "|    145|      0|     203| 0.03355704697986577|\n",
            "|    145|      0|     238| 0.10077519379844961|\n",
            "|    145|      0|     297| 0.02097902097902098|\n",
            "|    145|      0|     300|0.044444444444444446|\n",
            "|    145|      0|     328|  0.1366906474820144|\n",
            "|    145|      0|     333|0.056962025316455694|\n",
            "|    145|      0|     336| 0.07317073170731707|\n",
            "+-------+-------+--------+--------------------+\n",
            "only showing top 20 rows\n",
            "\n"
          ],
          "name": "stdout"
        }
      ]
    },
    {
      "cell_type": "markdown",
      "metadata": {
        "id": "dYjw1Hp0h0xc"
      },
      "source": [
        "### Taking top k similar items\n",
        "\n",
        "Now, we compute the top-k similar items to each repo starred by a user."
      ]
    },
    {
      "cell_type": "code",
      "metadata": {
        "colab": {
          "base_uri": "https://localhost:8080/"
        },
        "id": "heV-Ol0UwWV3",
        "outputId": "7eae1f83-139e-47b9-fd78-fed90faf2b60"
      },
      "source": [
        "window = Window.partitionBy(jaccard[\"user_id\"], jaccard[\"repo_id\"]).orderBy(jaccard[\"jaccard_similarity\"].desc())\n",
        "top_k_repos = jaccard.select(\"*\", row_number().over(window).alias(\"rank\")).filter(col(\"rank\") <= NEIGHBOURS)\n",
        "top_k_repos.show()"
      ],
      "execution_count": null,
      "outputs": [
        {
          "output_type": "stream",
          "text": [
            "+-------+-------+--------+-------------------+----+\n",
            "|user_id|repo_id|repo2_id| jaccard_similarity|rank|\n",
            "+-------+-------+--------+-------------------+----+\n",
            "|     44|      2|      35| 0.3366214549938348|   1|\n",
            "|     44|      2|       1|  0.289873417721519|   2|\n",
            "|     44|      2|     352| 0.2782608695652174|   3|\n",
            "|     44|      2|     238|0.26674786845310594|   4|\n",
            "|     44|      2|     119|0.26169405815423513|   5|\n",
            "|     44|    353|     482|0.22857142857142856|   1|\n",
            "|     44|    353|     533|0.22580645161290322|   2|\n",
            "|     44|    353|    6709|0.21052631578947367|   3|\n",
            "|     44|    353|     118|0.19047619047619047|   4|\n",
            "|     44|    353|    5680| 0.1890547263681592|   5|\n",
            "|     44|    442|     797|0.21238938053097345|   1|\n",
            "|     44|    442|    3374|0.20735785953177258|   2|\n",
            "|     44|    442|      16|0.20638820638820637|   3|\n",
            "|     44|    442|     352|0.20601851851851852|   4|\n",
            "|     44|    442|     119|0.20393120393120392|   5|\n",
            "|     44|    473|    6547|0.13580246913580246|   1|\n",
            "|     44|    473|    2361|0.13414634146341464|   2|\n",
            "|     44|    473|    1186|0.13333333333333333|   3|\n",
            "|     44|    473|   10802|0.12345679012345678|   4|\n",
            "|     44|    473|     337|0.12307692307692308|   5|\n",
            "+-------+-------+--------+-------------------+----+\n",
            "only showing top 20 rows\n",
            "\n"
          ],
          "name": "stdout"
        }
      ]
    },
    {
      "cell_type": "markdown",
      "metadata": {
        "id": "Iopwhnx7j3r8"
      },
      "source": [
        "### Predicting new repos\n",
        "\n",
        "At this point, for the prediction we count the number of times each repo is in the top k similar items for each user."
      ]
    },
    {
      "cell_type": "code",
      "metadata": {
        "id": "YjkyymrgZ4gK",
        "colab": {
          "base_uri": "https://localhost:8080/"
        },
        "outputId": "06443f12-e1b9-4316-d129-a4b0b1f68438"
      },
      "source": [
        "repos_occurrencies = top_k_repos.groupBy(\"user_id\", \"repo2_id\").count()\n",
        "repos_occurrencies.show()"
      ],
      "execution_count": null,
      "outputs": [
        {
          "output_type": "stream",
          "text": [
            "+-------+--------+-----+\n",
            "|user_id|repo2_id|count|\n",
            "+-------+--------+-----+\n",
            "|     44|     238|    3|\n",
            "|     44|     119|    2|\n",
            "|     44|     118|    1|\n",
            "|     44|    5680|    3|\n",
            "|     44|     797|    1|\n",
            "|     44|    3374|    1|\n",
            "|     44|      16|    1|\n",
            "|     44|    6547|    1|\n",
            "|     44|    1186|    1|\n",
            "|     44|     337|    2|\n",
            "|     44|    8293|    1|\n",
            "|     44|   26615|    1|\n",
            "|     44|    5939|    1|\n",
            "|     44|    8604|    1|\n",
            "|     44|     435|    1|\n",
            "|     44|    2275|    2|\n",
            "|     44|    1896|    2|\n",
            "|     44|    5968|    1|\n",
            "|     44|     873|    1|\n",
            "|     44|   15780|    1|\n",
            "+-------+--------+-----+\n",
            "only showing top 20 rows\n",
            "\n"
          ],
          "name": "stdout"
        }
      ]
    },
    {
      "cell_type": "markdown",
      "metadata": {
        "id": "n3el-f3BjXvy"
      },
      "source": [
        "And take the top-k items for each user based on the number of occurrencies."
      ]
    },
    {
      "cell_type": "code",
      "metadata": {
        "id": "655olqMGZ4gL",
        "colab": {
          "base_uri": "https://localhost:8080/"
        },
        "outputId": "b1e0eeb7-a0ff-4c82-c373-13143e4a254f"
      },
      "source": [
        "window = Window.partitionBy(repos_occurrencies[\"user_id\"]).orderBy(repos_occurrencies[\"count\"].desc())\n",
        "recommendations = repos_occurrencies.select(\"*\", row_number().over(window).alias(\"rank\")).filter(col(\"rank\") <= N_ITEMS)\n",
        "recommendations.show()"
      ],
      "execution_count": null,
      "outputs": [
        {
          "output_type": "stream",
          "text": [
            "+-------+--------+-----+----+\n",
            "|user_id|repo2_id|count|rank|\n",
            "+-------+--------+-----+----+\n",
            "|     90|    2283|    9|   1|\n",
            "|     90|      28|    7|   2|\n",
            "|     90|     527|    7|   3|\n",
            "|     90|    9989|    7|   4|\n",
            "|     90|      35|    6|   5|\n",
            "|    123|       1|    7|   1|\n",
            "|    123|     238|    6|   2|\n",
            "|    123|     198|    6|   3|\n",
            "|    123|     398|    6|   4|\n",
            "|    123|      16|    5|   5|\n",
            "|    140|    6709|    5|   1|\n",
            "|    140|     746|    3|   2|\n",
            "|    140|    2376|    3|   3|\n",
            "|    140|    1042|    3|   4|\n",
            "|    140|    8029|    3|   5|\n",
            "|    150|     615|    6|   1|\n",
            "|    150|    6709|    5|   2|\n",
            "|    150|     238|    4|   3|\n",
            "|    150|     168|    4|   4|\n",
            "|    150|     160|    4|   5|\n",
            "+-------+--------+-----+----+\n",
            "only showing top 20 rows\n",
            "\n"
          ],
          "name": "stdout"
        }
      ]
    },
    {
      "cell_type": "markdown",
      "metadata": {
        "id": "UNImbQMLjipL"
      },
      "source": [
        "Finally, we construct the list of repos recommended for each user."
      ]
    },
    {
      "cell_type": "code",
      "metadata": {
        "id": "g7nIrvtiZ4gL",
        "colab": {
          "base_uri": "https://localhost:8080/"
        },
        "outputId": "95f736ed-6548-41a4-b05d-eba731fee8ca"
      },
      "source": [
        "recommendations_list = recommendations.withColumn(\"repo2_id\", col(\"repo2_id\").cast(\"double\")).groupBy(\"user_id\").agg(collect_list(\"repo2_id\").alias(\"recommended_repos\"))\n",
        "recommendations_list.show()"
      ],
      "execution_count": null,
      "outputs": [
        {
          "output_type": "stream",
          "text": [
            "+-------+--------------------+\n",
            "|user_id|   recommended_repos|\n",
            "+-------+--------------------+\n",
            "|     90|[2283.0, 28.0, 52...|\n",
            "|    123|[1.0, 238.0, 198....|\n",
            "|    140|[6709.0, 746.0, 2...|\n",
            "|    150|[615.0, 6709.0, 2...|\n",
            "|    191|[35.0, 352.0, 198...|\n",
            "|    210|[238.0, 1.0, 6709...|\n",
            "|    263|[35.0, 320.0, 16....|\n",
            "|    320|[35.0, 119.0, 615...|\n",
            "|    336|[2271.0, 1313.0, ...|\n",
            "|    369|[320.0, 16.0, 118...|\n",
            "|    384|[1110.0, 527.0, 2...|\n",
            "|    393|[6162.0, 645.0, 6...|\n",
            "|    406|[721.0, 1110.0, 5...|\n",
            "|    419|[4715.0, 1.0, 106...|\n",
            "|    426|[3521.0, 4715.0, ...|\n",
            "|    431|[320.0, 35.0, 398...|\n",
            "|    463|[8687.0, 11342.0,...|\n",
            "|    483|[238.0, 35.0, 320...|\n",
            "|    499|[16.0, 527.0, 342...|\n",
            "|    546|[2.0, 35.0, 238.0...|\n",
            "+-------+--------------------+\n",
            "only showing top 20 rows\n",
            "\n"
          ],
          "name": "stdout"
        }
      ]
    },
    {
      "cell_type": "markdown",
      "metadata": {
        "id": "WI9RtuGdwp6O"
      },
      "source": [
        "### Evaluation\n",
        "\n",
        "In this section, we carry on the evaluation phase for the Item-based Collaborative Filtering model."
      ]
    },
    {
      "cell_type": "code",
      "metadata": {
        "id": "2c2LGmeBomr9",
        "colab": {
          "base_uri": "https://localhost:8080/"
        },
        "outputId": "4d7457a7-ef58-4b05-a522-0147c21fceea"
      },
      "source": [
        "recommendations = recommendations_list.join(gt, \"user_id\").cache()\n",
        "recommendations.show(truncate=False)"
      ],
      "execution_count": null,
      "outputs": [
        {
          "output_type": "stream",
          "text": [
            "+-------+---------------------------------------+--------------------------------------------------------------------------------------------------------------------------------------------------------------------------------------------------------------------------------------------------------------------------------------------------------------------------------------------------------------------------------------------------------------------------------------------------------------------------------------------------------------------------------------------------------------------------------------------+\n",
            "|user_id|recommended_repos                      |labels                                                                                                                                                                                                                                                                                                                                                                                                                                                                                                                                                                                      |\n",
            "+-------+---------------------------------------+--------------------------------------------------------------------------------------------------------------------------------------------------------------------------------------------------------------------------------------------------------------------------------------------------------------------------------------------------------------------------------------------------------------------------------------------------------------------------------------------------------------------------------------------------------------------------------------------+\n",
            "|90     |[2283.0, 28.0, 527.0, 9989.0, 35.0]    |[1258.0, 5968.0, 6319.0, 6251.0, 1409.0, 6300.0, 1067.0, 2709.0, 6259.0, 506.0, 335.0, 147.0, 6316.0, 1965.0, 4104.0, 1937.0, 797.0, 28.0, 821.0, 2256.0, 2192.0, 6156.0, 6163.0, 6201.0, 6254.0, 2258.0, 6330.0]                                                                                                                                                                                                                                                                                                                                                                           |\n",
            "|123    |[1.0, 238.0, 198.0, 398.0, 16.0]       |[238.0, 123.0, 1049.0, 6300.0, 122.0, 1280.0, 1411.0, 483.0, 1041.0, 6935.0, 2851.0, 3375.0, 48.0, 2857.0, 7539.0, 2275.0, 4140.0, 2701.0, 2634.0, 3953.0, 706.0, 526.0, 910.0, 2069.0, 442.0, 797.0, 1042.0, 7814.0, 77.0, 871.0, 7750.0, 1257.0, 6435.0]                                                                                                                                                                                                                                                                                                                                  |\n",
            "|140    |[6709.0, 746.0, 2376.0, 1042.0, 8029.0]|[4815.0, 2.0, 2967.0, 2266.0, 8603.0, 5859.0, 433.0, 2839.0, 1510.0, 6256.0, 1965.0, 109.0, 413.0, 2866.0, 616.0, 3520.0, 8654.0, 8583.0, 8558.0, 1042.0, 8675.0, 8539.0, 8528.0, 4016.0, 126.0]                                                                                                                                                                                                                                                                                                                                                                                            |\n",
            "|150    |[615.0, 6709.0, 238.0, 168.0, 160.0]   |[2162.0, 8332.0, 2609.0, 3375.0, 9183.0, 533.0, 2384.0, 668.0, 1053.0, 8006.0, 746.0, 1054.0, 9077.0]                                                                                                                                                                                                                                                                                                                                                                                                                                                                                       |\n",
            "|191    |[35.0, 352.0, 198.0, 476.0, 1110.0]    |[383.0, 414.0, 35.0, 122.0, 4028.0, 7814.0, 871.0, 476.0, 2275.0]                                                                                                                                                                                                                                                                                                                                                                                                                                                                                                                           |\n",
            "|210    |[238.0, 1.0, 6709.0, 615.0, 16.0]      |[238.0, 3374.0, 703.0, 4989.0, 1378.0, 6289.0, 2074.0, 1510.0, 2385.0, 1444.0, 6135.0, 648.0, 454.0, 381.0, 365.0, 48.0, 386.0, 716.0, 4200.0]                                                                                                                                                                                                                                                                                                                                                                                                                                              |\n",
            "|263    |[35.0, 320.0, 16.0, 28.0, 435.0]       |[11903.0, 988.0, 347.0, 671.0, 506.0, 721.0, 1411.0, 1377.0, 6938.0, 11186.0, 320.0, 731.0, 5940.0, 418.0, 691.0, 1677.0, 5948.0, 1061.0, 11691.0, 126.0, 35.0, 117.0, 14274.0, 1148.0, 441.0, 3953.0, 16.0, 1119.0, 3682.0, 5680.0, 7854.0, 5872.0, 442.0, 683.0, 1612.0, 716.0, 435.0, 77.0, 871.0, 1339.0]                                                                                                                                                                                                                                                                               |\n",
            "|320    |[35.0, 119.0, 615.0, 238.0, 160.0]     |[1236.0, 6935.0, 510.0, 834.0, 1385.0, 3426.0, 7660.0, 2599.0]                                                                                                                                                                                                                                                                                                                                                                                                                                                                                                                              |\n",
            "|336    |[2271.0, 1313.0, 2857.0, 35.0, 352.0]  |[2851.0, 357.0]                                                                                                                                                                                                                                                                                                                                                                                                                                                                                                                                                                             |\n",
            "|369    |[320.0, 16.0, 118.0, 1110.0, 406.0]    |[7197.0, 2967.0, 408.0, 671.0, 331.0, 2709.0, 110.0, 1737.0, 1429.0, 11469.0, 483.0, 1056.0, 1382.0, 6935.0, 3375.0, 48.0, 691.0, 1433.0, 4033.0, 4727.0, 8797.0, 1405.0, 669.0, 4140.0, 125.0, 4378.0, 19465.0, 614.0, 1148.0, 6749.0, 697.0, 706.0, 11975.0, 442.0, 6747.0, 4848.0, 6254.0, 160.0, 2207.0, 8476.0, 4803.0]                                                                                                                                                                                                                                                                |\n",
            "|384    |[1110.0, 527.0, 2385.0, 541.0, 441.0]  |[527.0, 11.0, 1067.0, 441.0, 12146.0, 1070.0, 2256.0, 11186.0, 20507.0, 103.0, 1047.0, 2081.0]                                                                                                                                                                                                                                                                                                                                                                                                                                                                                              |\n",
            "|393    |[6162.0, 645.0, 647.0, 5940.0, 641.0]  |[383.0, 645.0, 4989.0, 449.0, 2045.0, 2581.0, 3930.0, 21321.0, 106.0, 1249.0, 352.0, 8455.0, 2704.0, 14512.0, 5940.0, 4874.0, 16593.0, 6042.0, 357.0, 691.0, 2646.0, 668.0, 2173.0, 1061.0, 7539.0, 16591.0, 2328.0, 16063.0, 2275.0, 15630.0, 35.0, 2044.0, 8339.0, 647.0, 453.0, 145.0, 3953.0, 4394.0, 16.0, 648.0, 6633.0, 8254.0, 8891.0, 471.0, 666.0, 410.0, 21455.0, 12282.0, 6212.0, 643.0, 20774.0, 21661.0, 419.0, 1044.0, 6910.0, 1583.0]                                                                                                                                       |\n",
            "|406    |[721.0, 1110.0, 527.0, 320.0, 541.0]   |[2162.0, 35.0, 117.0, 119.0, 2149.0, 122.0, 1280.0, 721.0, 2187.0, 6915.0, 6802.0, 7567.0, 15732.0, 8202.0, 3669.0, 3226.0, 357.0, 691.0, 3426.0, 4471.0, 160.0, 1110.0, 4016.0, 6273.0, 791.0, 5896.0]                                                                                                                                                                                                                                                                                                                                                                                     |\n",
            "|419    |[4715.0, 1.0, 1061.0, 28.0, 352.0]     |[6251.0, 10136.0, 6949.0, 1444.0, 22921.0, 2278.0, 8095.0, 3520.0, 7519.0, 1254.0, 1321.0, 5858.0, 11095.0, 334.0, 864.0, 2275.0, 1993.0, 1258.0, 1063.0, 6432.0, 9039.0, 10544.0, 3067.0, 19835.0, 964.0, 7887.0, 18500.0, 5095.0, 5996.0, 2033.0, 1853.0, 674.0, 10107.0, 1612.0, 707.0, 4989.0, 581.0, 1344.0, 12912.0, 23716.0, 2457.0, 454.0, 2314.0, 527.0, 3401.0, 6976.0, 16931.0, 6547.0, 19555.0, 24052.0, 3833.0, 8983.0, 1302.0, 459.0, 863.0, 11819.0, 13869.0, 337.0, 23277.0, 117.0, 1995.0, 4654.0, 6150.0, 4715.0, 7997.0, 526.0, 16344.0, 333.0, 7814.0, 10474.0, 17387.0]|\n",
            "|426    |[3521.0, 4715.0, 5341.0, 238.0, 1418.0]|[383.0, 1342.0, 1994.0, 2884.0, 3521.0, 2400.0, 7134.0, 320.0, 348.0, 15348.0, 357.0, 15701.0, 2256.0, 18508.0, 8093.0, 20064.0, 9039.0, 792.0, 2594.0, 8136.0, 6202.0, 120.0, 8339.0, 1053.0, 615.0, 8812.0, 3682.0, 1186.0, 430.0, 340.0, 2069.0, 512.0, 160.0, 77.0, 3383.0, 1422.0, 2294.0, 743.0, 1421.0, 318.0, 1899.0, 449.0, 2858.0, 110.0, 4413.0, 1380.0, 5930.0, 1046.0, 464.0, 2701.0, 5886.0, 9553.0, 6482.0, 5822.0, 7036.0, 6150.0, 9675.0, 145.0, 2926.0, 4715.0, 706.0, 12095.0, 419.0, 798.0, 80.0, 865.0]                                                                |\n",
            "|431    |[320.0, 35.0, 398.0, 0.0, 352.0]       |[669.0, 4140.0, 7977.0, 2.0, 4378.0, 4107.0, 371.0, 3374.0, 3730.0, 6734.0, 2349.0, 1475.0, 13293.0, 656.0, 413.0, 802.0, 352.0, 6746.0, 6404.0, 8798.0, 77.0, 1340.0, 505.0, 1941.0, 22107.0]                                                                                                                                                                                                                                                                                                                                                                                              |\n",
            "|463    |[8687.0, 11342.0, 8254.0, 961.0, 352.0]|[9684.0, 1279.0, 120.0, 2045.0, 204.0, 1369.0, 961.0, 8254.0]                                                                                                                                                                                                                                                                                                                                                                                                                                                                                                                               |\n",
            "|483    |[238.0, 35.0, 320.0, 489.0, 674.0]     |[8293.0, 1211.0, 3521.0, 581.0, 118.0, 204.0, 11183.0, 804.0, 2851.0, 3458.0, 18819.0, 528.0, 2256.0, 6163.0, 5926.0, 1423.0, 1258.0, 2162.0, 5878.0, 5968.0, 8573.0, 489.0, 8339.0, 533.0, 1022.0, 1376.0, 10601.0, 5125.0, 802.0, 526.0, 2069.0, 6449.0, 1042.0, 716.0, 5820.0, 80.0, 1422.0]                                                                                                                                                                                                                                                                                             |\n",
            "|499    |[16.0, 527.0, 3426.0, 666.0, 629.0]    |[238.0, 8429.0, 988.0, 629.0, 4412.0, 671.0, 581.0, 6406.0, 106.0, 147.0, 631.0, 2440.0, 3968.0, 4364.0, 336.0, 8583.0, 6547.0, 682.0, 666.0, 28.0, 6302.0, 14672.0, 1355.0, 2599.0, 187.0, 791.0]                                                                                                                                                                                                                                                                                                                                                                                          |\n",
            "|546    |[2.0, 35.0, 238.0, 398.0, 357.0]       |[2.0, 5968.0, 2967.0, 5859.0, 24937.0, 2255.0, 1460.0, 15332.0, 438.0, 666.0, 77.0, 6910.0, 199.0, 2275.0]                                                                                                                                                                                                                                                                                                                                                                                                                                                                                  |\n",
            "+-------+---------------------------------------+--------------------------------------------------------------------------------------------------------------------------------------------------------------------------------------------------------------------------------------------------------------------------------------------------------------------------------------------------------------------------------------------------------------------------------------------------------------------------------------------------------------------------------------------------------------------------------------------+\n",
            "only showing top 20 rows\n",
            "\n"
          ],
          "name": "stdout"
        }
      ]
    },
    {
      "cell_type": "code",
      "metadata": {
        "id": "Oe9fMJtgomr-",
        "colab": {
          "base_uri": "https://localhost:8080/"
        },
        "outputId": "b391c7e3-9897-4ba2-98d9-939a8d1eddcd"
      },
      "source": [
        "evaluation = evaluate_df(\"Item-Based Content Filtering\", recommendations, k)\n",
        "metrics_df = metrics_df.union(evaluation)\n",
        "evaluation.show(truncate=False)"
      ],
      "execution_count": null,
      "outputs": [
        {
          "output_type": "stream",
          "text": [
            "+----------------------------+-------------------+------------------+-------------------+-------------------+-------------------+-----------------+\n",
            "|Model                       |MAP@1              |MAP@2             |MAP@3              |MAP@4              |MAP@5              |Personalization  |\n",
            "+----------------------------+-------------------+------------------+-------------------+-------------------+-------------------+-----------------+\n",
            "|Item-Based Content Filtering|0.35535535535535556|0.3003003003003002|0.26404181959737516|0.23936436436436434|0.21603937270603932|0.874322819813569|\n",
            "+----------------------------+-------------------+------------------+-------------------+-------------------+-------------------+-----------------+\n",
            "\n"
          ],
          "name": "stdout"
        }
      ]
    },
    {
      "cell_type": "markdown",
      "metadata": {
        "id": "RvgTFkKD3_7h"
      },
      "source": [
        "## Matrix Factorization\n",
        "\n",
        "In the Matrix Factorization technique, we try to estimate the ranking matrix as a product of two other matrices, the users and items matrices, which both have a lower rank than the starting matrix."
      ]
    },
    {
      "cell_type": "code",
      "metadata": {
        "id": "1RcTFsgxbmkZ",
        "cellView": "form"
      },
      "source": [
        "#@title Settings\n",
        "N_ITEMS = 5 #@param"
      ],
      "execution_count": null,
      "outputs": []
    },
    {
      "cell_type": "markdown",
      "metadata": {
        "id": "WfDKiOJpH34F"
      },
      "source": [
        "### Training"
      ]
    },
    {
      "cell_type": "markdown",
      "metadata": {
        "id": "KHEePk3AG1Vd"
      },
      "source": [
        "For this model, we need to build the entire user-item matrix, but we are not going to include the starred repos in the test set, which will have a value of 0:"
      ]
    },
    {
      "cell_type": "code",
      "metadata": {
        "id": "JhYW55neTvRl"
      },
      "source": [
        "from pyspark import StorageLevel\n",
        "\n",
        "non_starred_train_df = new_repos_df.select(\"repo_id\").join(new_users_df.select(\"user_id\")).exceptAll(train)\n",
        "non_starred_train_df = non_starred_train_df.persist(StorageLevel.MEMORY_ONLY)\n",
        "train_matrix = train.withColumn(\"starred\", lit(1)).union(non_starred_train_df.withColumn(\"starred\", lit(0)))\n",
        "train_matrix = train_matrix.persist(StorageLevel.MEMORY_ONLY)"
      ],
      "execution_count": null,
      "outputs": []
    },
    {
      "cell_type": "code",
      "metadata": {
        "id": "wKaOwWCQnbTe",
        "colab": {
          "base_uri": "https://localhost:8080/"
        },
        "outputId": "f92229dc-b714-4774-8364-b731ecd0a6b4"
      },
      "source": [
        "train_matrix.show()"
      ],
      "execution_count": null,
      "outputs": [
        {
          "output_type": "stream",
          "text": [
            "+-------+-------+-------+\n",
            "|repo_id|user_id|starred|\n",
            "+-------+-------+-------+\n",
            "|      0|    145|      1|\n",
            "|      0|    322|      1|\n",
            "|      0|    726|      1|\n",
            "|      0|    746|      1|\n",
            "|      0|    766|      1|\n",
            "|      0|    971|      1|\n",
            "|      0|   1567|      1|\n",
            "|      0|   1638|      1|\n",
            "|      0|   1657|      1|\n",
            "|      0|   1977|      1|\n",
            "|      0|   2011|      1|\n",
            "|      0|   2061|      1|\n",
            "|      0|   2126|      1|\n",
            "|      0|   2226|      1|\n",
            "|      0|   2464|      1|\n",
            "|      0|   2517|      1|\n",
            "|      0|   2665|      1|\n",
            "|      0|   2911|      1|\n",
            "|      0|   2931|      1|\n",
            "|      0|   3108|      1|\n",
            "+-------+-------+-------+\n",
            "only showing top 20 rows\n",
            "\n"
          ],
          "name": "stdout"
        }
      ]
    },
    {
      "cell_type": "markdown",
      "metadata": {
        "id": "nH0DH9zWbtiK"
      },
      "source": [
        "Let's now set the parameters of the model, which have been tuned using manual experiments, and train it:"
      ]
    },
    {
      "cell_type": "code",
      "metadata": {
        "id": "ZVCe_2ro4CNV"
      },
      "source": [
        "from pyspark.ml.recommendation import ALS\n",
        "from pyspark.ml.evaluation import RankingEvaluator\n",
        "from pyspark.ml.tuning import CrossValidator, ParamGridBuilder\n",
        "\n",
        "train_with_ratings = train.withColumn(\"starred\", lit(1))\n",
        "\n",
        "als_params = {\n",
        "    \"rank\": 5,\n",
        "    \"maxIter\": 20, \n",
        "    \"userCol\": \"user_id\", \n",
        "    \"itemCol\": \"repo_id\", \n",
        "    \"ratingCol\": \"starred\", \n",
        "    \"coldStartStrategy\": \"drop\",\n",
        "    \"seed\": 42,\n",
        "    \"regParam\": 0.1,\n",
        "    \"implicitPrefs\": True,\n",
        "    \"nonnegative\": False,\n",
        "    \"alpha\": 1\n",
        "}\n",
        "als = ALS(**als_params)\n",
        "als_model = als.fit(train_matrix)\n",
        "als_model.write().overwrite().save(\"als_model\")"
      ],
      "execution_count": null,
      "outputs": []
    },
    {
      "cell_type": "markdown",
      "metadata": {
        "id": "I9hH8yH-H6xP"
      },
      "source": [
        "### Prediction"
      ]
    },
    {
      "cell_type": "markdown",
      "metadata": {
        "id": "jtH8b-Bu5KVm"
      },
      "source": [
        "We can now obtain the recommendations from our model by predicting a score for each non-starred repo for each user:"
      ]
    },
    {
      "cell_type": "code",
      "metadata": {
        "id": "RStq8DOb4GCV",
        "colab": {
          "base_uri": "https://localhost:8080/"
        },
        "outputId": "ba20ad93-2368-46a1-872e-7f01c57f1c2c"
      },
      "source": [
        "predict = als_model.transform(non_starred_train_df).cache()\n",
        "predict.show()"
      ],
      "execution_count": null,
      "outputs": [
        {
          "output_type": "stream",
          "text": [
            "+-------+-------+----------+\n",
            "|repo_id|user_id|prediction|\n",
            "+-------+-------+----------+\n",
            "|      2|    140|0.23797423|\n",
            "|      2|    431|0.47488958|\n",
            "|      2|    546|0.26229107|\n",
            "|      2|    586|0.61152077|\n",
            "|      2|    656|0.38166583|\n",
            "|      2|    723|0.38425478|\n",
            "|      2|    744| 1.1301888|\n",
            "|      2|    823|0.58897686|\n",
            "|      2|    835|0.71540534|\n",
            "|      2|    850| 0.2564758|\n",
            "|      2|    947|0.61876297|\n",
            "|      2|   1041| 0.5520584|\n",
            "|      2|   1065|0.44424093|\n",
            "|      2|   1069| 1.2033892|\n",
            "|      2|   1104|0.49694663|\n",
            "|      2|   1171| 1.1404679|\n",
            "|      2|   1262| 0.6350749|\n",
            "|      2|   1277|0.23192126|\n",
            "|      2|   1329|0.44869748|\n",
            "|      2|   1359|0.39930958|\n",
            "+-------+-------+----------+\n",
            "only showing top 20 rows\n",
            "\n"
          ],
          "name": "stdout"
        }
      ]
    },
    {
      "cell_type": "markdown",
      "metadata": {
        "id": "4HoYKQlJ5REi"
      },
      "source": [
        "Let's now take the `N_ITEMS` top scoring repos for each user:"
      ]
    },
    {
      "cell_type": "code",
      "metadata": {
        "id": "DWrNqTZY-I9T",
        "colab": {
          "base_uri": "https://localhost:8080/"
        },
        "outputId": "918f5816-eebe-4e2b-b524-4cf5aa24b0ca"
      },
      "source": [
        "window = Window.partitionBy(predict[\"user_id\"]).orderBy(predict[\"prediction\"].desc())\n",
        "top_k_items = (predict.select(\"*\", row_number().over(window).alias(\"rank\")) \n",
        "  .filter(col(\"rank\") <= N_ITEMS))\n",
        "top_k_items.show()"
      ],
      "execution_count": null,
      "outputs": [
        {
          "output_type": "stream",
          "text": [
            "+-------+-------+----------+----+\n",
            "|repo_id|user_id|prediction|rank|\n",
            "+-------+-------+----------+----+\n",
            "|     35|     90| 0.4050569|   1|\n",
            "|    320|     90|0.38768515|   2|\n",
            "|    666|     90| 0.3849909|   3|\n",
            "|    527|     90|0.36306375|   4|\n",
            "|      7|     90|0.35994244|   5|\n",
            "|      1|    123| 0.4360758|   1|\n",
            "|    398|    123|0.43481076|   2|\n",
            "|    120|    123|0.41536427|   3|\n",
            "|    238|    123|0.40301564|   4|\n",
            "|     48|    123| 0.3501742|   5|\n",
            "|      2|    140|0.23797423|   1|\n",
            "|    482|    140| 0.1968115|   2|\n",
            "|   1110|    140|0.18946297|   3|\n",
            "|     16|    140|0.18742013|   4|\n",
            "|    721|    140|0.18241842|   5|\n",
            "|     35|    150|0.44719887|   1|\n",
            "|    160|    150|0.41495872|   2|\n",
            "|    398|    150| 0.3903003|   3|\n",
            "|    120|    150| 0.3847297|   4|\n",
            "|    615|    150| 0.3797544|   5|\n",
            "+-------+-------+----------+----+\n",
            "only showing top 20 rows\n",
            "\n"
          ],
          "name": "stdout"
        }
      ]
    },
    {
      "cell_type": "markdown",
      "metadata": {
        "id": "mSegmhjq4LJJ"
      },
      "source": [
        "### Evaluation"
      ]
    },
    {
      "cell_type": "markdown",
      "metadata": {
        "id": "7S3pb0Z--JTJ"
      },
      "source": [
        "Finally, we convert the dataframe to a format suitable for the evaluation:"
      ]
    },
    {
      "cell_type": "code",
      "metadata": {
        "id": "pePHKLVB4Ic9",
        "colab": {
          "base_uri": "https://localhost:8080/"
        },
        "outputId": "0cda1fad-8064-4300-e3fd-c1944dfd952b"
      },
      "source": [
        "recommendations = top_k_items.withColumn(\"repo_id\", col(\"repo_id\").cast(\"double\")).groupBy(\"user_id\").agg(collect_list(\"repo_id\").alias(\"recommended_repos\"))\n",
        "recommendations = recommendations.join(gt, \"user_id\").cache()\n",
        "recommendations.show(truncate=False)"
      ],
      "execution_count": null,
      "outputs": [
        {
          "output_type": "stream",
          "text": [
            "+-------+---------------------------------------+--------------------------------------------------------------------------------------------------------------------------------------------------------------------------------------------------------------------------------------------------------------------------------------------------------------------------------------------------------------------------------------------------------------------------------------------------------------------------------------------------------------------------------------------------------------------------------------------+\n",
            "|user_id|recommended_repos                      |labels                                                                                                                                                                                                                                                                                                                                                                                                                                                                                                                                                                                      |\n",
            "+-------+---------------------------------------+--------------------------------------------------------------------------------------------------------------------------------------------------------------------------------------------------------------------------------------------------------------------------------------------------------------------------------------------------------------------------------------------------------------------------------------------------------------------------------------------------------------------------------------------------------------------------------------------+\n",
            "|90     |[35.0, 320.0, 666.0, 527.0, 7.0]       |[1258.0, 5968.0, 6319.0, 6251.0, 1409.0, 6300.0, 1067.0, 2709.0, 6259.0, 506.0, 335.0, 147.0, 6316.0, 1965.0, 4104.0, 1937.0, 797.0, 28.0, 821.0, 2256.0, 2192.0, 6156.0, 6163.0, 6201.0, 6254.0, 2258.0, 6330.0]                                                                                                                                                                                                                                                                                                                                                                           |\n",
            "|123    |[1.0, 398.0, 120.0, 238.0, 48.0]       |[238.0, 123.0, 1049.0, 6300.0, 122.0, 1280.0, 1411.0, 483.0, 1041.0, 6935.0, 2851.0, 3375.0, 48.0, 2857.0, 7539.0, 2275.0, 4140.0, 2701.0, 2634.0, 3953.0, 706.0, 526.0, 910.0, 2069.0, 442.0, 797.0, 1042.0, 7814.0, 77.0, 871.0, 7750.0, 1257.0, 6435.0]                                                                                                                                                                                                                                                                                                                                  |\n",
            "|140    |[2.0, 482.0, 1110.0, 16.0, 721.0]      |[4815.0, 2.0, 2967.0, 2266.0, 8603.0, 5859.0, 433.0, 2839.0, 1510.0, 6256.0, 1965.0, 109.0, 413.0, 2866.0, 616.0, 3520.0, 8654.0, 8583.0, 8558.0, 1042.0, 8675.0, 8539.0, 8528.0, 4016.0, 126.0]                                                                                                                                                                                                                                                                                                                                                                                            |\n",
            "|150    |[35.0, 160.0, 398.0, 120.0, 615.0]     |[2162.0, 8332.0, 2609.0, 3375.0, 9183.0, 533.0, 2384.0, 668.0, 1053.0, 8006.0, 746.0, 1054.0, 9077.0]                                                                                                                                                                                                                                                                                                                                                                                                                                                                                       |\n",
            "|191    |[35.0, 198.0, 476.0, 352.0, 482.0]     |[383.0, 414.0, 35.0, 122.0, 4028.0, 7814.0, 871.0, 476.0, 2275.0]                                                                                                                                                                                                                                                                                                                                                                                                                                                                                                                           |\n",
            "|210    |[238.0, 117.0, 615.0, 1302.0, 476.0]   |[238.0, 3374.0, 703.0, 4989.0, 1378.0, 6289.0, 2074.0, 1510.0, 2385.0, 1444.0, 6135.0, 648.0, 454.0, 381.0, 365.0, 48.0, 386.0, 716.0, 4200.0]                                                                                                                                                                                                                                                                                                                                                                                                                                              |\n",
            "|263    |[35.0, 28.0, 125.0, 320.0, 16.0]       |[11903.0, 988.0, 347.0, 671.0, 506.0, 721.0, 1411.0, 1377.0, 6938.0, 11186.0, 320.0, 731.0, 5940.0, 418.0, 691.0, 1677.0, 5948.0, 1061.0, 11691.0, 126.0, 35.0, 117.0, 14274.0, 1148.0, 441.0, 3953.0, 16.0, 1119.0, 3682.0, 5680.0, 7854.0, 5872.0, 442.0, 683.0, 1612.0, 716.0, 435.0, 77.0, 871.0, 1339.0]                                                                                                                                                                                                                                                                               |\n",
            "|320    |[35.0, 1.0, 119.0, 122.0, 120.0]       |[1236.0, 6935.0, 510.0, 834.0, 1385.0, 3426.0, 7660.0, 2599.0]                                                                                                                                                                                                                                                                                                                                                                                                                                                                                                                              |\n",
            "|336    |[35.0, 1.0, 119.0, 352.0, 398.0]       |[2851.0, 357.0]                                                                                                                                                                                                                                                                                                                                                                                                                                                                                                                                                                             |\n",
            "|369    |[320.0, 797.0, 6273.0, 442.0, 1411.0]  |[7197.0, 2967.0, 408.0, 671.0, 331.0, 2709.0, 110.0, 1737.0, 1429.0, 11469.0, 483.0, 1056.0, 1382.0, 6935.0, 3375.0, 48.0, 691.0, 1433.0, 4033.0, 4727.0, 8797.0, 1405.0, 669.0, 4140.0, 125.0, 4378.0, 19465.0, 614.0, 1148.0, 6749.0, 697.0, 706.0, 11975.0, 442.0, 6747.0, 4848.0, 6254.0, 160.0, 2207.0, 8476.0, 4803.0]                                                                                                                                                                                                                                                                |\n",
            "|384    |[527.0, 1110.0, 703.0, 683.0, 541.0]   |[527.0, 11.0, 1067.0, 441.0, 12146.0, 1070.0, 2256.0, 11186.0, 20507.0, 103.0, 1047.0, 2081.0]                                                                                                                                                                                                                                                                                                                                                                                                                                                                                              |\n",
            "|393    |[352.0, 238.0, 482.0, 5859.0, 16.0]    |[383.0, 645.0, 4989.0, 449.0, 2045.0, 2581.0, 3930.0, 21321.0, 106.0, 1249.0, 352.0, 8455.0, 2704.0, 14512.0, 5940.0, 4874.0, 16593.0, 6042.0, 357.0, 691.0, 2646.0, 668.0, 2173.0, 1061.0, 7539.0, 16591.0, 2328.0, 16063.0, 2275.0, 15630.0, 35.0, 2044.0, 8339.0, 647.0, 453.0, 145.0, 3953.0, 4394.0, 16.0, 648.0, 6633.0, 8254.0, 8891.0, 471.0, 666.0, 410.0, 21455.0, 12282.0, 6212.0, 643.0, 20774.0, 21661.0, 419.0, 1044.0, 6910.0, 1583.0]                                                                                                                                       |\n",
            "|406    |[35.0, 238.0, 398.0, 120.0, 119.0]     |[2162.0, 35.0, 117.0, 119.0, 2149.0, 122.0, 1280.0, 721.0, 2187.0, 6915.0, 6802.0, 7567.0, 15732.0, 8202.0, 3669.0, 3226.0, 357.0, 691.0, 3426.0, 4471.0, 160.0, 1110.0, 4016.0, 6273.0, 791.0, 5896.0]                                                                                                                                                                                                                                                                                                                                                                                     |\n",
            "|419    |[117.0, 1.0, 119.0, 398.0, 120.0]      |[6251.0, 10136.0, 6949.0, 1444.0, 22921.0, 2278.0, 8095.0, 3520.0, 7519.0, 1254.0, 1321.0, 5858.0, 11095.0, 334.0, 864.0, 2275.0, 1993.0, 1258.0, 1063.0, 6432.0, 9039.0, 10544.0, 3067.0, 19835.0, 964.0, 7887.0, 18500.0, 5095.0, 5996.0, 2033.0, 1853.0, 674.0, 10107.0, 1612.0, 707.0, 4989.0, 581.0, 1344.0, 12912.0, 23716.0, 2457.0, 454.0, 2314.0, 527.0, 3401.0, 6976.0, 16931.0, 6547.0, 19555.0, 24052.0, 3833.0, 8983.0, 1302.0, 459.0, 863.0, 11819.0, 13869.0, 337.0, 23277.0, 117.0, 1995.0, 4654.0, 6150.0, 4715.0, 7997.0, 526.0, 16344.0, 333.0, 7814.0, 10474.0, 17387.0]|\n",
            "|426    |[656.0, 4715.0, 1418.0, 7572.0, 5341.0]|[383.0, 1342.0, 1994.0, 2884.0, 3521.0, 2400.0, 7134.0, 320.0, 348.0, 15348.0, 357.0, 15701.0, 2256.0, 18508.0, 8093.0, 20064.0, 9039.0, 792.0, 2594.0, 8136.0, 6202.0, 120.0, 8339.0, 1053.0, 615.0, 8812.0, 3682.0, 1186.0, 430.0, 340.0, 2069.0, 512.0, 160.0, 77.0, 3383.0, 1422.0, 2294.0, 743.0, 1421.0, 318.0, 1899.0, 449.0, 2858.0, 110.0, 4413.0, 1380.0, 5930.0, 1046.0, 464.0, 2701.0, 5886.0, 9553.0, 6482.0, 5822.0, 7036.0, 6150.0, 9675.0, 145.0, 2926.0, 4715.0, 706.0, 12095.0, 419.0, 798.0, 80.0, 865.0]                                                                |\n",
            "|431    |[2.0, 35.0, 398.0, 320.0, 120.0]       |[669.0, 4140.0, 7977.0, 2.0, 4378.0, 4107.0, 371.0, 3374.0, 3730.0, 6734.0, 2349.0, 1475.0, 13293.0, 656.0, 413.0, 802.0, 352.0, 6746.0, 6404.0, 8798.0, 77.0, 1340.0, 505.0, 1941.0, 22107.0]                                                                                                                                                                                                                                                                                                                                                                                              |\n",
            "|463    |[35.0, 352.0, 120.0, 398.0, 615.0]     |[9684.0, 1279.0, 120.0, 2045.0, 204.0, 1369.0, 961.0, 8254.0]                                                                                                                                                                                                                                                                                                                                                                                                                                                                                                                               |\n",
            "|483    |[238.0, 35.0, 674.0, 482.0, 424.0]     |[8293.0, 1211.0, 3521.0, 581.0, 118.0, 204.0, 11183.0, 804.0, 2851.0, 3458.0, 18819.0, 528.0, 2256.0, 6163.0, 5926.0, 1423.0, 1258.0, 2162.0, 5878.0, 5968.0, 8573.0, 489.0, 8339.0, 533.0, 1022.0, 1376.0, 10601.0, 5125.0, 802.0, 526.0, 2069.0, 6449.0, 1042.0, 716.0, 5820.0, 80.0, 1422.0]                                                                                                                                                                                                                                                                                             |\n",
            "|499    |[352.0, 160.0, 28.0, 35.0, 125.0]      |[238.0, 8429.0, 988.0, 629.0, 4412.0, 671.0, 581.0, 6406.0, 106.0, 147.0, 631.0, 2440.0, 3968.0, 4364.0, 336.0, 8583.0, 6547.0, 682.0, 666.0, 28.0, 6302.0, 14672.0, 1355.0, 2599.0, 187.0, 791.0]                                                                                                                                                                                                                                                                                                                                                                                          |\n",
            "|546    |[2.0, 35.0, 238.0, 398.0, 120.0]       |[2.0, 5968.0, 2967.0, 5859.0, 24937.0, 2255.0, 1460.0, 15332.0, 438.0, 666.0, 77.0, 6910.0, 199.0, 2275.0]                                                                                                                                                                                                                                                                                                                                                                                                                                                                                  |\n",
            "+-------+---------------------------------------+--------------------------------------------------------------------------------------------------------------------------------------------------------------------------------------------------------------------------------------------------------------------------------------------------------------------------------------------------------------------------------------------------------------------------------------------------------------------------------------------------------------------------------------------------------------------------------------------+\n",
            "only showing top 20 rows\n",
            "\n"
          ],
          "name": "stdout"
        }
      ]
    },
    {
      "cell_type": "code",
      "metadata": {
        "id": "X1uBLxUe7uDl",
        "colab": {
          "base_uri": "https://localhost:8080/"
        },
        "outputId": "eb2a92d4-c54d-486f-8dcc-327c65014510"
      },
      "source": [
        "evaluation = evaluate_df(\"Matrix Factorization\", recommendations, k)\n",
        "metrics_df = metrics_df.union(evaluation)\n",
        "evaluation.show(truncate=False)"
      ],
      "execution_count": null,
      "outputs": [
        {
          "output_type": "stream",
          "text": [
            "+--------------------+------------------+------------------+-------------------+-------------------+------------------+------------------+\n",
            "|Model               |MAP@1             |MAP@2             |MAP@3              |MAP@4              |MAP@5             |Personalization   |\n",
            "+--------------------+------------------+------------------+-------------------+-------------------+------------------+------------------+\n",
            "|Matrix Factorization|0.5055055055055052|0.3933933933933934|0.33238794349905476|0.29817317317317305|0.2675942609275943|0.8635047873523141|\n",
            "+--------------------+------------------+------------------+-------------------+-------------------+------------------+------------------+\n",
            "\n"
          ],
          "name": "stdout"
        }
      ]
    },
    {
      "cell_type": "markdown",
      "metadata": {
        "id": "U92b8l_ofl65"
      },
      "source": [
        "## Models comparison"
      ]
    },
    {
      "cell_type": "code",
      "metadata": {
        "colab": {
          "base_uri": "https://localhost:8080/"
        },
        "id": "l9-ktP40fpsM",
        "outputId": "c1e62e90-6256-4578-8f03-606c432af488"
      },
      "source": [
        "round_df(metrics_df, 3).show(truncate=False)"
      ],
      "execution_count": null,
      "outputs": [
        {
          "output_type": "stream",
          "text": [
            "+----------------------------+-----+-----+-----+-----+-----+---------------+\n",
            "|Model                       |MAP@1|MAP@2|MAP@3|MAP@4|MAP@5|Personalization|\n",
            "+----------------------------+-----+-----+-----+-----+-----+---------------+\n",
            "|Content-Based Filtering     |0.067|0.051|0.043|0.037|0.033|0.676          |\n",
            "|User-Based Content Filtering|0.357|0.261|0.213|0.183|0.164|0.965          |\n",
            "|Item-Based Content Filtering|0.355|0.3  |0.264|0.239|0.216|0.874          |\n",
            "|Matrix Factorization        |0.506|0.393|0.332|0.298|0.268|0.864          |\n",
            "+----------------------------+-----+-----+-----+-----+-----+---------------+\n",
            "\n"
          ],
          "name": "stdout"
        }
      ]
    },
    {
      "cell_type": "markdown",
      "metadata": {
        "id": "T1RddR3qagVG"
      },
      "source": [
        "# Demo\n",
        "\n",
        "In this section we setup a working demo for all our models, including a web server in order to experiment with the models from a web interface available [here](https://recommend-hub.netlify.app/)."
      ]
    },
    {
      "cell_type": "markdown",
      "metadata": {
        "id": "KmwEwKw50il8"
      },
      "source": [
        "## Models definitions\n",
        "\n",
        "Here we define a base class for each model, which can be used to predict repos for both an already existing user, indicated by his id, or a new user represented by the repos he has starred."
      ]
    },
    {
      "cell_type": "code",
      "metadata": {
        "id": "H4zbDZj_1RgR"
      },
      "source": [
        "class RecommenderModel():\n",
        "\n",
        "  def __init__(self, users_df, repos_df, starred_repos_df):\n",
        "    self.users = users_df\n",
        "    self.repos = repos_df\n",
        "    self.starred_repos = starred_repos_df\n",
        "\n",
        "  def predict_from_user(user_id):\n",
        "    pass\n",
        "\n",
        "  def predict_from_repos(starred_repos_list):\n",
        "    pass"
      ],
      "execution_count": null,
      "outputs": []
    },
    {
      "cell_type": "markdown",
      "metadata": {
        "id": "yvCK4Jmd3niA"
      },
      "source": [
        "### Content-based"
      ]
    },
    {
      "cell_type": "code",
      "metadata": {
        "id": "CWmqbJ-Hobn9"
      },
      "source": [
        "from pyspark.ml.stat import Summarizer\n",
        "\n",
        "class ContentBased(RecommenderModel):\n",
        "\n",
        "  def __init__(self, users_df, repos_df, starred_repos_df):\n",
        "    super().__init__(users_df, repos_df, starred_repos_df)\n",
        "    self.item_profiles = spark.read.load(\"content_based-item_profiles.parquet\")\n",
        "\n",
        "  def predict_from_user_profile(self, user_profile, K):\n",
        "    # Do the cartesian product between the user profile and all the item profiles\n",
        "    user_item_profiles = user_profile.join(self.item_profiles)\n",
        "\n",
        "    # Remove the repos already starred by the user\n",
        "    user_item_profiles = user_item_profiles.filter(~array_contains(col(\"starred_repo\"), col(\"repo_id\")))\n",
        "\n",
        "    # Compute the similarity between the user profile and each item profile\n",
        "    similarity = cosine_similarity_udf(\"user_profile\", \"item_profile\").alias(\"score\")\n",
        "    prediction_df = user_item_profiles.select(\"repo_id\", similarity)\n",
        "\n",
        "    # Take the top-k items\n",
        "    top_k_repos = prediction_df.orderBy(col(\"score\").desc()).limit(K)\n",
        "\n",
        "    return top_k_repos\n",
        "\n",
        "  def predict_from_user(self, user_id, K):\n",
        "    # Get the item profiles of the repos starred by the user\n",
        "    join_df = train.filter(col(\"user_id\") == user_id).join(self.item_profiles, on=\"repo_id\")\n",
        "\n",
        "    # Compute the user profile as the mean of the item profiles of the starred repos\n",
        "    user_profile = join_df.groupBy(\"user_id\").agg(Summarizer.mean(col(\"item_profile\")).alias(\"user_profile\"), collect_set(\"repo_id\").alias(\"starred_repo\"))\n",
        "\n",
        "    return self.predict_from_user_profile(user_profile, K)\n",
        "\n",
        "  def predict_from_repos(self, starred_repos_list, K):\n",
        "    # Take all the item profiles of the repos starred\n",
        "    starred_items_profiles = self.item_profiles.filter(col(\"repo_id\").isin(starred_repos_list))\n",
        "\n",
        "    # Compute the user profile as the mean of the item profiles of the starred repos\n",
        "    user_profile = starred_items_profiles.agg(Summarizer.mean(col(\"item_profile\")).alias(\"user_profile\"), collect_set(\"repo_id\").alias(\"starred_repo\"))\n",
        "\n",
        "    return self.predict_from_user_profile(user_profile, K)\n",
        "\n",
        "cbm = ContentBased(users_df, repos_df, train)"
      ],
      "execution_count": null,
      "outputs": []
    },
    {
      "cell_type": "code",
      "metadata": {
        "colab": {
          "base_uri": "https://localhost:8080/",
          "height": 795
        },
        "id": "JpkDRsfwXK9k",
        "cellView": "form",
        "outputId": "786e840d-e5d6-4df8-cbb6-649195f25fbf"
      },
      "source": [
        "#@title Predict from user id\n",
        "user_id = 463 #@param {type: \"integer\"}\n",
        "n_items = 5 #@param {type: \"integer\"}\n",
        "recommendations = cbm.predict_from_user(user_id, n_items)\n",
        "\n",
        "display(HTML(\"<h3>Repos previously starred by user \" + str(user_id) + \"</h3>\"))\n",
        "display(train.filter(col(\"user_id\") == user_id) \\\n",
        "  .join(new_repos_df, \"repo_id\") \\\n",
        "  .toPandas())\n",
        "\n",
        "display(HTML(\"<br /><h3>Predicted repos for user \" + str(user_id) + \"</h3>\"))\n",
        "display(recommendations.join(new_repos_df, \"repo_id\").toPandas().sort_values(\"score\", ascending=False))\n",
        "\n",
        "display(HTML(\"<br /><h3>Ground Truth for user \" + str(user_id) + \"</h3>\"))\n",
        "test.filter(col(\"user_id\") == user_id) \\\n",
        "  .join(new_repos_df, \"repo_id\") \\\n",
        "  .toPandas()"
      ],
      "execution_count": null,
      "outputs": [
        {
          "output_type": "display_data",
          "data": {
            "text/html": [
              "<h3>Repos previously starred by user 463</h3>"
            ],
            "text/plain": [
              "<IPython.core.display.HTML object>"
            ]
          },
          "metadata": {}
        },
        {
          "output_type": "display_data",
          "data": {
            "text/html": [
              "<div>\n",
              "<style scoped>\n",
              "    .dataframe tbody tr th:only-of-type {\n",
              "        vertical-align: middle;\n",
              "    }\n",
              "\n",
              "    .dataframe tbody tr th {\n",
              "        vertical-align: top;\n",
              "    }\n",
              "\n",
              "    .dataframe thead th {\n",
              "        text-align: right;\n",
              "    }\n",
              "</style>\n",
              "<table border=\"1\" class=\"dataframe\">\n",
              "  <thead>\n",
              "    <tr style=\"text-align: right;\">\n",
              "      <th></th>\n",
              "      <th>repo_id</th>\n",
              "      <th>user_id</th>\n",
              "      <th>creator</th>\n",
              "      <th>name</th>\n",
              "      <th>about</th>\n",
              "      <th>language</th>\n",
              "      <th>stars</th>\n",
              "      <th>forks</th>\n",
              "      <th>updated</th>\n",
              "      <th>sponsor</th>\n",
              "    </tr>\n",
              "  </thead>\n",
              "  <tbody>\n",
              "    <tr>\n",
              "      <th>0</th>\n",
              "      <td>2</td>\n",
              "      <td>463</td>\n",
              "      <td>facebook</td>\n",
              "      <td>react</td>\n",
              "      <td>A declarative, efficient, and flexible JavaScr...</td>\n",
              "      <td>JavaScript</td>\n",
              "      <td>170264</td>\n",
              "      <td>34406</td>\n",
              "      <td>2021-06-22 06:08:58</td>\n",
              "      <td>0</td>\n",
              "    </tr>\n",
              "    <tr>\n",
              "      <th>1</th>\n",
              "      <td>169</td>\n",
              "      <td>463</td>\n",
              "      <td>date-fns</td>\n",
              "      <td>date-fns</td>\n",
              "      <td>⏳ Modern JavaScript date utility library ⌛️</td>\n",
              "      <td>JavaScript</td>\n",
              "      <td>26155</td>\n",
              "      <td>1260</td>\n",
              "      <td>2021-06-21 12:37:46</td>\n",
              "      <td>0</td>\n",
              "    </tr>\n",
              "    <tr>\n",
              "      <th>2</th>\n",
              "      <td>13629</td>\n",
              "      <td>463</td>\n",
              "      <td>square</td>\n",
              "      <td>okhttp</td>\n",
              "      <td>Square’s meticulous HTTP client for the JVM, A...</td>\n",
              "      <td>Java</td>\n",
              "      <td>40244</td>\n",
              "      <td>8538</td>\n",
              "      <td>2021-06-14 08:10:00</td>\n",
              "      <td>0</td>\n",
              "    </tr>\n",
              "    <tr>\n",
              "      <th>3</th>\n",
              "      <td>25974</td>\n",
              "      <td>463</td>\n",
              "      <td>square</td>\n",
              "      <td>retrofit</td>\n",
              "      <td>A type-safe HTTP client for Android and the JVM</td>\n",
              "      <td>Java</td>\n",
              "      <td>38265</td>\n",
              "      <td>6872</td>\n",
              "      <td>2021-06-24 19:20:04</td>\n",
              "      <td>0</td>\n",
              "    </tr>\n",
              "  </tbody>\n",
              "</table>\n",
              "</div>"
            ],
            "text/plain": [
              "   repo_id  user_id   creator  ...  forks             updated sponsor\n",
              "0        2      463  facebook  ...  34406 2021-06-22 06:08:58       0\n",
              "1      169      463  date-fns  ...   1260 2021-06-21 12:37:46       0\n",
              "2    13629      463    square  ...   8538 2021-06-14 08:10:00       0\n",
              "3    25974      463    square  ...   6872 2021-06-24 19:20:04       0\n",
              "\n",
              "[4 rows x 10 columns]"
            ]
          },
          "metadata": {}
        },
        {
          "output_type": "display_data",
          "data": {
            "text/html": [
              "<br /><h3>Predicted repos for user 463</h3>"
            ],
            "text/plain": [
              "<IPython.core.display.HTML object>"
            ]
          },
          "metadata": {}
        },
        {
          "output_type": "display_data",
          "data": {
            "text/html": [
              "<div>\n",
              "<style scoped>\n",
              "    .dataframe tbody tr th:only-of-type {\n",
              "        vertical-align: middle;\n",
              "    }\n",
              "\n",
              "    .dataframe tbody tr th {\n",
              "        vertical-align: top;\n",
              "    }\n",
              "\n",
              "    .dataframe thead th {\n",
              "        text-align: right;\n",
              "    }\n",
              "</style>\n",
              "<table border=\"1\" class=\"dataframe\">\n",
              "  <thead>\n",
              "    <tr style=\"text-align: right;\">\n",
              "      <th></th>\n",
              "      <th>repo_id</th>\n",
              "      <th>score</th>\n",
              "      <th>creator</th>\n",
              "      <th>name</th>\n",
              "      <th>about</th>\n",
              "      <th>language</th>\n",
              "      <th>stars</th>\n",
              "      <th>forks</th>\n",
              "      <th>updated</th>\n",
              "      <th>sponsor</th>\n",
              "    </tr>\n",
              "  </thead>\n",
              "  <tbody>\n",
              "    <tr>\n",
              "      <th>4</th>\n",
              "      <td>8815</td>\n",
              "      <td>0.669058</td>\n",
              "      <td>request</td>\n",
              "      <td>request</td>\n",
              "      <td>🏊🏾 Simplified HTTP request client.</td>\n",
              "      <td>JavaScript</td>\n",
              "      <td>25189</td>\n",
              "      <td>3062</td>\n",
              "      <td>2021-05-20 12:36:23</td>\n",
              "      <td>0</td>\n",
              "    </tr>\n",
              "    <tr>\n",
              "      <th>2</th>\n",
              "      <td>1583</td>\n",
              "      <td>0.480193</td>\n",
              "      <td>signalapp</td>\n",
              "      <td>Signal-Android</td>\n",
              "      <td>A private messenger for Android.</td>\n",
              "      <td>Java</td>\n",
              "      <td>20775</td>\n",
              "      <td>4982</td>\n",
              "      <td>2021-06-22 00:27:46</td>\n",
              "      <td>0</td>\n",
              "    </tr>\n",
              "    <tr>\n",
              "      <th>1</th>\n",
              "      <td>473</td>\n",
              "      <td>0.479396</td>\n",
              "      <td>qbittorrent</td>\n",
              "      <td>qBittorrent</td>\n",
              "      <td>qBittorrent BitTorrent client</td>\n",
              "      <td>C++</td>\n",
              "      <td>12288</td>\n",
              "      <td>2201</td>\n",
              "      <td>2021-06-22 05:15:45</td>\n",
              "      <td>0</td>\n",
              "    </tr>\n",
              "    <tr>\n",
              "      <th>3</th>\n",
              "      <td>5922</td>\n",
              "      <td>0.479263</td>\n",
              "      <td>go-redis</td>\n",
              "      <td>redis</td>\n",
              "      <td>Type-safe Redis client for Golang</td>\n",
              "      <td>Go</td>\n",
              "      <td>11762</td>\n",
              "      <td>1498</td>\n",
              "      <td>2021-06-21 06:45:54</td>\n",
              "      <td>0</td>\n",
              "    </tr>\n",
              "    <tr>\n",
              "      <th>0</th>\n",
              "      <td>160</td>\n",
              "      <td>0.472465</td>\n",
              "      <td>axios</td>\n",
              "      <td>axios</td>\n",
              "      <td>Promise based HTTP client for the browser and ...</td>\n",
              "      <td>JavaScript</td>\n",
              "      <td>85310</td>\n",
              "      <td>8327</td>\n",
              "      <td>2021-06-22 05:55:53</td>\n",
              "      <td>0</td>\n",
              "    </tr>\n",
              "  </tbody>\n",
              "</table>\n",
              "</div>"
            ],
            "text/plain": [
              "   repo_id     score      creator  ... forks             updated sponsor\n",
              "4     8815  0.669058      request  ...  3062 2021-05-20 12:36:23       0\n",
              "2     1583  0.480193    signalapp  ...  4982 2021-06-22 00:27:46       0\n",
              "1      473  0.479396  qbittorrent  ...  2201 2021-06-22 05:15:45       0\n",
              "3     5922  0.479263     go-redis  ...  1498 2021-06-21 06:45:54       0\n",
              "0      160  0.472465        axios  ...  8327 2021-06-22 05:55:53       0\n",
              "\n",
              "[5 rows x 10 columns]"
            ]
          },
          "metadata": {}
        },
        {
          "output_type": "display_data",
          "data": {
            "text/html": [
              "<br /><h3>Ground Truth for user 463</h3>"
            ],
            "text/plain": [
              "<IPython.core.display.HTML object>"
            ]
          },
          "metadata": {}
        },
        {
          "output_type": "execute_result",
          "data": {
            "text/html": [
              "<div>\n",
              "<style scoped>\n",
              "    .dataframe tbody tr th:only-of-type {\n",
              "        vertical-align: middle;\n",
              "    }\n",
              "\n",
              "    .dataframe tbody tr th {\n",
              "        vertical-align: top;\n",
              "    }\n",
              "\n",
              "    .dataframe thead th {\n",
              "        text-align: right;\n",
              "    }\n",
              "</style>\n",
              "<table border=\"1\" class=\"dataframe\">\n",
              "  <thead>\n",
              "    <tr style=\"text-align: right;\">\n",
              "      <th></th>\n",
              "      <th>repo_id</th>\n",
              "      <th>user_id</th>\n",
              "      <th>creator</th>\n",
              "      <th>name</th>\n",
              "      <th>about</th>\n",
              "      <th>language</th>\n",
              "      <th>stars</th>\n",
              "      <th>forks</th>\n",
              "      <th>updated</th>\n",
              "      <th>sponsor</th>\n",
              "    </tr>\n",
              "  </thead>\n",
              "  <tbody>\n",
              "    <tr>\n",
              "      <th>0</th>\n",
              "      <td>120</td>\n",
              "      <td>463</td>\n",
              "      <td>nodejs</td>\n",
              "      <td>node</td>\n",
              "      <td>Node.js JavaScript runtime ✨🐢🚀✨</td>\n",
              "      <td>JavaScript</td>\n",
              "      <td>79974</td>\n",
              "      <td>20533</td>\n",
              "      <td>2021-06-22 08:41:01</td>\n",
              "      <td>0</td>\n",
              "    </tr>\n",
              "    <tr>\n",
              "      <th>1</th>\n",
              "      <td>204</td>\n",
              "      <td>463</td>\n",
              "      <td>django</td>\n",
              "      <td>django</td>\n",
              "      <td>The Web framework for perfectionists with dead...</td>\n",
              "      <td>Python</td>\n",
              "      <td>58081</td>\n",
              "      <td>24842</td>\n",
              "      <td>2021-06-22 08:28:44</td>\n",
              "      <td>1</td>\n",
              "    </tr>\n",
              "    <tr>\n",
              "      <th>2</th>\n",
              "      <td>961</td>\n",
              "      <td>463</td>\n",
              "      <td>bumptech</td>\n",
              "      <td>glide</td>\n",
              "      <td>An image loading and caching library for Andro...</td>\n",
              "      <td>Java</td>\n",
              "      <td>31342</td>\n",
              "      <td>5710</td>\n",
              "      <td>2021-06-11 23:50:48</td>\n",
              "      <td>0</td>\n",
              "    </tr>\n",
              "    <tr>\n",
              "      <th>3</th>\n",
              "      <td>1279</td>\n",
              "      <td>463</td>\n",
              "      <td>ReactiveX</td>\n",
              "      <td>rxjs</td>\n",
              "      <td>A reactive programming library for JavaScript</td>\n",
              "      <td>TypeScript</td>\n",
              "      <td>25031</td>\n",
              "      <td>2575</td>\n",
              "      <td>2021-06-21 19:24:28</td>\n",
              "      <td>0</td>\n",
              "    </tr>\n",
              "    <tr>\n",
              "      <th>4</th>\n",
              "      <td>1369</td>\n",
              "      <td>463</td>\n",
              "      <td>r-spacex</td>\n",
              "      <td>SpaceX-API</td>\n",
              "      <td>🚀 Open Source REST API for SpaceX launch, rock...</td>\n",
              "      <td>JavaScript</td>\n",
              "      <td>8548</td>\n",
              "      <td>686</td>\n",
              "      <td>2021-06-19 16:04:27</td>\n",
              "      <td>0</td>\n",
              "    </tr>\n",
              "    <tr>\n",
              "      <th>5</th>\n",
              "      <td>2045</td>\n",
              "      <td>463</td>\n",
              "      <td>DrKLO</td>\n",
              "      <td>Telegram</td>\n",
              "      <td>Telegram for Android source</td>\n",
              "      <td>C++</td>\n",
              "      <td>17143</td>\n",
              "      <td>5993</td>\n",
              "      <td>2021-06-03 05:06:31</td>\n",
              "      <td>0</td>\n",
              "    </tr>\n",
              "    <tr>\n",
              "      <th>6</th>\n",
              "      <td>8254</td>\n",
              "      <td>463</td>\n",
              "      <td>google</td>\n",
              "      <td>gson</td>\n",
              "      <td>A Java serialization/deserialization library t...</td>\n",
              "      <td>Java</td>\n",
              "      <td>19688</td>\n",
              "      <td>3818</td>\n",
              "      <td>2021-06-19 12:39:51</td>\n",
              "      <td>0</td>\n",
              "    </tr>\n",
              "    <tr>\n",
              "      <th>7</th>\n",
              "      <td>9684</td>\n",
              "      <td>463</td>\n",
              "      <td>jquense</td>\n",
              "      <td>yup</td>\n",
              "      <td>Dead simple Object schema validation</td>\n",
              "      <td>TypeScript</td>\n",
              "      <td>13746</td>\n",
              "      <td>616</td>\n",
              "      <td>2021-06-21 18:30:52</td>\n",
              "      <td>0</td>\n",
              "    </tr>\n",
              "  </tbody>\n",
              "</table>\n",
              "</div>"
            ],
            "text/plain": [
              "   repo_id  user_id    creator  ...  forks             updated sponsor\n",
              "0      120      463     nodejs  ...  20533 2021-06-22 08:41:01       0\n",
              "1      204      463     django  ...  24842 2021-06-22 08:28:44       1\n",
              "2      961      463   bumptech  ...   5710 2021-06-11 23:50:48       0\n",
              "3     1279      463  ReactiveX  ...   2575 2021-06-21 19:24:28       0\n",
              "4     1369      463   r-spacex  ...    686 2021-06-19 16:04:27       0\n",
              "5     2045      463      DrKLO  ...   5993 2021-06-03 05:06:31       0\n",
              "6     8254      463     google  ...   3818 2021-06-19 12:39:51       0\n",
              "7     9684      463    jquense  ...    616 2021-06-21 18:30:52       0\n",
              "\n",
              "[8 rows x 10 columns]"
            ]
          },
          "metadata": {},
          "execution_count": 81
        }
      ]
    },
    {
      "cell_type": "code",
      "metadata": {
        "colab": {
          "base_uri": "https://localhost:8080/",
          "height": 365
        },
        "cellView": "form",
        "id": "7_6SwtBxXp_j",
        "outputId": "a5263787-8690-45dc-9139-41284be41476"
      },
      "source": [
        "#@title Predict from repos id\n",
        "repos_id = [1, 5, 6, 8] #@param {type:\"raw\"}\n",
        "n_items = 5 #@param {type: \"integer\"}\n",
        "recommendations = cbm.predict_from_repos(repos_id, n_items)\n",
        "\n",
        "display(HTML(\"<h3>Repos previously starred</h3>\"))\n",
        "display(new_repos_df.filter(col(\"repo_id\").isin(repos_id)).toPandas())\n",
        "\n",
        "display(HTML(\"<br /><h3>Predicted repos</h3>\"))\n",
        "display(recommendations.join(new_repos_df, \"repo_id\").toPandas().sort_values(\"score\", ascending=False))"
      ],
      "execution_count": null,
      "outputs": [
        {
          "output_type": "display_data",
          "data": {
            "text/html": [
              "<h3>Repos previously starred</h3>"
            ],
            "text/plain": [
              "<IPython.core.display.HTML object>"
            ]
          },
          "metadata": {}
        },
        {
          "output_type": "display_data",
          "data": {
            "text/html": [
              "<div>\n",
              "<style scoped>\n",
              "    .dataframe tbody tr th:only-of-type {\n",
              "        vertical-align: middle;\n",
              "    }\n",
              "\n",
              "    .dataframe tbody tr th {\n",
              "        vertical-align: top;\n",
              "    }\n",
              "\n",
              "    .dataframe thead th {\n",
              "        text-align: right;\n",
              "    }\n",
              "</style>\n",
              "<table border=\"1\" class=\"dataframe\">\n",
              "  <thead>\n",
              "    <tr style=\"text-align: right;\">\n",
              "      <th></th>\n",
              "      <th>repo_id</th>\n",
              "      <th>creator</th>\n",
              "      <th>name</th>\n",
              "      <th>about</th>\n",
              "      <th>language</th>\n",
              "      <th>stars</th>\n",
              "      <th>forks</th>\n",
              "      <th>updated</th>\n",
              "      <th>sponsor</th>\n",
              "    </tr>\n",
              "  </thead>\n",
              "  <tbody>\n",
              "    <tr>\n",
              "      <th>0</th>\n",
              "      <td>1</td>\n",
              "      <td>vercel</td>\n",
              "      <td>next.js</td>\n",
              "      <td>The React Framework</td>\n",
              "      <td>JavaScript</td>\n",
              "      <td>69687</td>\n",
              "      <td>13111</td>\n",
              "      <td>2021-06-22 07:49:26</td>\n",
              "      <td>0</td>\n",
              "    </tr>\n",
              "  </tbody>\n",
              "</table>\n",
              "</div>"
            ],
            "text/plain": [
              "   repo_id creator     name  ...  forks             updated  sponsor\n",
              "0        1  vercel  next.js  ...  13111 2021-06-22 07:49:26        0\n",
              "\n",
              "[1 rows x 9 columns]"
            ]
          },
          "metadata": {}
        },
        {
          "output_type": "display_data",
          "data": {
            "text/html": [
              "<br /><h3>Predicted repos</h3>"
            ],
            "text/plain": [
              "<IPython.core.display.HTML object>"
            ]
          },
          "metadata": {}
        },
        {
          "output_type": "display_data",
          "data": {
            "text/html": [
              "<div>\n",
              "<style scoped>\n",
              "    .dataframe tbody tr th:only-of-type {\n",
              "        vertical-align: middle;\n",
              "    }\n",
              "\n",
              "    .dataframe tbody tr th {\n",
              "        vertical-align: top;\n",
              "    }\n",
              "\n",
              "    .dataframe thead th {\n",
              "        text-align: right;\n",
              "    }\n",
              "</style>\n",
              "<table border=\"1\" class=\"dataframe\">\n",
              "  <thead>\n",
              "    <tr style=\"text-align: right;\">\n",
              "      <th></th>\n",
              "      <th>repo_id</th>\n",
              "      <th>score</th>\n",
              "      <th>creator</th>\n",
              "      <th>name</th>\n",
              "      <th>about</th>\n",
              "      <th>language</th>\n",
              "      <th>stars</th>\n",
              "      <th>forks</th>\n",
              "      <th>updated</th>\n",
              "      <th>sponsor</th>\n",
              "    </tr>\n",
              "  </thead>\n",
              "  <tbody>\n",
              "    <tr>\n",
              "      <th>1</th>\n",
              "      <td>1143</td>\n",
              "      <td>0.798809</td>\n",
              "      <td>ReactTraining</td>\n",
              "      <td>react-router</td>\n",
              "      <td>Declarative routing for React</td>\n",
              "      <td>JavaScript</td>\n",
              "      <td>43426</td>\n",
              "      <td>8466</td>\n",
              "      <td>2021-06-15 22:38:05</td>\n",
              "      <td>0</td>\n",
              "    </tr>\n",
              "    <tr>\n",
              "      <th>2</th>\n",
              "      <td>2393</td>\n",
              "      <td>0.784845</td>\n",
              "      <td>alibaba</td>\n",
              "      <td>ice</td>\n",
              "      <td>🚀 The Progressive Framework Based On React（基于 ...</td>\n",
              "      <td>TypeScript</td>\n",
              "      <td>16379</td>\n",
              "      <td>1951</td>\n",
              "      <td>2021-06-17 09:38:33</td>\n",
              "      <td>0</td>\n",
              "    </tr>\n",
              "    <tr>\n",
              "      <th>4</th>\n",
              "      <td>15532</td>\n",
              "      <td>0.743813</td>\n",
              "      <td>umijs</td>\n",
              "      <td>umi</td>\n",
              "      <td>🌋 Pluggable enterprise-level react application...</td>\n",
              "      <td>TypeScript</td>\n",
              "      <td>10697</td>\n",
              "      <td>1687</td>\n",
              "      <td>2021-06-25 06:53:08</td>\n",
              "      <td>0</td>\n",
              "    </tr>\n",
              "    <tr>\n",
              "      <th>3</th>\n",
              "      <td>7977</td>\n",
              "      <td>0.718425</td>\n",
              "      <td>react-dnd</td>\n",
              "      <td>react-dnd</td>\n",
              "      <td>Drag and Drop for React</td>\n",
              "      <td>TypeScript</td>\n",
              "      <td>15992</td>\n",
              "      <td>1668</td>\n",
              "      <td>2021-06-17 17:20:10</td>\n",
              "      <td>0</td>\n",
              "    </tr>\n",
              "    <tr>\n",
              "      <th>0</th>\n",
              "      <td>553</td>\n",
              "      <td>0.718241</td>\n",
              "      <td>pmndrs</td>\n",
              "      <td>react-three-fiber</td>\n",
              "      <td>🇨🇭 A React renderer for Three.js</td>\n",
              "      <td>TypeScript</td>\n",
              "      <td>13725</td>\n",
              "      <td>728</td>\n",
              "      <td>2021-06-19 12:17:17</td>\n",
              "      <td>0</td>\n",
              "    </tr>\n",
              "  </tbody>\n",
              "</table>\n",
              "</div>"
            ],
            "text/plain": [
              "   repo_id     score        creator  ... forks             updated sponsor\n",
              "1     1143  0.798809  ReactTraining  ...  8466 2021-06-15 22:38:05       0\n",
              "2     2393  0.784845        alibaba  ...  1951 2021-06-17 09:38:33       0\n",
              "4    15532  0.743813          umijs  ...  1687 2021-06-25 06:53:08       0\n",
              "3     7977  0.718425      react-dnd  ...  1668 2021-06-17 17:20:10       0\n",
              "0      553  0.718241         pmndrs  ...   728 2021-06-19 12:17:17       0\n",
              "\n",
              "[5 rows x 10 columns]"
            ]
          },
          "metadata": {}
        }
      ]
    },
    {
      "cell_type": "markdown",
      "metadata": {
        "id": "rS87VnDp3rth"
      },
      "source": [
        "### User-based CF"
      ]
    },
    {
      "cell_type": "code",
      "metadata": {
        "id": "LElLOA9X2Hjo"
      },
      "source": [
        "class UserBasedCF(RecommenderModel):\n",
        "\n",
        "  def predict_from_user(self, user_id, K, neighbours = 5):\n",
        "    starred_repos_set = self.starred_repos.groupBy(\"user_id\").agg(collect_set(\"repo_id\").alias(\"starred_repos\"))\n",
        "\n",
        "    user_starred_repos = starred_repos_set.filter(col(\"user_id\") == user_id)\n",
        "    target_starred_repos = starred_repos_set.withColumnRenamed(\"starred_repos\", \"target_starred_repos\").withColumnRenamed(\"user_id\", \"target_user_id\")\n",
        "    users_comparisons = user_starred_repos.join(target_starred_repos, col(\"user_id\") != col(\"target_user_id\"))\n",
        "\n",
        "    return self.predict(users_comparisons, K, neighbours)\n",
        "\n",
        "  def predict_from_repos(self, starred_repos_list, K, neighbours = 5):\n",
        "    user_starred_repos = spark.createDataFrame([(starred_repos_list, )], [\"starred_repos\"])\n",
        "\n",
        "    target_starred_repos = self.starred_repos.groupBy(\"user_id\").agg(collect_set(\"repo_id\").alias(\"target_starred_repos\"))\n",
        "    users_comparisons = user_starred_repos.join(target_starred_repos)\n",
        "    return self.predict(users_comparisons, K, neighbours)\n",
        "\n",
        "  def predict(self, users_comparisons, K, neighbours = 5):\n",
        "    # Compute the Jaccard similarity among the repos starred by the user and those starred by any other user\n",
        "    jaccard = users_comparisons.withColumn(\"jaccard_similarity\", jaccard_similarity_udf(\"starred_repos\", \"target_starred_repos\"))\n",
        "\n",
        "    # Compute the neighbours most similar users\n",
        "    top_k_users = jaccard.sort(\"jaccard_similarity\", ascending=False).limit(neighbours)\n",
        "    \n",
        "    # Remove the repos already starred\n",
        "    possible_repos = top_k_users.select(\"*\", explode(\"target_starred_repos\").alias(\"repo_id\"))\n",
        "    repos_without_source_repos = possible_repos.filter(~array_contains(col(\"starred_repos\"), col(\"repo_id\")))\n",
        "\n",
        "    # Compute how many times each repo has been starred by other users\n",
        "    repos_occurrencies = repos_without_source_repos.groupBy(\"repo_id\").count()\n",
        "\n",
        "    # Compute the k most starred repos\n",
        "    recommendations = repos_occurrencies.sort(\"count\", ascending=False).limit(K)\n",
        "    recommendations = recommendations.withColumn(\"score\", col(\"count\") / neighbours).drop(\"count\")\n",
        "\n",
        "    return recommendations\n",
        "\n",
        "ubm = UserBasedCF(users_df, repos_df, train)"
      ],
      "execution_count": null,
      "outputs": []
    },
    {
      "cell_type": "code",
      "metadata": {
        "colab": {
          "base_uri": "https://localhost:8080/",
          "height": 795
        },
        "cellView": "form",
        "id": "FYzwrhoAf4Hj",
        "outputId": "95c807d0-35b6-4f27-f72a-b58720de794b"
      },
      "source": [
        "#@title Predict from user id\n",
        "user_id = 463 #@param {type: \"integer\"}\n",
        "n_items = 5 #@param {type: \"integer\"}\n",
        "neighbours = 5 #@param {type: \"integer\"}\n",
        "recommendations = ubm.predict_from_user(user_id, n_items, neighbours)\n",
        "\n",
        "display(HTML(\"<h3>Repos previously starred by user \" + str(user_id) + \"</h3>\"))\n",
        "display(train.filter(col(\"user_id\") == user_id) \\\n",
        "  .join(new_repos_df, \"repo_id\") \\\n",
        "  .toPandas())\n",
        "\n",
        "display(HTML(\"<br /><h3>Predicted repos for user \" + str(user_id) + \"</h3>\"))\n",
        "display(recommendations.join(new_repos_df, \"repo_id\").toPandas().sort_values(\"score\", ascending=False))\n",
        "\n",
        "display(HTML(\"<br /><h3>Ground Truth for user \" + str(user_id) + \"</h3>\"))\n",
        "test.filter(col(\"user_id\") == user_id) \\\n",
        "  .join(new_repos_df, \"repo_id\") \\\n",
        "  .toPandas()"
      ],
      "execution_count": null,
      "outputs": [
        {
          "output_type": "display_data",
          "data": {
            "text/html": [
              "<h3>Repos previously starred by user 463</h3>"
            ],
            "text/plain": [
              "<IPython.core.display.HTML object>"
            ]
          },
          "metadata": {}
        },
        {
          "output_type": "display_data",
          "data": {
            "text/html": [
              "<div>\n",
              "<style scoped>\n",
              "    .dataframe tbody tr th:only-of-type {\n",
              "        vertical-align: middle;\n",
              "    }\n",
              "\n",
              "    .dataframe tbody tr th {\n",
              "        vertical-align: top;\n",
              "    }\n",
              "\n",
              "    .dataframe thead th {\n",
              "        text-align: right;\n",
              "    }\n",
              "</style>\n",
              "<table border=\"1\" class=\"dataframe\">\n",
              "  <thead>\n",
              "    <tr style=\"text-align: right;\">\n",
              "      <th></th>\n",
              "      <th>repo_id</th>\n",
              "      <th>user_id</th>\n",
              "      <th>creator</th>\n",
              "      <th>name</th>\n",
              "      <th>about</th>\n",
              "      <th>language</th>\n",
              "      <th>stars</th>\n",
              "      <th>forks</th>\n",
              "      <th>updated</th>\n",
              "      <th>sponsor</th>\n",
              "    </tr>\n",
              "  </thead>\n",
              "  <tbody>\n",
              "    <tr>\n",
              "      <th>0</th>\n",
              "      <td>2</td>\n",
              "      <td>463</td>\n",
              "      <td>facebook</td>\n",
              "      <td>react</td>\n",
              "      <td>A declarative, efficient, and flexible JavaScr...</td>\n",
              "      <td>JavaScript</td>\n",
              "      <td>170264</td>\n",
              "      <td>34406</td>\n",
              "      <td>2021-06-22 06:08:58</td>\n",
              "      <td>0</td>\n",
              "    </tr>\n",
              "    <tr>\n",
              "      <th>1</th>\n",
              "      <td>169</td>\n",
              "      <td>463</td>\n",
              "      <td>date-fns</td>\n",
              "      <td>date-fns</td>\n",
              "      <td>⏳ Modern JavaScript date utility library ⌛️</td>\n",
              "      <td>JavaScript</td>\n",
              "      <td>26155</td>\n",
              "      <td>1260</td>\n",
              "      <td>2021-06-21 12:37:46</td>\n",
              "      <td>0</td>\n",
              "    </tr>\n",
              "    <tr>\n",
              "      <th>2</th>\n",
              "      <td>13629</td>\n",
              "      <td>463</td>\n",
              "      <td>square</td>\n",
              "      <td>okhttp</td>\n",
              "      <td>Square’s meticulous HTTP client for the JVM, A...</td>\n",
              "      <td>Java</td>\n",
              "      <td>40244</td>\n",
              "      <td>8538</td>\n",
              "      <td>2021-06-14 08:10:00</td>\n",
              "      <td>0</td>\n",
              "    </tr>\n",
              "    <tr>\n",
              "      <th>3</th>\n",
              "      <td>25974</td>\n",
              "      <td>463</td>\n",
              "      <td>square</td>\n",
              "      <td>retrofit</td>\n",
              "      <td>A type-safe HTTP client for Android and the JVM</td>\n",
              "      <td>Java</td>\n",
              "      <td>38265</td>\n",
              "      <td>6872</td>\n",
              "      <td>2021-06-24 19:20:04</td>\n",
              "      <td>0</td>\n",
              "    </tr>\n",
              "  </tbody>\n",
              "</table>\n",
              "</div>"
            ],
            "text/plain": [
              "   repo_id  user_id   creator  ...  forks             updated sponsor\n",
              "0        2      463  facebook  ...  34406 2021-06-22 06:08:58       0\n",
              "1      169      463  date-fns  ...   1260 2021-06-21 12:37:46       0\n",
              "2    13629      463    square  ...   8538 2021-06-14 08:10:00       0\n",
              "3    25974      463    square  ...   6872 2021-06-24 19:20:04       0\n",
              "\n",
              "[4 rows x 10 columns]"
            ]
          },
          "metadata": {}
        },
        {
          "output_type": "display_data",
          "data": {
            "text/html": [
              "<br /><h3>Predicted repos for user 463</h3>"
            ],
            "text/plain": [
              "<IPython.core.display.HTML object>"
            ]
          },
          "metadata": {}
        },
        {
          "output_type": "display_data",
          "data": {
            "text/html": [
              "<div>\n",
              "<style scoped>\n",
              "    .dataframe tbody tr th:only-of-type {\n",
              "        vertical-align: middle;\n",
              "    }\n",
              "\n",
              "    .dataframe tbody tr th {\n",
              "        vertical-align: top;\n",
              "    }\n",
              "\n",
              "    .dataframe thead th {\n",
              "        text-align: right;\n",
              "    }\n",
              "</style>\n",
              "<table border=\"1\" class=\"dataframe\">\n",
              "  <thead>\n",
              "    <tr style=\"text-align: right;\">\n",
              "      <th></th>\n",
              "      <th>repo_id</th>\n",
              "      <th>score</th>\n",
              "      <th>creator</th>\n",
              "      <th>name</th>\n",
              "      <th>about</th>\n",
              "      <th>language</th>\n",
              "      <th>stars</th>\n",
              "      <th>forks</th>\n",
              "      <th>updated</th>\n",
              "      <th>sponsor</th>\n",
              "    </tr>\n",
              "  </thead>\n",
              "  <tbody>\n",
              "    <tr>\n",
              "      <th>0</th>\n",
              "      <td>647</td>\n",
              "      <td>0.2</td>\n",
              "      <td>justjavac</td>\n",
              "      <td>free-programming-books-zh_CN</td>\n",
              "      <td>📚 免费的计算机编程类中文书籍，欢迎投稿</td>\n",
              "      <td>UNK</td>\n",
              "      <td>80728</td>\n",
              "      <td>23574</td>\n",
              "      <td>2021-05-25 00:52:10</td>\n",
              "      <td>0</td>\n",
              "    </tr>\n",
              "    <tr>\n",
              "      <th>1</th>\n",
              "      <td>2042</td>\n",
              "      <td>0.2</td>\n",
              "      <td>iluwatar</td>\n",
              "      <td>java-design-patterns</td>\n",
              "      <td>Design patterns implemented in Java</td>\n",
              "      <td>Java</td>\n",
              "      <td>68497</td>\n",
              "      <td>21345</td>\n",
              "      <td>2021-06-22 05:03:56</td>\n",
              "      <td>1</td>\n",
              "    </tr>\n",
              "    <tr>\n",
              "      <th>2</th>\n",
              "      <td>4394</td>\n",
              "      <td>0.2</td>\n",
              "      <td>zxing</td>\n",
              "      <td>zxing</td>\n",
              "      <td>ZXing (\"Zebra Crossing\") barcode scanning libr...</td>\n",
              "      <td>Java</td>\n",
              "      <td>27934</td>\n",
              "      <td>9025</td>\n",
              "      <td>2021-06-07 12:11:10</td>\n",
              "      <td>0</td>\n",
              "    </tr>\n",
              "    <tr>\n",
              "      <th>3</th>\n",
              "      <td>5956</td>\n",
              "      <td>0.2</td>\n",
              "      <td>MrRio</td>\n",
              "      <td>jsPDF</td>\n",
              "      <td>Client-side JavaScript PDF generation for ever...</td>\n",
              "      <td>JavaScript</td>\n",
              "      <td>22230</td>\n",
              "      <td>4027</td>\n",
              "      <td>2021-06-18 08:42:15</td>\n",
              "      <td>0</td>\n",
              "    </tr>\n",
              "    <tr>\n",
              "      <th>4</th>\n",
              "      <td>21661</td>\n",
              "      <td>0.2</td>\n",
              "      <td>bilibili</td>\n",
              "      <td>ijkplayer</td>\n",
              "      <td>Android/iOS video player based on FFmpeg n3.4,...</td>\n",
              "      <td>C</td>\n",
              "      <td>29014</td>\n",
              "      <td>7524</td>\n",
              "      <td>2021-06-13 14:34:08</td>\n",
              "      <td>0</td>\n",
              "    </tr>\n",
              "  </tbody>\n",
              "</table>\n",
              "</div>"
            ],
            "text/plain": [
              "   repo_id  score    creator  ...  forks             updated sponsor\n",
              "0      647    0.2  justjavac  ...  23574 2021-05-25 00:52:10       0\n",
              "1     2042    0.2   iluwatar  ...  21345 2021-06-22 05:03:56       1\n",
              "2     4394    0.2      zxing  ...   9025 2021-06-07 12:11:10       0\n",
              "3     5956    0.2      MrRio  ...   4027 2021-06-18 08:42:15       0\n",
              "4    21661    0.2   bilibili  ...   7524 2021-06-13 14:34:08       0\n",
              "\n",
              "[5 rows x 10 columns]"
            ]
          },
          "metadata": {}
        },
        {
          "output_type": "display_data",
          "data": {
            "text/html": [
              "<br /><h3>Ground Truth for user 463</h3>"
            ],
            "text/plain": [
              "<IPython.core.display.HTML object>"
            ]
          },
          "metadata": {}
        },
        {
          "output_type": "execute_result",
          "data": {
            "text/html": [
              "<div>\n",
              "<style scoped>\n",
              "    .dataframe tbody tr th:only-of-type {\n",
              "        vertical-align: middle;\n",
              "    }\n",
              "\n",
              "    .dataframe tbody tr th {\n",
              "        vertical-align: top;\n",
              "    }\n",
              "\n",
              "    .dataframe thead th {\n",
              "        text-align: right;\n",
              "    }\n",
              "</style>\n",
              "<table border=\"1\" class=\"dataframe\">\n",
              "  <thead>\n",
              "    <tr style=\"text-align: right;\">\n",
              "      <th></th>\n",
              "      <th>repo_id</th>\n",
              "      <th>user_id</th>\n",
              "      <th>creator</th>\n",
              "      <th>name</th>\n",
              "      <th>about</th>\n",
              "      <th>language</th>\n",
              "      <th>stars</th>\n",
              "      <th>forks</th>\n",
              "      <th>updated</th>\n",
              "      <th>sponsor</th>\n",
              "    </tr>\n",
              "  </thead>\n",
              "  <tbody>\n",
              "    <tr>\n",
              "      <th>0</th>\n",
              "      <td>120</td>\n",
              "      <td>463</td>\n",
              "      <td>nodejs</td>\n",
              "      <td>node</td>\n",
              "      <td>Node.js JavaScript runtime ✨🐢🚀✨</td>\n",
              "      <td>JavaScript</td>\n",
              "      <td>79974</td>\n",
              "      <td>20533</td>\n",
              "      <td>2021-06-22 08:41:01</td>\n",
              "      <td>0</td>\n",
              "    </tr>\n",
              "    <tr>\n",
              "      <th>1</th>\n",
              "      <td>204</td>\n",
              "      <td>463</td>\n",
              "      <td>django</td>\n",
              "      <td>django</td>\n",
              "      <td>The Web framework for perfectionists with dead...</td>\n",
              "      <td>Python</td>\n",
              "      <td>58081</td>\n",
              "      <td>24842</td>\n",
              "      <td>2021-06-22 08:28:44</td>\n",
              "      <td>1</td>\n",
              "    </tr>\n",
              "    <tr>\n",
              "      <th>2</th>\n",
              "      <td>961</td>\n",
              "      <td>463</td>\n",
              "      <td>bumptech</td>\n",
              "      <td>glide</td>\n",
              "      <td>An image loading and caching library for Andro...</td>\n",
              "      <td>Java</td>\n",
              "      <td>31342</td>\n",
              "      <td>5710</td>\n",
              "      <td>2021-06-11 23:50:48</td>\n",
              "      <td>0</td>\n",
              "    </tr>\n",
              "    <tr>\n",
              "      <th>3</th>\n",
              "      <td>1279</td>\n",
              "      <td>463</td>\n",
              "      <td>ReactiveX</td>\n",
              "      <td>rxjs</td>\n",
              "      <td>A reactive programming library for JavaScript</td>\n",
              "      <td>TypeScript</td>\n",
              "      <td>25031</td>\n",
              "      <td>2575</td>\n",
              "      <td>2021-06-21 19:24:28</td>\n",
              "      <td>0</td>\n",
              "    </tr>\n",
              "    <tr>\n",
              "      <th>4</th>\n",
              "      <td>1369</td>\n",
              "      <td>463</td>\n",
              "      <td>r-spacex</td>\n",
              "      <td>SpaceX-API</td>\n",
              "      <td>🚀 Open Source REST API for SpaceX launch, rock...</td>\n",
              "      <td>JavaScript</td>\n",
              "      <td>8548</td>\n",
              "      <td>686</td>\n",
              "      <td>2021-06-19 16:04:27</td>\n",
              "      <td>0</td>\n",
              "    </tr>\n",
              "    <tr>\n",
              "      <th>5</th>\n",
              "      <td>2045</td>\n",
              "      <td>463</td>\n",
              "      <td>DrKLO</td>\n",
              "      <td>Telegram</td>\n",
              "      <td>Telegram for Android source</td>\n",
              "      <td>C++</td>\n",
              "      <td>17143</td>\n",
              "      <td>5993</td>\n",
              "      <td>2021-06-03 05:06:31</td>\n",
              "      <td>0</td>\n",
              "    </tr>\n",
              "    <tr>\n",
              "      <th>6</th>\n",
              "      <td>8254</td>\n",
              "      <td>463</td>\n",
              "      <td>google</td>\n",
              "      <td>gson</td>\n",
              "      <td>A Java serialization/deserialization library t...</td>\n",
              "      <td>Java</td>\n",
              "      <td>19688</td>\n",
              "      <td>3818</td>\n",
              "      <td>2021-06-19 12:39:51</td>\n",
              "      <td>0</td>\n",
              "    </tr>\n",
              "    <tr>\n",
              "      <th>7</th>\n",
              "      <td>9684</td>\n",
              "      <td>463</td>\n",
              "      <td>jquense</td>\n",
              "      <td>yup</td>\n",
              "      <td>Dead simple Object schema validation</td>\n",
              "      <td>TypeScript</td>\n",
              "      <td>13746</td>\n",
              "      <td>616</td>\n",
              "      <td>2021-06-21 18:30:52</td>\n",
              "      <td>0</td>\n",
              "    </tr>\n",
              "  </tbody>\n",
              "</table>\n",
              "</div>"
            ],
            "text/plain": [
              "   repo_id  user_id    creator  ...  forks             updated sponsor\n",
              "0      120      463     nodejs  ...  20533 2021-06-22 08:41:01       0\n",
              "1      204      463     django  ...  24842 2021-06-22 08:28:44       1\n",
              "2      961      463   bumptech  ...   5710 2021-06-11 23:50:48       0\n",
              "3     1279      463  ReactiveX  ...   2575 2021-06-21 19:24:28       0\n",
              "4     1369      463   r-spacex  ...    686 2021-06-19 16:04:27       0\n",
              "5     2045      463      DrKLO  ...   5993 2021-06-03 05:06:31       0\n",
              "6     8254      463     google  ...   3818 2021-06-19 12:39:51       0\n",
              "7     9684      463    jquense  ...    616 2021-06-21 18:30:52       0\n",
              "\n",
              "[8 rows x 10 columns]"
            ]
          },
          "metadata": {},
          "execution_count": 84
        }
      ]
    },
    {
      "cell_type": "code",
      "metadata": {
        "colab": {
          "base_uri": "https://localhost:8080/",
          "height": 365
        },
        "cellView": "form",
        "id": "FXClFRAUf4Hm",
        "outputId": "32de1004-edfe-4d41-c46c-49512524842d"
      },
      "source": [
        "#@title Predict from repos id\n",
        "repos_id = [1, 5, 6, 8] #@param {type:\"raw\"}\n",
        "n_items = 5 #@param {type: \"integer\"}\n",
        "neighbours = 5 #@param {type: \"integer\"}\n",
        "recommendations = ubm.predict_from_repos(repos_id, n_items, neighbours)\n",
        "\n",
        "display(HTML(\"<h3>Repos previously starred</h3>\"))\n",
        "display(new_repos_df.filter(col(\"repo_id\").isin(repos_id)).toPandas())\n",
        "\n",
        "display(HTML(\"<br /><h3>Predicted repos</h3>\"))\n",
        "display(recommendations.join(new_repos_df, \"repo_id\").toPandas().sort_values(\"score\", ascending=False))"
      ],
      "execution_count": null,
      "outputs": [
        {
          "output_type": "display_data",
          "data": {
            "text/html": [
              "<h3>Repos previously starred</h3>"
            ],
            "text/plain": [
              "<IPython.core.display.HTML object>"
            ]
          },
          "metadata": {}
        },
        {
          "output_type": "display_data",
          "data": {
            "text/html": [
              "<div>\n",
              "<style scoped>\n",
              "    .dataframe tbody tr th:only-of-type {\n",
              "        vertical-align: middle;\n",
              "    }\n",
              "\n",
              "    .dataframe tbody tr th {\n",
              "        vertical-align: top;\n",
              "    }\n",
              "\n",
              "    .dataframe thead th {\n",
              "        text-align: right;\n",
              "    }\n",
              "</style>\n",
              "<table border=\"1\" class=\"dataframe\">\n",
              "  <thead>\n",
              "    <tr style=\"text-align: right;\">\n",
              "      <th></th>\n",
              "      <th>repo_id</th>\n",
              "      <th>creator</th>\n",
              "      <th>name</th>\n",
              "      <th>about</th>\n",
              "      <th>language</th>\n",
              "      <th>stars</th>\n",
              "      <th>forks</th>\n",
              "      <th>updated</th>\n",
              "      <th>sponsor</th>\n",
              "    </tr>\n",
              "  </thead>\n",
              "  <tbody>\n",
              "    <tr>\n",
              "      <th>0</th>\n",
              "      <td>1</td>\n",
              "      <td>vercel</td>\n",
              "      <td>next.js</td>\n",
              "      <td>The React Framework</td>\n",
              "      <td>JavaScript</td>\n",
              "      <td>69687</td>\n",
              "      <td>13111</td>\n",
              "      <td>2021-06-22 07:49:26</td>\n",
              "      <td>0</td>\n",
              "    </tr>\n",
              "  </tbody>\n",
              "</table>\n",
              "</div>"
            ],
            "text/plain": [
              "   repo_id creator     name  ...  forks             updated  sponsor\n",
              "0        1  vercel  next.js  ...  13111 2021-06-22 07:49:26        0\n",
              "\n",
              "[1 rows x 9 columns]"
            ]
          },
          "metadata": {}
        },
        {
          "output_type": "display_data",
          "data": {
            "text/html": [
              "<br /><h3>Predicted repos</h3>"
            ],
            "text/plain": [
              "<IPython.core.display.HTML object>"
            ]
          },
          "metadata": {}
        },
        {
          "output_type": "display_data",
          "data": {
            "text/html": [
              "<div>\n",
              "<style scoped>\n",
              "    .dataframe tbody tr th:only-of-type {\n",
              "        vertical-align: middle;\n",
              "    }\n",
              "\n",
              "    .dataframe tbody tr th {\n",
              "        vertical-align: top;\n",
              "    }\n",
              "\n",
              "    .dataframe thead th {\n",
              "        text-align: right;\n",
              "    }\n",
              "</style>\n",
              "<table border=\"1\" class=\"dataframe\">\n",
              "  <thead>\n",
              "    <tr style=\"text-align: right;\">\n",
              "      <th></th>\n",
              "      <th>repo_id</th>\n",
              "      <th>score</th>\n",
              "      <th>creator</th>\n",
              "      <th>name</th>\n",
              "      <th>about</th>\n",
              "      <th>language</th>\n",
              "      <th>stars</th>\n",
              "      <th>forks</th>\n",
              "      <th>updated</th>\n",
              "      <th>sponsor</th>\n",
              "    </tr>\n",
              "  </thead>\n",
              "  <tbody>\n",
              "    <tr>\n",
              "      <th>0</th>\n",
              "      <td>2</td>\n",
              "      <td>1.0</td>\n",
              "      <td>facebook</td>\n",
              "      <td>react</td>\n",
              "      <td>A declarative, efficient, and flexible JavaScr...</td>\n",
              "      <td>JavaScript</td>\n",
              "      <td>170264</td>\n",
              "      <td>34406</td>\n",
              "      <td>2021-06-22 06:08:58</td>\n",
              "      <td>0</td>\n",
              "    </tr>\n",
              "    <tr>\n",
              "      <th>3</th>\n",
              "      <td>119</td>\n",
              "      <td>0.6</td>\n",
              "      <td>denoland</td>\n",
              "      <td>deno</td>\n",
              "      <td>A secure JavaScript and TypeScript runtime</td>\n",
              "      <td>Rust</td>\n",
              "      <td>76219</td>\n",
              "      <td>4010</td>\n",
              "      <td>2021-06-22 07:18:01</td>\n",
              "      <td>1</td>\n",
              "    </tr>\n",
              "    <tr>\n",
              "      <th>2</th>\n",
              "      <td>103</td>\n",
              "      <td>0.4</td>\n",
              "      <td>enaqx</td>\n",
              "      <td>awesome-react</td>\n",
              "      <td>A collection of awesome things regarding React...</td>\n",
              "      <td>UNK</td>\n",
              "      <td>44028</td>\n",
              "      <td>5314</td>\n",
              "      <td>2021-06-21 08:30:17</td>\n",
              "      <td>0</td>\n",
              "    </tr>\n",
              "    <tr>\n",
              "      <th>1</th>\n",
              "      <td>48</td>\n",
              "      <td>0.2</td>\n",
              "      <td>facebook</td>\n",
              "      <td>react-native</td>\n",
              "      <td>A framework for building native apps with React.</td>\n",
              "      <td>JavaScript</td>\n",
              "      <td>96207</td>\n",
              "      <td>20943</td>\n",
              "      <td>2021-06-22 06:00:50</td>\n",
              "      <td>0</td>\n",
              "    </tr>\n",
              "    <tr>\n",
              "      <th>4</th>\n",
              "      <td>1320</td>\n",
              "      <td>0.2</td>\n",
              "      <td>Semantic-Org</td>\n",
              "      <td>Semantic-UI</td>\n",
              "      <td>Semantic is a UI component framework based aro...</td>\n",
              "      <td>JavaScript</td>\n",
              "      <td>49338</td>\n",
              "      <td>5128</td>\n",
              "      <td>2021-04-18 15:16:46</td>\n",
              "      <td>0</td>\n",
              "    </tr>\n",
              "  </tbody>\n",
              "</table>\n",
              "</div>"
            ],
            "text/plain": [
              "   repo_id  score       creator  ...  forks             updated sponsor\n",
              "0        2    1.0      facebook  ...  34406 2021-06-22 06:08:58       0\n",
              "3      119    0.6      denoland  ...   4010 2021-06-22 07:18:01       1\n",
              "2      103    0.4         enaqx  ...   5314 2021-06-21 08:30:17       0\n",
              "1       48    0.2      facebook  ...  20943 2021-06-22 06:00:50       0\n",
              "4     1320    0.2  Semantic-Org  ...   5128 2021-04-18 15:16:46       0\n",
              "\n",
              "[5 rows x 10 columns]"
            ]
          },
          "metadata": {}
        }
      ]
    },
    {
      "cell_type": "markdown",
      "metadata": {
        "id": "LoPbbP3M3yX6"
      },
      "source": [
        "### Item-based CF"
      ]
    },
    {
      "cell_type": "code",
      "metadata": {
        "id": "NPtzX21r0nNJ"
      },
      "source": [
        "from pyspark.sql.functions import broadcast\n",
        "\n",
        "class ItemBasedCF(RecommenderModel):\n",
        "\n",
        "  def __init__(self, users_df, repos_df, starred_df):\n",
        "    super().__init__(users_df, repos_df, starred_df)\n",
        "\n",
        "    # Compute the item vector (list of users that starred that repo) for each repo\n",
        "    self.item_vectors = self.starred_repos.groupBy(\"repo_id\").agg(collect_set(\"user_id\").alias(\"item_vector\"))\n",
        "\n",
        "  def predict_from_user(self, user_id, K, neighbours = 5):\n",
        "    # Add the item vectors info to the starred repos\n",
        "    user_items = self.starred_repos.filter(col(\"user_id\") == user_id).join(self.item_vectors, \"repo_id\")\n",
        "\n",
        "    # Add the starred repos array to each record\n",
        "    user_starred_repos = self.starred_repos.filter(col(\"user_id\") == user_id).groupBy(\"user_id\").agg(collect_set(\"repo_id\").alias(\"starred_repos\"))\n",
        "    user_items = user_items.join(user_starred_repos, \"user_id\")\n",
        "\n",
        "    # Remove all the items that the user has already starred\n",
        "    other_items = self.item_vectors.select(col(\"repo_id\").alias(\"repo2_id\"), col(\"item_vector\").alias(\"item2_vector\"))\n",
        "    user_item_item = user_items.join(other_items, ~array_contains(col(\"starred_repos\"), col(\"repo2_id\")))\n",
        "\n",
        "    # Compute the similarity of each pair of repos\n",
        "    jaccard = user_item_item.withColumn(\"jaccard_similarity\", jaccard_similarity_udf(\"item_vector\", \"item2_vector\")).select(\"repo_id\", \"repo2_id\", \"jaccard_similarity\")\n",
        "\n",
        "    # Select the top neighbours based on the similarity\n",
        "    window = Window.partitionBy(jaccard[\"repo_id\"]).orderBy(jaccard[\"jaccard_similarity\"].desc())\n",
        "    top_k_repos = jaccard.select(\"*\", row_number().over(window).alias(\"rank\")).filter(col(\"rank\") <= neighbours)\n",
        "\n",
        "    # Count the number of times a repo appears\n",
        "    repos_occurrencies = top_k_repos.groupBy(\"repo2_id\").count().withColumnRenamed(\"repo2_id\", \"repo_id\")\n",
        "\n",
        "    # Compute the top-k repos\n",
        "    recommendations = repos_occurrencies.sort(\"count\", ascending=False).limit(K)\n",
        "    recommendations = recommendations.withColumn(\"score\", col(\"count\") / neighbours).drop(\"count\")\n",
        "\n",
        "    return recommendations\n",
        "\n",
        "  def predict_from_repos(self, starred_repos_list, K, neighbours = 5):\n",
        "    # Add the item vectors info to the starred repos\n",
        "    user_items = self.item_vectors.filter(col(\"repo_id\").isin(starred_repos_list))\n",
        "\n",
        "    # Add the starred repos array to each record\n",
        "    user_starred_repos = array([lit(repo_id) for repo_id in starred_repos_list])\n",
        "    user_items = user_items.withColumn(\"starred_repos\", user_starred_repos)\n",
        "\n",
        "    # Remove all the items that the user has already starred\n",
        "    other_items = self.item_vectors.select(col(\"repo_id\").alias(\"repo2_id\"), col(\"item_vector\").alias(\"item2_vector\"))\n",
        "    user_item_item = user_items.join(other_items, ~array_contains(col(\"starred_repos\"), col(\"repo2_id\")))\n",
        "\n",
        "    # Compute the similarity of each pair of repos\n",
        "    jaccard = user_item_item.withColumn(\"jaccard_similarity\", jaccard_similarity_udf(\"item_vector\", \"item2_vector\")).select(\"repo_id\", \"repo2_id\", \"jaccard_similarity\")\n",
        "\n",
        "    # Select the top neighbours based on the similarity\n",
        "    window = Window.partitionBy(jaccard[\"repo_id\"]).orderBy(jaccard[\"jaccard_similarity\"].desc())\n",
        "    top_k_repos = jaccard.select(\"*\", row_number().over(window).alias(\"rank\")).filter(col(\"rank\") <= neighbours)\n",
        "\n",
        "    # Count the number of times a repo appears\n",
        "    repos_occurrencies = top_k_repos.groupBy(\"repo2_id\").count().withColumnRenamed(\"repo2_id\", \"repo_id\")\n",
        "\n",
        "    # Compute the top-k repos\n",
        "    recommendations = repos_occurrencies.sort(\"count\", ascending=False).limit(K)\n",
        "    recommendations = recommendations.withColumn(\"score\", col(\"count\") / neighbours).drop(\"count\")\n",
        "\n",
        "    return recommendations\n",
        "\n",
        "ibm = ItemBasedCF(users_df, repos_df, train)"
      ],
      "execution_count": null,
      "outputs": []
    },
    {
      "cell_type": "code",
      "metadata": {
        "colab": {
          "base_uri": "https://localhost:8080/",
          "height": 795
        },
        "cellView": "form",
        "id": "CakS1b6mgQ-B",
        "outputId": "6e6280de-81ba-4d61-9a7f-ef1d68eb4291"
      },
      "source": [
        "#@title Predict from user id\n",
        "user_id = 463 #@param {type: \"integer\"}\n",
        "n_items = 5 #@param {type: \"integer\"}\n",
        "neighbours = 5 #@param {type: \"integer\"}\n",
        "recommendations = ibm.predict_from_user(user_id, n_items, neighbours)\n",
        "\n",
        "display(HTML(\"<h3>Repos previously starred by user \" + str(user_id) + \"</h3>\"))\n",
        "display(train.filter(col(\"user_id\") == user_id) \\\n",
        "  .join(new_repos_df, \"repo_id\") \\\n",
        "  .toPandas())\n",
        "\n",
        "display(HTML(\"<br /><h3>Predicted repos for user \" + str(user_id) + \"</h3>\"))\n",
        "display(recommendations.join(new_repos_df, \"repo_id\").toPandas().sort_values(\"score\", ascending=False))\n",
        "\n",
        "display(HTML(\"<br /><h3>Ground Truth for user \" + str(user_id) + \"</h3>\"))\n",
        "test.filter(col(\"user_id\") == user_id) \\\n",
        "  .join(new_repos_df, \"repo_id\") \\\n",
        "  .toPandas()"
      ],
      "execution_count": null,
      "outputs": [
        {
          "output_type": "display_data",
          "data": {
            "text/html": [
              "<h3>Repos previously starred by user 463</h3>"
            ],
            "text/plain": [
              "<IPython.core.display.HTML object>"
            ]
          },
          "metadata": {}
        },
        {
          "output_type": "display_data",
          "data": {
            "text/html": [
              "<div>\n",
              "<style scoped>\n",
              "    .dataframe tbody tr th:only-of-type {\n",
              "        vertical-align: middle;\n",
              "    }\n",
              "\n",
              "    .dataframe tbody tr th {\n",
              "        vertical-align: top;\n",
              "    }\n",
              "\n",
              "    .dataframe thead th {\n",
              "        text-align: right;\n",
              "    }\n",
              "</style>\n",
              "<table border=\"1\" class=\"dataframe\">\n",
              "  <thead>\n",
              "    <tr style=\"text-align: right;\">\n",
              "      <th></th>\n",
              "      <th>repo_id</th>\n",
              "      <th>user_id</th>\n",
              "      <th>creator</th>\n",
              "      <th>name</th>\n",
              "      <th>about</th>\n",
              "      <th>language</th>\n",
              "      <th>stars</th>\n",
              "      <th>forks</th>\n",
              "      <th>updated</th>\n",
              "      <th>sponsor</th>\n",
              "    </tr>\n",
              "  </thead>\n",
              "  <tbody>\n",
              "    <tr>\n",
              "      <th>0</th>\n",
              "      <td>2</td>\n",
              "      <td>463</td>\n",
              "      <td>facebook</td>\n",
              "      <td>react</td>\n",
              "      <td>A declarative, efficient, and flexible JavaScr...</td>\n",
              "      <td>JavaScript</td>\n",
              "      <td>170264</td>\n",
              "      <td>34406</td>\n",
              "      <td>2021-06-22 06:08:58</td>\n",
              "      <td>0</td>\n",
              "    </tr>\n",
              "    <tr>\n",
              "      <th>1</th>\n",
              "      <td>169</td>\n",
              "      <td>463</td>\n",
              "      <td>date-fns</td>\n",
              "      <td>date-fns</td>\n",
              "      <td>⏳ Modern JavaScript date utility library ⌛️</td>\n",
              "      <td>JavaScript</td>\n",
              "      <td>26155</td>\n",
              "      <td>1260</td>\n",
              "      <td>2021-06-21 12:37:46</td>\n",
              "      <td>0</td>\n",
              "    </tr>\n",
              "    <tr>\n",
              "      <th>2</th>\n",
              "      <td>13629</td>\n",
              "      <td>463</td>\n",
              "      <td>square</td>\n",
              "      <td>okhttp</td>\n",
              "      <td>Square’s meticulous HTTP client for the JVM, A...</td>\n",
              "      <td>Java</td>\n",
              "      <td>40244</td>\n",
              "      <td>8538</td>\n",
              "      <td>2021-06-14 08:10:00</td>\n",
              "      <td>0</td>\n",
              "    </tr>\n",
              "    <tr>\n",
              "      <th>3</th>\n",
              "      <td>25974</td>\n",
              "      <td>463</td>\n",
              "      <td>square</td>\n",
              "      <td>retrofit</td>\n",
              "      <td>A type-safe HTTP client for Android and the JVM</td>\n",
              "      <td>Java</td>\n",
              "      <td>38265</td>\n",
              "      <td>6872</td>\n",
              "      <td>2021-06-24 19:20:04</td>\n",
              "      <td>0</td>\n",
              "    </tr>\n",
              "  </tbody>\n",
              "</table>\n",
              "</div>"
            ],
            "text/plain": [
              "   repo_id  user_id   creator  ...  forks             updated sponsor\n",
              "0        2      463  facebook  ...  34406 2021-06-22 06:08:58       0\n",
              "1      169      463  date-fns  ...   1260 2021-06-21 12:37:46       0\n",
              "2    13629      463    square  ...   8538 2021-06-14 08:10:00       0\n",
              "3    25974      463    square  ...   6872 2021-06-24 19:20:04       0\n",
              "\n",
              "[4 rows x 10 columns]"
            ]
          },
          "metadata": {}
        },
        {
          "output_type": "display_data",
          "data": {
            "text/html": [
              "<br /><h3>Predicted repos for user 463</h3>"
            ],
            "text/plain": [
              "<IPython.core.display.HTML object>"
            ]
          },
          "metadata": {}
        },
        {
          "output_type": "display_data",
          "data": {
            "text/html": [
              "<div>\n",
              "<style scoped>\n",
              "    .dataframe tbody tr th:only-of-type {\n",
              "        vertical-align: middle;\n",
              "    }\n",
              "\n",
              "    .dataframe tbody tr th {\n",
              "        vertical-align: top;\n",
              "    }\n",
              "\n",
              "    .dataframe thead th {\n",
              "        text-align: right;\n",
              "    }\n",
              "</style>\n",
              "<table border=\"1\" class=\"dataframe\">\n",
              "  <thead>\n",
              "    <tr style=\"text-align: right;\">\n",
              "      <th></th>\n",
              "      <th>repo_id</th>\n",
              "      <th>score</th>\n",
              "      <th>creator</th>\n",
              "      <th>name</th>\n",
              "      <th>about</th>\n",
              "      <th>language</th>\n",
              "      <th>stars</th>\n",
              "      <th>forks</th>\n",
              "      <th>updated</th>\n",
              "      <th>sponsor</th>\n",
              "    </tr>\n",
              "  </thead>\n",
              "  <tbody>\n",
              "    <tr>\n",
              "      <th>1</th>\n",
              "      <td>961</td>\n",
              "      <td>0.4</td>\n",
              "      <td>bumptech</td>\n",
              "      <td>glide</td>\n",
              "      <td>An image loading and caching library for Andro...</td>\n",
              "      <td>Java</td>\n",
              "      <td>31342</td>\n",
              "      <td>5710</td>\n",
              "      <td>2021-06-11 23:50:48</td>\n",
              "      <td>0</td>\n",
              "    </tr>\n",
              "    <tr>\n",
              "      <th>2</th>\n",
              "      <td>8254</td>\n",
              "      <td>0.4</td>\n",
              "      <td>google</td>\n",
              "      <td>gson</td>\n",
              "      <td>A Java serialization/deserialization library t...</td>\n",
              "      <td>Java</td>\n",
              "      <td>19688</td>\n",
              "      <td>3818</td>\n",
              "      <td>2021-06-19 12:39:51</td>\n",
              "      <td>0</td>\n",
              "    </tr>\n",
              "    <tr>\n",
              "      <th>3</th>\n",
              "      <td>8687</td>\n",
              "      <td>0.4</td>\n",
              "      <td>ReactiveX</td>\n",
              "      <td>RxJava</td>\n",
              "      <td>RxJava – Reactive Extensions for the JVM – a l...</td>\n",
              "      <td>Java</td>\n",
              "      <td>44791</td>\n",
              "      <td>7437</td>\n",
              "      <td>2021-06-22 06:09:01</td>\n",
              "      <td>0</td>\n",
              "    </tr>\n",
              "    <tr>\n",
              "      <th>4</th>\n",
              "      <td>11342</td>\n",
              "      <td>0.4</td>\n",
              "      <td>google</td>\n",
              "      <td>guava</td>\n",
              "      <td>Google core libraries for Java</td>\n",
              "      <td>Java</td>\n",
              "      <td>41479</td>\n",
              "      <td>9236</td>\n",
              "      <td>2021-06-21 15:53:07</td>\n",
              "      <td>0</td>\n",
              "    </tr>\n",
              "    <tr>\n",
              "      <th>0</th>\n",
              "      <td>238</td>\n",
              "      <td>0.2</td>\n",
              "      <td>flutter</td>\n",
              "      <td>flutter</td>\n",
              "      <td>Flutter makes it easy and fast to build beauti...</td>\n",
              "      <td>Dart</td>\n",
              "      <td>122655</td>\n",
              "      <td>17619</td>\n",
              "      <td>2021-06-22 08:20:39</td>\n",
              "      <td>0</td>\n",
              "    </tr>\n",
              "  </tbody>\n",
              "</table>\n",
              "</div>"
            ],
            "text/plain": [
              "   repo_id  score    creator  ...  forks             updated sponsor\n",
              "1      961    0.4   bumptech  ...   5710 2021-06-11 23:50:48       0\n",
              "2     8254    0.4     google  ...   3818 2021-06-19 12:39:51       0\n",
              "3     8687    0.4  ReactiveX  ...   7437 2021-06-22 06:09:01       0\n",
              "4    11342    0.4     google  ...   9236 2021-06-21 15:53:07       0\n",
              "0      238    0.2    flutter  ...  17619 2021-06-22 08:20:39       0\n",
              "\n",
              "[5 rows x 10 columns]"
            ]
          },
          "metadata": {}
        },
        {
          "output_type": "display_data",
          "data": {
            "text/html": [
              "<br /><h3>Ground Truth for user 463</h3>"
            ],
            "text/plain": [
              "<IPython.core.display.HTML object>"
            ]
          },
          "metadata": {}
        },
        {
          "output_type": "execute_result",
          "data": {
            "text/html": [
              "<div>\n",
              "<style scoped>\n",
              "    .dataframe tbody tr th:only-of-type {\n",
              "        vertical-align: middle;\n",
              "    }\n",
              "\n",
              "    .dataframe tbody tr th {\n",
              "        vertical-align: top;\n",
              "    }\n",
              "\n",
              "    .dataframe thead th {\n",
              "        text-align: right;\n",
              "    }\n",
              "</style>\n",
              "<table border=\"1\" class=\"dataframe\">\n",
              "  <thead>\n",
              "    <tr style=\"text-align: right;\">\n",
              "      <th></th>\n",
              "      <th>repo_id</th>\n",
              "      <th>user_id</th>\n",
              "      <th>creator</th>\n",
              "      <th>name</th>\n",
              "      <th>about</th>\n",
              "      <th>language</th>\n",
              "      <th>stars</th>\n",
              "      <th>forks</th>\n",
              "      <th>updated</th>\n",
              "      <th>sponsor</th>\n",
              "    </tr>\n",
              "  </thead>\n",
              "  <tbody>\n",
              "    <tr>\n",
              "      <th>0</th>\n",
              "      <td>120</td>\n",
              "      <td>463</td>\n",
              "      <td>nodejs</td>\n",
              "      <td>node</td>\n",
              "      <td>Node.js JavaScript runtime ✨🐢🚀✨</td>\n",
              "      <td>JavaScript</td>\n",
              "      <td>79974</td>\n",
              "      <td>20533</td>\n",
              "      <td>2021-06-22 08:41:01</td>\n",
              "      <td>0</td>\n",
              "    </tr>\n",
              "    <tr>\n",
              "      <th>1</th>\n",
              "      <td>204</td>\n",
              "      <td>463</td>\n",
              "      <td>django</td>\n",
              "      <td>django</td>\n",
              "      <td>The Web framework for perfectionists with dead...</td>\n",
              "      <td>Python</td>\n",
              "      <td>58081</td>\n",
              "      <td>24842</td>\n",
              "      <td>2021-06-22 08:28:44</td>\n",
              "      <td>1</td>\n",
              "    </tr>\n",
              "    <tr>\n",
              "      <th>2</th>\n",
              "      <td>961</td>\n",
              "      <td>463</td>\n",
              "      <td>bumptech</td>\n",
              "      <td>glide</td>\n",
              "      <td>An image loading and caching library for Andro...</td>\n",
              "      <td>Java</td>\n",
              "      <td>31342</td>\n",
              "      <td>5710</td>\n",
              "      <td>2021-06-11 23:50:48</td>\n",
              "      <td>0</td>\n",
              "    </tr>\n",
              "    <tr>\n",
              "      <th>3</th>\n",
              "      <td>1279</td>\n",
              "      <td>463</td>\n",
              "      <td>ReactiveX</td>\n",
              "      <td>rxjs</td>\n",
              "      <td>A reactive programming library for JavaScript</td>\n",
              "      <td>TypeScript</td>\n",
              "      <td>25031</td>\n",
              "      <td>2575</td>\n",
              "      <td>2021-06-21 19:24:28</td>\n",
              "      <td>0</td>\n",
              "    </tr>\n",
              "    <tr>\n",
              "      <th>4</th>\n",
              "      <td>1369</td>\n",
              "      <td>463</td>\n",
              "      <td>r-spacex</td>\n",
              "      <td>SpaceX-API</td>\n",
              "      <td>🚀 Open Source REST API for SpaceX launch, rock...</td>\n",
              "      <td>JavaScript</td>\n",
              "      <td>8548</td>\n",
              "      <td>686</td>\n",
              "      <td>2021-06-19 16:04:27</td>\n",
              "      <td>0</td>\n",
              "    </tr>\n",
              "    <tr>\n",
              "      <th>5</th>\n",
              "      <td>2045</td>\n",
              "      <td>463</td>\n",
              "      <td>DrKLO</td>\n",
              "      <td>Telegram</td>\n",
              "      <td>Telegram for Android source</td>\n",
              "      <td>C++</td>\n",
              "      <td>17143</td>\n",
              "      <td>5993</td>\n",
              "      <td>2021-06-03 05:06:31</td>\n",
              "      <td>0</td>\n",
              "    </tr>\n",
              "    <tr>\n",
              "      <th>6</th>\n",
              "      <td>8254</td>\n",
              "      <td>463</td>\n",
              "      <td>google</td>\n",
              "      <td>gson</td>\n",
              "      <td>A Java serialization/deserialization library t...</td>\n",
              "      <td>Java</td>\n",
              "      <td>19688</td>\n",
              "      <td>3818</td>\n",
              "      <td>2021-06-19 12:39:51</td>\n",
              "      <td>0</td>\n",
              "    </tr>\n",
              "    <tr>\n",
              "      <th>7</th>\n",
              "      <td>9684</td>\n",
              "      <td>463</td>\n",
              "      <td>jquense</td>\n",
              "      <td>yup</td>\n",
              "      <td>Dead simple Object schema validation</td>\n",
              "      <td>TypeScript</td>\n",
              "      <td>13746</td>\n",
              "      <td>616</td>\n",
              "      <td>2021-06-21 18:30:52</td>\n",
              "      <td>0</td>\n",
              "    </tr>\n",
              "  </tbody>\n",
              "</table>\n",
              "</div>"
            ],
            "text/plain": [
              "   repo_id  user_id    creator  ...  forks             updated sponsor\n",
              "0      120      463     nodejs  ...  20533 2021-06-22 08:41:01       0\n",
              "1      204      463     django  ...  24842 2021-06-22 08:28:44       1\n",
              "2      961      463   bumptech  ...   5710 2021-06-11 23:50:48       0\n",
              "3     1279      463  ReactiveX  ...   2575 2021-06-21 19:24:28       0\n",
              "4     1369      463   r-spacex  ...    686 2021-06-19 16:04:27       0\n",
              "5     2045      463      DrKLO  ...   5993 2021-06-03 05:06:31       0\n",
              "6     8254      463     google  ...   3818 2021-06-19 12:39:51       0\n",
              "7     9684      463    jquense  ...    616 2021-06-21 18:30:52       0\n",
              "\n",
              "[8 rows x 10 columns]"
            ]
          },
          "metadata": {},
          "execution_count": 87
        }
      ]
    },
    {
      "cell_type": "code",
      "metadata": {
        "colab": {
          "base_uri": "https://localhost:8080/",
          "height": 365
        },
        "cellView": "form",
        "id": "XHYDiMvJgQ-D",
        "outputId": "1d5fa375-2181-4f23-fb74-1f033d708fff"
      },
      "source": [
        "#@title Predict from repos id\n",
        "repos_id = [1, 5, 6, 8] #@param {type:\"raw\"}\n",
        "n_items = 5 #@param {type: \"integer\"}\n",
        "neighbours = 5 #@param {type: \"integer\"}\n",
        "recommendations = ibm.predict_from_repos(repos_id, n_items, neighbours)\n",
        "\n",
        "display(HTML(\"<h3>Repos previously starred</h3>\"))\n",
        "display(new_repos_df.filter(col(\"repo_id\").isin(repos_id)).toPandas())\n",
        "\n",
        "display(HTML(\"<br /><h3>Predicted repos</h3>\"))\n",
        "display(recommendations.join(new_repos_df, \"repo_id\").toPandas().sort_values(\"score\", ascending=False))"
      ],
      "execution_count": null,
      "outputs": [
        {
          "output_type": "display_data",
          "data": {
            "text/html": [
              "<h3>Repos previously starred</h3>"
            ],
            "text/plain": [
              "<IPython.core.display.HTML object>"
            ]
          },
          "metadata": {}
        },
        {
          "output_type": "display_data",
          "data": {
            "text/html": [
              "<div>\n",
              "<style scoped>\n",
              "    .dataframe tbody tr th:only-of-type {\n",
              "        vertical-align: middle;\n",
              "    }\n",
              "\n",
              "    .dataframe tbody tr th {\n",
              "        vertical-align: top;\n",
              "    }\n",
              "\n",
              "    .dataframe thead th {\n",
              "        text-align: right;\n",
              "    }\n",
              "</style>\n",
              "<table border=\"1\" class=\"dataframe\">\n",
              "  <thead>\n",
              "    <tr style=\"text-align: right;\">\n",
              "      <th></th>\n",
              "      <th>repo_id</th>\n",
              "      <th>creator</th>\n",
              "      <th>name</th>\n",
              "      <th>about</th>\n",
              "      <th>language</th>\n",
              "      <th>stars</th>\n",
              "      <th>forks</th>\n",
              "      <th>updated</th>\n",
              "      <th>sponsor</th>\n",
              "    </tr>\n",
              "  </thead>\n",
              "  <tbody>\n",
              "    <tr>\n",
              "      <th>0</th>\n",
              "      <td>1</td>\n",
              "      <td>vercel</td>\n",
              "      <td>next.js</td>\n",
              "      <td>The React Framework</td>\n",
              "      <td>JavaScript</td>\n",
              "      <td>69687</td>\n",
              "      <td>13111</td>\n",
              "      <td>2021-06-22 07:49:26</td>\n",
              "      <td>0</td>\n",
              "    </tr>\n",
              "  </tbody>\n",
              "</table>\n",
              "</div>"
            ],
            "text/plain": [
              "   repo_id creator     name  ...  forks             updated  sponsor\n",
              "0        1  vercel  next.js  ...  13111 2021-06-22 07:49:26        0\n",
              "\n",
              "[1 rows x 9 columns]"
            ]
          },
          "metadata": {}
        },
        {
          "output_type": "display_data",
          "data": {
            "text/html": [
              "<br /><h3>Predicted repos</h3>"
            ],
            "text/plain": [
              "<IPython.core.display.HTML object>"
            ]
          },
          "metadata": {}
        },
        {
          "output_type": "display_data",
          "data": {
            "text/html": [
              "<div>\n",
              "<style scoped>\n",
              "    .dataframe tbody tr th:only-of-type {\n",
              "        vertical-align: middle;\n",
              "    }\n",
              "\n",
              "    .dataframe tbody tr th {\n",
              "        vertical-align: top;\n",
              "    }\n",
              "\n",
              "    .dataframe thead th {\n",
              "        text-align: right;\n",
              "    }\n",
              "</style>\n",
              "<table border=\"1\" class=\"dataframe\">\n",
              "  <thead>\n",
              "    <tr style=\"text-align: right;\">\n",
              "      <th></th>\n",
              "      <th>repo_id</th>\n",
              "      <th>score</th>\n",
              "      <th>creator</th>\n",
              "      <th>name</th>\n",
              "      <th>about</th>\n",
              "      <th>language</th>\n",
              "      <th>stars</th>\n",
              "      <th>forks</th>\n",
              "      <th>updated</th>\n",
              "      <th>sponsor</th>\n",
              "    </tr>\n",
              "  </thead>\n",
              "  <tbody>\n",
              "    <tr>\n",
              "      <th>0</th>\n",
              "      <td>2</td>\n",
              "      <td>0.2</td>\n",
              "      <td>facebook</td>\n",
              "      <td>react</td>\n",
              "      <td>A declarative, efficient, and flexible JavaScr...</td>\n",
              "      <td>JavaScript</td>\n",
              "      <td>170264</td>\n",
              "      <td>34406</td>\n",
              "      <td>2021-06-22 06:08:58</td>\n",
              "      <td>0</td>\n",
              "    </tr>\n",
              "    <tr>\n",
              "      <th>1</th>\n",
              "      <td>35</td>\n",
              "      <td>0.2</td>\n",
              "      <td>microsoft</td>\n",
              "      <td>vscode</td>\n",
              "      <td>Visual Studio Code</td>\n",
              "      <td>TypeScript</td>\n",
              "      <td>117529</td>\n",
              "      <td>19179</td>\n",
              "      <td>2021-06-22 08:42:46</td>\n",
              "      <td>0</td>\n",
              "    </tr>\n",
              "    <tr>\n",
              "      <th>2</th>\n",
              "      <td>53</td>\n",
              "      <td>0.2</td>\n",
              "      <td>sveltejs</td>\n",
              "      <td>svelte</td>\n",
              "      <td>Cybernetically enhanced web apps</td>\n",
              "      <td>TypeScript</td>\n",
              "      <td>47896</td>\n",
              "      <td>2264</td>\n",
              "      <td>2021-06-22 07:26:38</td>\n",
              "      <td>0</td>\n",
              "    </tr>\n",
              "    <tr>\n",
              "      <th>3</th>\n",
              "      <td>119</td>\n",
              "      <td>0.2</td>\n",
              "      <td>denoland</td>\n",
              "      <td>deno</td>\n",
              "      <td>A secure JavaScript and TypeScript runtime</td>\n",
              "      <td>Rust</td>\n",
              "      <td>76219</td>\n",
              "      <td>4010</td>\n",
              "      <td>2021-06-22 07:18:01</td>\n",
              "      <td>1</td>\n",
              "    </tr>\n",
              "    <tr>\n",
              "      <th>4</th>\n",
              "      <td>833</td>\n",
              "      <td>0.2</td>\n",
              "      <td>mui-org</td>\n",
              "      <td>material-ui</td>\n",
              "      <td>Material-UI is a simple and customizable compo...</td>\n",
              "      <td>JavaScript</td>\n",
              "      <td>68945</td>\n",
              "      <td>22541</td>\n",
              "      <td>2021-06-22 07:35:38</td>\n",
              "      <td>0</td>\n",
              "    </tr>\n",
              "  </tbody>\n",
              "</table>\n",
              "</div>"
            ],
            "text/plain": [
              "   repo_id  score    creator  ...  forks             updated sponsor\n",
              "0        2    0.2   facebook  ...  34406 2021-06-22 06:08:58       0\n",
              "1       35    0.2  microsoft  ...  19179 2021-06-22 08:42:46       0\n",
              "2       53    0.2   sveltejs  ...   2264 2021-06-22 07:26:38       0\n",
              "3      119    0.2   denoland  ...   4010 2021-06-22 07:18:01       1\n",
              "4      833    0.2    mui-org  ...  22541 2021-06-22 07:35:38       0\n",
              "\n",
              "[5 rows x 10 columns]"
            ]
          },
          "metadata": {}
        }
      ]
    },
    {
      "cell_type": "markdown",
      "metadata": {
        "id": "mAyXaHdQ30k5"
      },
      "source": [
        "### Matrix Factorization"
      ]
    },
    {
      "cell_type": "code",
      "metadata": {
        "id": "UcEnANqOHp9F"
      },
      "source": [
        "from pyspark.ml.recommendation import ALS, ALSModel\n",
        "\n",
        "class MatrixFactorization(RecommenderModel):\n",
        "\n",
        "  def __init__(self, users_df, repos_df, starred_repos_df):\n",
        "    super().__init__(users_df, repos_df, starred_repos_df)\n",
        "    self.model = ALSModel.load(\"als_model\")\n",
        "\n",
        "    non_starred_train_df = new_repos_df.select(\"repo_id\").join(new_users_df.select(\"user_id\")).exceptAll(train)\n",
        "    non_starred_train_df = non_starred_train_df.persist(StorageLevel.MEMORY_ONLY)\n",
        "    self.train_matrix = train.withColumn(\"starred\", lit(1)).union(non_starred_train_df.withColumn(\"starred\", lit(0)))\n",
        "    self.train_matrix = train_matrix.persist(StorageLevel.MEMORY_ONLY)\n",
        "\n",
        "  def predict_from_user(self, user_id, K):\n",
        "    user_starred_repos = self.starred_repos.filter(col(\"user_id\") == user_id).select(\"repo_id\")\n",
        "    non_starred_df = self.starred_repos.select(\"repo_id\").distinct().exceptAll(user_starred_repos).withColumn(\"user_id\", lit(user_id))\n",
        "\n",
        "    return self.predict_non_starred_repos(self.model, non_starred_df, K)\n",
        "\n",
        "  def predict_from_repos(self, starred_repos_list, K):\n",
        "\n",
        "    user_id = 999999\n",
        "    user_starred_repos_df = spark.createDataFrame([(repo_id, user_id) for repo_id in starred_repos_list], [\"repo_id\", \"user_id\"])\n",
        "    non_starred_df = self.starred_repos.select(\"repo_id\").distinct().exceptAll(user_starred_repos_df.select(\"repo_id\")).withColumn(\"user_id\", lit(user_id))\n",
        "    new_user_ratings = user_starred_repos_df.withColumn(\"rating\", lit(1)).union(non_starred_df.withColumn(\"rating\", lit(0)))\n",
        "    new_train_matrix = self.train_matrix.union(new_user_ratings)\n",
        "\n",
        "    als_params = {\n",
        "      \"rank\": 5,\n",
        "      \"maxIter\": 20, \n",
        "      \"userCol\": \"user_id\", \n",
        "      \"itemCol\": \"repo_id\",\n",
        "      \"ratingCol\": \"starred\", \n",
        "      \"coldStartStrategy\": \"drop\",\n",
        "      \"seed\": 42,\n",
        "      \"regParam\": 0.1,\n",
        "      \"implicitPrefs\": True,\n",
        "      \"nonnegative\": False,\n",
        "      \"alpha\": 1\n",
        "    }\n",
        "    temp_als = ALS(**als_params)\n",
        "    temp_model = temp_als.fit(new_train_matrix)\n",
        "\n",
        "    non_starred_df = self.starred_repos.select(\"repo_id\").distinct().filter(~col(\"repo_id\").isin(starred_repos_list)).withColumn(\"user_id\", lit(user_id))\n",
        "\n",
        "    return self.predict_non_starred_repos(temp_model, non_starred_df, K)\n",
        "  \n",
        "  def predict_non_starred_repos(self, model, non_starred_df, K):\n",
        "    predict = model.transform(non_starred_df)\n",
        "\n",
        "    top_items = predict.sort(\"prediction\", ascending=False).limit(K)\n",
        "    top_items = top_items.withColumnRenamed(\"prediction\", \"score\").select(\"repo_id\", \"score\")\n",
        "    return top_items\n",
        "\n",
        "alsm = MatrixFactorization(users_df, repos_df, train)"
      ],
      "execution_count": null,
      "outputs": []
    },
    {
      "cell_type": "code",
      "metadata": {
        "colab": {
          "base_uri": "https://localhost:8080/",
          "height": 795
        },
        "cellView": "form",
        "id": "CDA4nXF2hOeo",
        "outputId": "d49238cd-c16c-428c-a578-5e3e967898be"
      },
      "source": [
        "#@title Predict from user id\n",
        "user_id = 463 #@param {type: \"integer\"}\n",
        "n_items = 5 #@param {type: \"integer\"}\n",
        "recommendations = alsm.predict_from_user(user_id, n_items)\n",
        "\n",
        "display(HTML(\"<h3>Repos previously starred by user \" + str(user_id) + \"</h3>\"))\n",
        "display(train.filter(col(\"user_id\") == user_id) \\\n",
        "  .join(new_repos_df, \"repo_id\") \\\n",
        "  .toPandas())\n",
        "\n",
        "display(HTML(\"<br /><h3>Predicted repos for user \" + str(user_id) + \"</h3>\"))\n",
        "display(recommendations.join(new_repos_df, \"repo_id\").toPandas().sort_values(\"score\", ascending=False))\n",
        "\n",
        "display(HTML(\"<br /><h3>Ground Truth for user \" + str(user_id) + \"</h3>\"))\n",
        "test.filter(col(\"user_id\") == user_id) \\\n",
        "  .join(new_repos_df, \"repo_id\") \\\n",
        "  .toPandas()"
      ],
      "execution_count": null,
      "outputs": [
        {
          "output_type": "display_data",
          "data": {
            "text/html": [
              "<h3>Repos previously starred by user 463</h3>"
            ],
            "text/plain": [
              "<IPython.core.display.HTML object>"
            ]
          },
          "metadata": {}
        },
        {
          "output_type": "display_data",
          "data": {
            "text/html": [
              "<div>\n",
              "<style scoped>\n",
              "    .dataframe tbody tr th:only-of-type {\n",
              "        vertical-align: middle;\n",
              "    }\n",
              "\n",
              "    .dataframe tbody tr th {\n",
              "        vertical-align: top;\n",
              "    }\n",
              "\n",
              "    .dataframe thead th {\n",
              "        text-align: right;\n",
              "    }\n",
              "</style>\n",
              "<table border=\"1\" class=\"dataframe\">\n",
              "  <thead>\n",
              "    <tr style=\"text-align: right;\">\n",
              "      <th></th>\n",
              "      <th>repo_id</th>\n",
              "      <th>user_id</th>\n",
              "      <th>creator</th>\n",
              "      <th>name</th>\n",
              "      <th>about</th>\n",
              "      <th>language</th>\n",
              "      <th>stars</th>\n",
              "      <th>forks</th>\n",
              "      <th>updated</th>\n",
              "      <th>sponsor</th>\n",
              "    </tr>\n",
              "  </thead>\n",
              "  <tbody>\n",
              "    <tr>\n",
              "      <th>0</th>\n",
              "      <td>2</td>\n",
              "      <td>463</td>\n",
              "      <td>facebook</td>\n",
              "      <td>react</td>\n",
              "      <td>A declarative, efficient, and flexible JavaScr...</td>\n",
              "      <td>JavaScript</td>\n",
              "      <td>170264</td>\n",
              "      <td>34406</td>\n",
              "      <td>2021-06-22 06:08:58</td>\n",
              "      <td>0</td>\n",
              "    </tr>\n",
              "    <tr>\n",
              "      <th>1</th>\n",
              "      <td>169</td>\n",
              "      <td>463</td>\n",
              "      <td>date-fns</td>\n",
              "      <td>date-fns</td>\n",
              "      <td>⏳ Modern JavaScript date utility library ⌛️</td>\n",
              "      <td>JavaScript</td>\n",
              "      <td>26155</td>\n",
              "      <td>1260</td>\n",
              "      <td>2021-06-21 12:37:46</td>\n",
              "      <td>0</td>\n",
              "    </tr>\n",
              "    <tr>\n",
              "      <th>2</th>\n",
              "      <td>13629</td>\n",
              "      <td>463</td>\n",
              "      <td>square</td>\n",
              "      <td>okhttp</td>\n",
              "      <td>Square’s meticulous HTTP client for the JVM, A...</td>\n",
              "      <td>Java</td>\n",
              "      <td>40244</td>\n",
              "      <td>8538</td>\n",
              "      <td>2021-06-14 08:10:00</td>\n",
              "      <td>0</td>\n",
              "    </tr>\n",
              "    <tr>\n",
              "      <th>3</th>\n",
              "      <td>25974</td>\n",
              "      <td>463</td>\n",
              "      <td>square</td>\n",
              "      <td>retrofit</td>\n",
              "      <td>A type-safe HTTP client for Android and the JVM</td>\n",
              "      <td>Java</td>\n",
              "      <td>38265</td>\n",
              "      <td>6872</td>\n",
              "      <td>2021-06-24 19:20:04</td>\n",
              "      <td>0</td>\n",
              "    </tr>\n",
              "  </tbody>\n",
              "</table>\n",
              "</div>"
            ],
            "text/plain": [
              "   repo_id  user_id   creator  ...  forks             updated sponsor\n",
              "0        2      463  facebook  ...  34406 2021-06-22 06:08:58       0\n",
              "1      169      463  date-fns  ...   1260 2021-06-21 12:37:46       0\n",
              "2    13629      463    square  ...   8538 2021-06-14 08:10:00       0\n",
              "3    25974      463    square  ...   6872 2021-06-24 19:20:04       0\n",
              "\n",
              "[4 rows x 10 columns]"
            ]
          },
          "metadata": {}
        },
        {
          "output_type": "display_data",
          "data": {
            "text/html": [
              "<br /><h3>Predicted repos for user 463</h3>"
            ],
            "text/plain": [
              "<IPython.core.display.HTML object>"
            ]
          },
          "metadata": {}
        },
        {
          "output_type": "display_data",
          "data": {
            "text/html": [
              "<div>\n",
              "<style scoped>\n",
              "    .dataframe tbody tr th:only-of-type {\n",
              "        vertical-align: middle;\n",
              "    }\n",
              "\n",
              "    .dataframe tbody tr th {\n",
              "        vertical-align: top;\n",
              "    }\n",
              "\n",
              "    .dataframe thead th {\n",
              "        text-align: right;\n",
              "    }\n",
              "</style>\n",
              "<table border=\"1\" class=\"dataframe\">\n",
              "  <thead>\n",
              "    <tr style=\"text-align: right;\">\n",
              "      <th></th>\n",
              "      <th>repo_id</th>\n",
              "      <th>score</th>\n",
              "      <th>creator</th>\n",
              "      <th>name</th>\n",
              "      <th>about</th>\n",
              "      <th>language</th>\n",
              "      <th>stars</th>\n",
              "      <th>forks</th>\n",
              "      <th>updated</th>\n",
              "      <th>sponsor</th>\n",
              "    </tr>\n",
              "  </thead>\n",
              "  <tbody>\n",
              "    <tr>\n",
              "      <th>0</th>\n",
              "      <td>35</td>\n",
              "      <td>0.088463</td>\n",
              "      <td>microsoft</td>\n",
              "      <td>vscode</td>\n",
              "      <td>Visual Studio Code</td>\n",
              "      <td>TypeScript</td>\n",
              "      <td>117529</td>\n",
              "      <td>19179</td>\n",
              "      <td>2021-06-22 08:42:46</td>\n",
              "      <td>0</td>\n",
              "    </tr>\n",
              "    <tr>\n",
              "      <th>2</th>\n",
              "      <td>352</td>\n",
              "      <td>0.088030</td>\n",
              "      <td>vuejs</td>\n",
              "      <td>vue</td>\n",
              "      <td>🖖 Vue.js is a progressive, incrementally-adopt...</td>\n",
              "      <td>JavaScript</td>\n",
              "      <td>184750</td>\n",
              "      <td>29397</td>\n",
              "      <td>2021-06-20 19:50:52</td>\n",
              "      <td>0</td>\n",
              "    </tr>\n",
              "    <tr>\n",
              "      <th>1</th>\n",
              "      <td>120</td>\n",
              "      <td>0.073240</td>\n",
              "      <td>nodejs</td>\n",
              "      <td>node</td>\n",
              "      <td>Node.js JavaScript runtime ✨🐢🚀✨</td>\n",
              "      <td>JavaScript</td>\n",
              "      <td>79974</td>\n",
              "      <td>20533</td>\n",
              "      <td>2021-06-22 08:41:01</td>\n",
              "      <td>0</td>\n",
              "    </tr>\n",
              "    <tr>\n",
              "      <th>3</th>\n",
              "      <td>398</td>\n",
              "      <td>0.072026</td>\n",
              "      <td>microsoft</td>\n",
              "      <td>TypeScript</td>\n",
              "      <td>TypeScript is a superset of JavaScript that co...</td>\n",
              "      <td>TypeScript</td>\n",
              "      <td>72208</td>\n",
              "      <td>9438</td>\n",
              "      <td>2021-06-22 07:25:10</td>\n",
              "      <td>0</td>\n",
              "    </tr>\n",
              "    <tr>\n",
              "      <th>4</th>\n",
              "      <td>615</td>\n",
              "      <td>0.071224</td>\n",
              "      <td>electron</td>\n",
              "      <td>electron</td>\n",
              "      <td>Build cross-platform desktop apps with JavaScr...</td>\n",
              "      <td>C++</td>\n",
              "      <td>94042</td>\n",
              "      <td>12446</td>\n",
              "      <td>2021-06-22 08:39:16</td>\n",
              "      <td>0</td>\n",
              "    </tr>\n",
              "  </tbody>\n",
              "</table>\n",
              "</div>"
            ],
            "text/plain": [
              "   repo_id     score    creator  ...  forks             updated sponsor\n",
              "0       35  0.088463  microsoft  ...  19179 2021-06-22 08:42:46       0\n",
              "2      352  0.088030      vuejs  ...  29397 2021-06-20 19:50:52       0\n",
              "1      120  0.073240     nodejs  ...  20533 2021-06-22 08:41:01       0\n",
              "3      398  0.072026  microsoft  ...   9438 2021-06-22 07:25:10       0\n",
              "4      615  0.071224   electron  ...  12446 2021-06-22 08:39:16       0\n",
              "\n",
              "[5 rows x 10 columns]"
            ]
          },
          "metadata": {}
        },
        {
          "output_type": "display_data",
          "data": {
            "text/html": [
              "<br /><h3>Ground Truth for user 463</h3>"
            ],
            "text/plain": [
              "<IPython.core.display.HTML object>"
            ]
          },
          "metadata": {}
        },
        {
          "output_type": "execute_result",
          "data": {
            "text/html": [
              "<div>\n",
              "<style scoped>\n",
              "    .dataframe tbody tr th:only-of-type {\n",
              "        vertical-align: middle;\n",
              "    }\n",
              "\n",
              "    .dataframe tbody tr th {\n",
              "        vertical-align: top;\n",
              "    }\n",
              "\n",
              "    .dataframe thead th {\n",
              "        text-align: right;\n",
              "    }\n",
              "</style>\n",
              "<table border=\"1\" class=\"dataframe\">\n",
              "  <thead>\n",
              "    <tr style=\"text-align: right;\">\n",
              "      <th></th>\n",
              "      <th>repo_id</th>\n",
              "      <th>user_id</th>\n",
              "      <th>creator</th>\n",
              "      <th>name</th>\n",
              "      <th>about</th>\n",
              "      <th>language</th>\n",
              "      <th>stars</th>\n",
              "      <th>forks</th>\n",
              "      <th>updated</th>\n",
              "      <th>sponsor</th>\n",
              "    </tr>\n",
              "  </thead>\n",
              "  <tbody>\n",
              "    <tr>\n",
              "      <th>0</th>\n",
              "      <td>120</td>\n",
              "      <td>463</td>\n",
              "      <td>nodejs</td>\n",
              "      <td>node</td>\n",
              "      <td>Node.js JavaScript runtime ✨🐢🚀✨</td>\n",
              "      <td>JavaScript</td>\n",
              "      <td>79974</td>\n",
              "      <td>20533</td>\n",
              "      <td>2021-06-22 08:41:01</td>\n",
              "      <td>0</td>\n",
              "    </tr>\n",
              "    <tr>\n",
              "      <th>1</th>\n",
              "      <td>204</td>\n",
              "      <td>463</td>\n",
              "      <td>django</td>\n",
              "      <td>django</td>\n",
              "      <td>The Web framework for perfectionists with dead...</td>\n",
              "      <td>Python</td>\n",
              "      <td>58081</td>\n",
              "      <td>24842</td>\n",
              "      <td>2021-06-22 08:28:44</td>\n",
              "      <td>1</td>\n",
              "    </tr>\n",
              "    <tr>\n",
              "      <th>2</th>\n",
              "      <td>961</td>\n",
              "      <td>463</td>\n",
              "      <td>bumptech</td>\n",
              "      <td>glide</td>\n",
              "      <td>An image loading and caching library for Andro...</td>\n",
              "      <td>Java</td>\n",
              "      <td>31342</td>\n",
              "      <td>5710</td>\n",
              "      <td>2021-06-11 23:50:48</td>\n",
              "      <td>0</td>\n",
              "    </tr>\n",
              "    <tr>\n",
              "      <th>3</th>\n",
              "      <td>1279</td>\n",
              "      <td>463</td>\n",
              "      <td>ReactiveX</td>\n",
              "      <td>rxjs</td>\n",
              "      <td>A reactive programming library for JavaScript</td>\n",
              "      <td>TypeScript</td>\n",
              "      <td>25031</td>\n",
              "      <td>2575</td>\n",
              "      <td>2021-06-21 19:24:28</td>\n",
              "      <td>0</td>\n",
              "    </tr>\n",
              "    <tr>\n",
              "      <th>4</th>\n",
              "      <td>1369</td>\n",
              "      <td>463</td>\n",
              "      <td>r-spacex</td>\n",
              "      <td>SpaceX-API</td>\n",
              "      <td>🚀 Open Source REST API for SpaceX launch, rock...</td>\n",
              "      <td>JavaScript</td>\n",
              "      <td>8548</td>\n",
              "      <td>686</td>\n",
              "      <td>2021-06-19 16:04:27</td>\n",
              "      <td>0</td>\n",
              "    </tr>\n",
              "    <tr>\n",
              "      <th>5</th>\n",
              "      <td>2045</td>\n",
              "      <td>463</td>\n",
              "      <td>DrKLO</td>\n",
              "      <td>Telegram</td>\n",
              "      <td>Telegram for Android source</td>\n",
              "      <td>C++</td>\n",
              "      <td>17143</td>\n",
              "      <td>5993</td>\n",
              "      <td>2021-06-03 05:06:31</td>\n",
              "      <td>0</td>\n",
              "    </tr>\n",
              "    <tr>\n",
              "      <th>6</th>\n",
              "      <td>8254</td>\n",
              "      <td>463</td>\n",
              "      <td>google</td>\n",
              "      <td>gson</td>\n",
              "      <td>A Java serialization/deserialization library t...</td>\n",
              "      <td>Java</td>\n",
              "      <td>19688</td>\n",
              "      <td>3818</td>\n",
              "      <td>2021-06-19 12:39:51</td>\n",
              "      <td>0</td>\n",
              "    </tr>\n",
              "    <tr>\n",
              "      <th>7</th>\n",
              "      <td>9684</td>\n",
              "      <td>463</td>\n",
              "      <td>jquense</td>\n",
              "      <td>yup</td>\n",
              "      <td>Dead simple Object schema validation</td>\n",
              "      <td>TypeScript</td>\n",
              "      <td>13746</td>\n",
              "      <td>616</td>\n",
              "      <td>2021-06-21 18:30:52</td>\n",
              "      <td>0</td>\n",
              "    </tr>\n",
              "  </tbody>\n",
              "</table>\n",
              "</div>"
            ],
            "text/plain": [
              "   repo_id  user_id    creator  ...  forks             updated sponsor\n",
              "0      120      463     nodejs  ...  20533 2021-06-22 08:41:01       0\n",
              "1      204      463     django  ...  24842 2021-06-22 08:28:44       1\n",
              "2      961      463   bumptech  ...   5710 2021-06-11 23:50:48       0\n",
              "3     1279      463  ReactiveX  ...   2575 2021-06-21 19:24:28       0\n",
              "4     1369      463   r-spacex  ...    686 2021-06-19 16:04:27       0\n",
              "5     2045      463      DrKLO  ...   5993 2021-06-03 05:06:31       0\n",
              "6     8254      463     google  ...   3818 2021-06-19 12:39:51       0\n",
              "7     9684      463    jquense  ...    616 2021-06-21 18:30:52       0\n",
              "\n",
              "[8 rows x 10 columns]"
            ]
          },
          "metadata": {},
          "execution_count": 90
        }
      ]
    },
    {
      "cell_type": "code",
      "metadata": {
        "colab": {
          "base_uri": "https://localhost:8080/",
          "height": 365
        },
        "cellView": "form",
        "id": "8HsVOgsphOep",
        "outputId": "a6346a2d-b9ca-44d7-e965-ef850b2f83a7"
      },
      "source": [
        "#@title Predict from repos id\n",
        "repos_id = [1, 5, 6, 8] #@param {type:\"raw\"}\n",
        "n_items = 5 #@param {type: \"integer\"}\n",
        "recommendations = alsm.predict_from_repos(repos_id, n_items)\n",
        "\n",
        "display(HTML(\"<h3>Repos previously starred</h3>\"))\n",
        "display(new_repos_df.filter(col(\"repo_id\").isin(repos_id)).toPandas())\n",
        "\n",
        "display(HTML(\"<br /><h3>Predicted repos</h3>\"))\n",
        "display(recommendations.join(new_repos_df, \"repo_id\").toPandas().sort_values(\"score\", ascending=False))"
      ],
      "execution_count": null,
      "outputs": [
        {
          "output_type": "display_data",
          "data": {
            "text/html": [
              "<h3>Repos previously starred</h3>"
            ],
            "text/plain": [
              "<IPython.core.display.HTML object>"
            ]
          },
          "metadata": {}
        },
        {
          "output_type": "display_data",
          "data": {
            "text/html": [
              "<div>\n",
              "<style scoped>\n",
              "    .dataframe tbody tr th:only-of-type {\n",
              "        vertical-align: middle;\n",
              "    }\n",
              "\n",
              "    .dataframe tbody tr th {\n",
              "        vertical-align: top;\n",
              "    }\n",
              "\n",
              "    .dataframe thead th {\n",
              "        text-align: right;\n",
              "    }\n",
              "</style>\n",
              "<table border=\"1\" class=\"dataframe\">\n",
              "  <thead>\n",
              "    <tr style=\"text-align: right;\">\n",
              "      <th></th>\n",
              "      <th>repo_id</th>\n",
              "      <th>creator</th>\n",
              "      <th>name</th>\n",
              "      <th>about</th>\n",
              "      <th>language</th>\n",
              "      <th>stars</th>\n",
              "      <th>forks</th>\n",
              "      <th>updated</th>\n",
              "      <th>sponsor</th>\n",
              "    </tr>\n",
              "  </thead>\n",
              "  <tbody>\n",
              "    <tr>\n",
              "      <th>0</th>\n",
              "      <td>1</td>\n",
              "      <td>vercel</td>\n",
              "      <td>next.js</td>\n",
              "      <td>The React Framework</td>\n",
              "      <td>JavaScript</td>\n",
              "      <td>69687</td>\n",
              "      <td>13111</td>\n",
              "      <td>2021-06-22 07:49:26</td>\n",
              "      <td>0</td>\n",
              "    </tr>\n",
              "  </tbody>\n",
              "</table>\n",
              "</div>"
            ],
            "text/plain": [
              "   repo_id creator     name  ...  forks             updated  sponsor\n",
              "0        1  vercel  next.js  ...  13111 2021-06-22 07:49:26        0\n",
              "\n",
              "[1 rows x 9 columns]"
            ]
          },
          "metadata": {}
        },
        {
          "output_type": "display_data",
          "data": {
            "text/html": [
              "<br /><h3>Predicted repos</h3>"
            ],
            "text/plain": [
              "<IPython.core.display.HTML object>"
            ]
          },
          "metadata": {}
        },
        {
          "output_type": "display_data",
          "data": {
            "text/html": [
              "<div>\n",
              "<style scoped>\n",
              "    .dataframe tbody tr th:only-of-type {\n",
              "        vertical-align: middle;\n",
              "    }\n",
              "\n",
              "    .dataframe tbody tr th {\n",
              "        vertical-align: top;\n",
              "    }\n",
              "\n",
              "    .dataframe thead th {\n",
              "        text-align: right;\n",
              "    }\n",
              "</style>\n",
              "<table border=\"1\" class=\"dataframe\">\n",
              "  <thead>\n",
              "    <tr style=\"text-align: right;\">\n",
              "      <th></th>\n",
              "      <th>repo_id</th>\n",
              "      <th>score</th>\n",
              "      <th>creator</th>\n",
              "      <th>name</th>\n",
              "      <th>about</th>\n",
              "      <th>language</th>\n",
              "      <th>stars</th>\n",
              "      <th>forks</th>\n",
              "      <th>updated</th>\n",
              "      <th>sponsor</th>\n",
              "    </tr>\n",
              "  </thead>\n",
              "  <tbody>\n",
              "    <tr>\n",
              "      <th>0</th>\n",
              "      <td>2</td>\n",
              "      <td>0.043444</td>\n",
              "      <td>facebook</td>\n",
              "      <td>react</td>\n",
              "      <td>A declarative, efficient, and flexible JavaScr...</td>\n",
              "      <td>JavaScript</td>\n",
              "      <td>170264</td>\n",
              "      <td>34406</td>\n",
              "      <td>2021-06-22 06:08:58</td>\n",
              "      <td>0</td>\n",
              "    </tr>\n",
              "    <tr>\n",
              "      <th>1</th>\n",
              "      <td>35</td>\n",
              "      <td>0.037504</td>\n",
              "      <td>microsoft</td>\n",
              "      <td>vscode</td>\n",
              "      <td>Visual Studio Code</td>\n",
              "      <td>TypeScript</td>\n",
              "      <td>117529</td>\n",
              "      <td>19179</td>\n",
              "      <td>2021-06-22 08:42:46</td>\n",
              "      <td>0</td>\n",
              "    </tr>\n",
              "    <tr>\n",
              "      <th>4</th>\n",
              "      <td>398</td>\n",
              "      <td>0.032068</td>\n",
              "      <td>microsoft</td>\n",
              "      <td>TypeScript</td>\n",
              "      <td>TypeScript is a superset of JavaScript that co...</td>\n",
              "      <td>TypeScript</td>\n",
              "      <td>72208</td>\n",
              "      <td>9438</td>\n",
              "      <td>2021-06-22 07:25:10</td>\n",
              "      <td>0</td>\n",
              "    </tr>\n",
              "    <tr>\n",
              "      <th>3</th>\n",
              "      <td>120</td>\n",
              "      <td>0.031155</td>\n",
              "      <td>nodejs</td>\n",
              "      <td>node</td>\n",
              "      <td>Node.js JavaScript runtime ✨🐢🚀✨</td>\n",
              "      <td>JavaScript</td>\n",
              "      <td>79974</td>\n",
              "      <td>20533</td>\n",
              "      <td>2021-06-22 08:41:01</td>\n",
              "      <td>0</td>\n",
              "    </tr>\n",
              "    <tr>\n",
              "      <th>2</th>\n",
              "      <td>119</td>\n",
              "      <td>0.030806</td>\n",
              "      <td>denoland</td>\n",
              "      <td>deno</td>\n",
              "      <td>A secure JavaScript and TypeScript runtime</td>\n",
              "      <td>Rust</td>\n",
              "      <td>76219</td>\n",
              "      <td>4010</td>\n",
              "      <td>2021-06-22 07:18:01</td>\n",
              "      <td>1</td>\n",
              "    </tr>\n",
              "  </tbody>\n",
              "</table>\n",
              "</div>"
            ],
            "text/plain": [
              "   repo_id     score    creator  ...  forks             updated sponsor\n",
              "0        2  0.043444   facebook  ...  34406 2021-06-22 06:08:58       0\n",
              "1       35  0.037504  microsoft  ...  19179 2021-06-22 08:42:46       0\n",
              "4      398  0.032068  microsoft  ...   9438 2021-06-22 07:25:10       0\n",
              "3      120  0.031155     nodejs  ...  20533 2021-06-22 08:41:01       0\n",
              "2      119  0.030806   denoland  ...   4010 2021-06-22 07:18:01       1\n",
              "\n",
              "[5 rows x 10 columns]"
            ]
          },
          "metadata": {}
        }
      ]
    },
    {
      "cell_type": "markdown",
      "metadata": {
        "id": "ClwKUUpHz-PE"
      },
      "source": [
        "## WebServer"
      ]
    },
    {
      "cell_type": "code",
      "metadata": {
        "id": "brqcVx4gIDSf",
        "colab": {
          "base_uri": "https://localhost:8080/"
        },
        "outputId": "f0b12921-d8f2-443a-f6af-a1e5716ff8ee"
      },
      "source": [
        "!pip install flask-ngrok\n",
        "!pip install flask_cors"
      ],
      "execution_count": null,
      "outputs": [
        {
          "output_type": "stream",
          "text": [
            "Collecting flask-ngrok\n",
            "  Downloading flask_ngrok-0.0.25-py3-none-any.whl (3.1 kB)\n",
            "Requirement already satisfied: requests in /usr/local/lib/python3.7/dist-packages (from flask-ngrok) (2.23.0)\n",
            "Requirement already satisfied: Flask>=0.8 in /usr/local/lib/python3.7/dist-packages (from flask-ngrok) (1.1.4)\n",
            "Requirement already satisfied: click<8.0,>=5.1 in /usr/local/lib/python3.7/dist-packages (from Flask>=0.8->flask-ngrok) (7.1.2)\n",
            "Requirement already satisfied: itsdangerous<2.0,>=0.24 in /usr/local/lib/python3.7/dist-packages (from Flask>=0.8->flask-ngrok) (1.1.0)\n",
            "Requirement already satisfied: Jinja2<3.0,>=2.10.1 in /usr/local/lib/python3.7/dist-packages (from Flask>=0.8->flask-ngrok) (2.11.3)\n",
            "Requirement already satisfied: Werkzeug<2.0,>=0.15 in /usr/local/lib/python3.7/dist-packages (from Flask>=0.8->flask-ngrok) (1.0.1)\n",
            "Requirement already satisfied: MarkupSafe>=0.23 in /usr/local/lib/python3.7/dist-packages (from Jinja2<3.0,>=2.10.1->Flask>=0.8->flask-ngrok) (2.0.1)\n",
            "Requirement already satisfied: certifi>=2017.4.17 in /usr/local/lib/python3.7/dist-packages (from requests->flask-ngrok) (2021.5.30)\n",
            "Requirement already satisfied: chardet<4,>=3.0.2 in /usr/local/lib/python3.7/dist-packages (from requests->flask-ngrok) (3.0.4)\n",
            "Requirement already satisfied: idna<3,>=2.5 in /usr/local/lib/python3.7/dist-packages (from requests->flask-ngrok) (2.10)\n",
            "Requirement already satisfied: urllib3!=1.25.0,!=1.25.1,<1.26,>=1.21.1 in /usr/local/lib/python3.7/dist-packages (from requests->flask-ngrok) (1.24.3)\n",
            "Installing collected packages: flask-ngrok\n",
            "Successfully installed flask-ngrok-0.0.25\n",
            "Collecting flask_cors\n",
            "  Downloading Flask_Cors-3.0.10-py2.py3-none-any.whl (14 kB)\n",
            "Requirement already satisfied: Six in /usr/local/lib/python3.7/dist-packages (from flask_cors) (1.15.0)\n",
            "Requirement already satisfied: Flask>=0.9 in /usr/local/lib/python3.7/dist-packages (from flask_cors) (1.1.4)\n",
            "Requirement already satisfied: itsdangerous<2.0,>=0.24 in /usr/local/lib/python3.7/dist-packages (from Flask>=0.9->flask_cors) (1.1.0)\n",
            "Requirement already satisfied: Werkzeug<2.0,>=0.15 in /usr/local/lib/python3.7/dist-packages (from Flask>=0.9->flask_cors) (1.0.1)\n",
            "Requirement already satisfied: click<8.0,>=5.1 in /usr/local/lib/python3.7/dist-packages (from Flask>=0.9->flask_cors) (7.1.2)\n",
            "Requirement already satisfied: Jinja2<3.0,>=2.10.1 in /usr/local/lib/python3.7/dist-packages (from Flask>=0.9->flask_cors) (2.11.3)\n",
            "Requirement already satisfied: MarkupSafe>=0.23 in /usr/local/lib/python3.7/dist-packages (from Jinja2<3.0,>=2.10.1->Flask>=0.9->flask_cors) (2.0.1)\n",
            "Installing collected packages: flask-cors\n",
            "Successfully installed flask-cors-3.0.10\n"
          ],
          "name": "stdout"
        }
      ]
    },
    {
      "cell_type": "code",
      "metadata": {
        "id": "eVDWlacZQzvP"
      },
      "source": [
        "models = {\"CB\": cbm, \"MF\": alsm, \"IB\": ibm, \"UB\": ubm}\n",
        "\n",
        "repos_dict = new_repos_df.toPandas().to_dict(\"records\")\n",
        "\n",
        "users_dict = new_users_df.join(new_starred_df, \"user_id\") \\\n",
        "  .groupBy(\"user_id\", \"name\").count().select(col(\"user_id\") \\\n",
        "  .alias(\"userId\"), \"name\", col(\"count\").alias(\"numStarredRepos\")) \\\n",
        "  .toPandas().to_dict(\"records\")"
      ],
      "execution_count": null,
      "outputs": []
    },
    {
      "cell_type": "code",
      "metadata": {
        "id": "42yYiPFkIF4I",
        "colab": {
          "base_uri": "https://localhost:8080/"
        },
        "outputId": "d5ae3c0f-4c70-4d9c-afa5-80246dcef50f"
      },
      "source": [
        "from flask import Flask, jsonify, request\n",
        "from flask_cors import CORS, cross_origin\n",
        "from flask_ngrok import run_with_ngrok\n",
        "\n",
        "app = Flask(__name__)\n",
        "CORS(app)\n",
        "run_with_ngrok(app)\n",
        "\n",
        "@app.route(\"/recommend\", methods=[\"POST\"])\n",
        "def recommend():\n",
        "  data = request.get_json()\n",
        "  print(\"Received\", data)\n",
        "\n",
        "  model = data[\"model\"]\n",
        "  params = data[\"params\"]\n",
        "\n",
        "  fromUser = \"user_id\" in params\n",
        "\n",
        "  response = {}\n",
        "\n",
        "  # Predict recommended repos\n",
        "  predictions = models[model].predict_from_user(**params) if fromUser else models[model].predict_from_repos(**params)\n",
        "  predictions = predictions.join(new_repos_df, \"repo_id\")\n",
        "\n",
        "  predictions = predictions.toPandas().to_dict(\"records\")\n",
        "  response[\"predictions\"] = predictions\n",
        "\n",
        "  # Get ground truth if the prediction is for a user\n",
        "  if fromUser:\n",
        "    gt = test.filter(col(\"user_id\") == params[\"user_id\"]).join(new_repos_df, \"repo_id\")\n",
        "    gt = gt.toPandas().to_dict(\"records\")\n",
        "    response[\"gt\"] = gt\n",
        "\n",
        "  # Get previously starred repos\n",
        "  if fromUser:\n",
        "    starred = train.filter(col(\"user_id\") == params[\"user_id\"]).select(\"repo_id\").join(new_repos_df, \"repo_id\")\n",
        "  else:\n",
        "    starred = repos_df.filter(col(\"repo_id\").isin(params[\"starred_repos_list\"]))\n",
        "  \n",
        "  starred = starred.toPandas().to_dict(\"records\")\n",
        "  response[\"starred\"] = starred\n",
        "  \n",
        "  return jsonify(response)\n",
        "\n",
        "@app.route(\"/users\")\n",
        "def get_users():\n",
        "  return jsonify(users_dict)\n",
        "\n",
        "@app.route(\"/repos\")\n",
        "def get_repos():\n",
        "  return jsonify(repos_dict)\n",
        "\n",
        "if __name__ == '__main__':\n",
        "    app.run()"
      ],
      "execution_count": null,
      "outputs": [
        {
          "output_type": "stream",
          "text": [
            " * Serving Flask app \"__main__\" (lazy loading)\n",
            " * Environment: production\n",
            "\u001b[31m   WARNING: This is a development server. Do not use it in a production deployment.\u001b[0m\n",
            "\u001b[2m   Use a production WSGI server instead.\u001b[0m\n",
            " * Debug mode: off\n"
          ],
          "name": "stdout"
        },
        {
          "output_type": "stream",
          "text": [
            " * Running on http://127.0.0.1:5000/ (Press CTRL+C to quit)\n"
          ],
          "name": "stderr"
        },
        {
          "output_type": "stream",
          "text": [
            " * Running on http://a1c7-23-236-55-198.ngrok.io\n",
            " * Traffic stats available on http://127.0.0.1:4040\n"
          ],
          "name": "stdout"
        },
        {
          "output_type": "stream",
          "text": [
            "127.0.0.1 - - [25/Aug/2021 14:37:06] \"\u001b[33mGET / HTTP/1.1\u001b[0m\" 404 -\n",
            "127.0.0.1 - - [25/Aug/2021 14:37:15] \"\u001b[37mGET //users HTTP/1.1\u001b[0m\" 200 -\n",
            "127.0.0.1 - - [25/Aug/2021 14:37:15] \"\u001b[37mGET //repos HTTP/1.1\u001b[0m\" 200 -\n",
            "127.0.0.1 - - [25/Aug/2021 14:37:42] \"\u001b[37mGET //users HTTP/1.1\u001b[0m\" 200 -\n",
            "127.0.0.1 - - [25/Aug/2021 14:37:42] \"\u001b[37mGET //repos HTTP/1.1\u001b[0m\" 200 -\n",
            "127.0.0.1 - - [25/Aug/2021 14:37:49] \"\u001b[37mGET //users HTTP/1.1\u001b[0m\" 200 -\n",
            "127.0.0.1 - - [25/Aug/2021 14:37:49] \"\u001b[37mGET //repos HTTP/1.1\u001b[0m\" 200 -\n",
            "127.0.0.1 - - [25/Aug/2021 14:37:55] \"\u001b[37mOPTIONS //recommend HTTP/1.1\u001b[0m\" 200 -\n"
          ],
          "name": "stderr"
        },
        {
          "output_type": "stream",
          "text": [
            "Received {'model': 'CB', 'params': {'starred_repos_list': [648, 703], 'K': 2}}\n"
          ],
          "name": "stdout"
        },
        {
          "output_type": "stream",
          "text": [
            "127.0.0.1 - - [25/Aug/2021 14:37:58] \"\u001b[37mPOST //recommend HTTP/1.1\u001b[0m\" 200 -\n",
            "127.0.0.1 - - [25/Aug/2021 14:38:02] \"\u001b[37mGET //repos HTTP/1.1\u001b[0m\" 200 -\n",
            "127.0.0.1 - - [25/Aug/2021 14:38:02] \"\u001b[37mGET //users HTTP/1.1\u001b[0m\" 200 -\n",
            "127.0.0.1 - - [25/Aug/2021 14:42:00] \"\u001b[37mGET //repos HTTP/1.1\u001b[0m\" 200 -\n",
            "127.0.0.1 - - [25/Aug/2021 14:42:00] \"\u001b[37mGET //users HTTP/1.1\u001b[0m\" 200 -\n",
            "127.0.0.1 - - [25/Aug/2021 14:42:04] \"\u001b[37mGET //repos HTTP/1.1\u001b[0m\" 200 -\n",
            "127.0.0.1 - - [25/Aug/2021 14:42:04] \"\u001b[37mGET //users HTTP/1.1\u001b[0m\" 200 -\n",
            "127.0.0.1 - - [25/Aug/2021 14:42:13] \"\u001b[37mGET //users HTTP/1.1\u001b[0m\" 200 -\n",
            "127.0.0.1 - - [25/Aug/2021 14:42:13] \"\u001b[37mGET //repos HTTP/1.1\u001b[0m\" 200 -\n",
            "127.0.0.1 - - [25/Aug/2021 14:42:19] \"\u001b[37mGET //users HTTP/1.1\u001b[0m\" 200 -\n",
            "127.0.0.1 - - [25/Aug/2021 14:42:19] \"\u001b[37mGET //repos HTTP/1.1\u001b[0m\" 200 -\n",
            "127.0.0.1 - - [25/Aug/2021 14:42:28] \"\u001b[37mGET //repos HTTP/1.1\u001b[0m\" 200 -\n",
            "127.0.0.1 - - [25/Aug/2021 14:42:28] \"\u001b[37mGET //users HTTP/1.1\u001b[0m\" 200 -\n",
            "127.0.0.1 - - [25/Aug/2021 14:42:34] \"\u001b[37mGET //users HTTP/1.1\u001b[0m\" 200 -\n",
            "127.0.0.1 - - [25/Aug/2021 14:42:34] \"\u001b[37mGET //repos HTTP/1.1\u001b[0m\" 200 -\n",
            "127.0.0.1 - - [25/Aug/2021 14:42:43] \"\u001b[37mGET //users HTTP/1.1\u001b[0m\" 200 -\n",
            "127.0.0.1 - - [25/Aug/2021 14:42:43] \"\u001b[37mGET //repos HTTP/1.1\u001b[0m\" 200 -\n",
            "127.0.0.1 - - [25/Aug/2021 14:58:56] \"\u001b[37mGET //users HTTP/1.1\u001b[0m\" 200 -\n",
            "127.0.0.1 - - [25/Aug/2021 14:58:56] \"\u001b[37mGET //repos HTTP/1.1\u001b[0m\" 200 -\n",
            "127.0.0.1 - - [25/Aug/2021 14:59:07] \"\u001b[37mGET //users HTTP/1.1\u001b[0m\" 200 -\n",
            "127.0.0.1 - - [25/Aug/2021 14:59:07] \"\u001b[37mGET //repos HTTP/1.1\u001b[0m\" 200 -\n",
            "127.0.0.1 - - [25/Aug/2021 14:59:22] \"\u001b[37mOPTIONS //recommend HTTP/1.1\u001b[0m\" 200 -\n"
          ],
          "name": "stderr"
        },
        {
          "output_type": "stream",
          "text": [
            "Received {'model': 'IB', 'params': {'starred_repos_list': [648, 703, 176], 'K': 16}}\n"
          ],
          "name": "stdout"
        },
        {
          "output_type": "stream",
          "text": [
            "127.0.0.1 - - [25/Aug/2021 14:59:25] \"\u001b[37mPOST //recommend HTTP/1.1\u001b[0m\" 200 -\n",
            "127.0.0.1 - - [25/Aug/2021 14:59:53] \"\u001b[37mGET //repos HTTP/1.1\u001b[0m\" 200 -\n",
            "127.0.0.1 - - [25/Aug/2021 14:59:53] \"\u001b[37mGET //users HTTP/1.1\u001b[0m\" 200 -\n",
            "127.0.0.1 - - [25/Aug/2021 15:00:03] \"\u001b[37mOPTIONS //recommend HTTP/1.1\u001b[0m\" 200 -\n"
          ],
          "name": "stderr"
        },
        {
          "output_type": "stream",
          "text": [
            "Received {'model': 'IB', 'params': {'starred_repos_list': [703, 648, 721], 'K': 16}}\n"
          ],
          "name": "stdout"
        },
        {
          "output_type": "stream",
          "text": [
            "127.0.0.1 - - [25/Aug/2021 15:00:06] \"\u001b[37mPOST //recommend HTTP/1.1\u001b[0m\" 200 -\n",
            "127.0.0.1 - - [25/Aug/2021 15:04:42] \"\u001b[37mGET //repos HTTP/1.1\u001b[0m\" 200 -\n",
            "127.0.0.1 - - [25/Aug/2021 15:04:42] \"\u001b[37mGET //users HTTP/1.1\u001b[0m\" 200 -\n",
            "127.0.0.1 - - [25/Aug/2021 15:07:12] \"\u001b[37mGET //users HTTP/1.1\u001b[0m\" 200 -\n",
            "127.0.0.1 - - [25/Aug/2021 15:07:12] \"\u001b[37mGET //repos HTTP/1.1\u001b[0m\" 200 -\n"
          ],
          "name": "stderr"
        }
      ]
    }
  ]
}